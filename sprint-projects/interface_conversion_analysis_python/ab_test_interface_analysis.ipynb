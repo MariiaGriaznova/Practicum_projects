{
 "cells": [
  {
   "cell_type": "markdown",
   "id": "8ee7e322-e976-48d5-9589-456fdc884c1c",
   "metadata": {},
   "source": [
    "# Interface A/B Test: Does Simplification Increase Conversions?"
   ]
  },
  {
   "cell_type": "markdown",
   "id": "e2b87d61-2fce-40ed-a31d-a78261d73b6b",
   "metadata": {},
   "source": [
    "The client is the representatives of the BitMotion Kit online store, which sells gamified products for those who lead a healthy lifestyle. It has its own target audience, and even has hits: an expander with a counter and reminder, as well as an under-table exercise bike with Bluetooth.\n",
    "\n",
    "In the future, the company wants to expand the range of products. But before that, it needs to solve one problem. The interface of the online store is too complicated for users — this is what the reviews say.\n",
    "\n",
    "To attract new customers and increase sales, the store owners developed a new version of the site and tested it on some users. According to the idea, this solution will demonstrably increase the number of users who will make a purchase.\n",
    "\n",
    "The task is to evaluate the results of the A/B test."
   ]
  },
  {
   "cell_type": "markdown",
   "id": "cca8c5c3-064f-4823-a60c-25853e93f2d3",
   "metadata": {},
   "source": [
    "## Purpose and objectives of the study."
   ]
  },
  {
   "cell_type": "markdown",
   "id": "6cc26aa8-524e-4f58-84b4-a8dd012e5aec",
   "metadata": {},
   "source": [
    "It is necessary to test the hypothesis that simplifying the interface of an online store leads to an increase in the conversion of registered users into buyers within 7 days after registration, compared to the current interface.\n",
    "\n",
    "**Goal** - to find out whether there really was an increase in conversion (at least by 3 percentage points).\n",
    "\n",
    "**Tasks:**\n",
    "- Upload and prepare data;\n",
    "- Check the correctness of the A/B test;\n",
    "- Evaluate the performance metric;\n",
    "- Check the statistical significance of the difference;\n",
    "- Formulate conclusions and recommendations."
   ]
  },
  {
   "cell_type": "markdown",
   "id": "a50bafc3-f38e-43f2-85e8-8c13f2aa2635",
   "metadata": {},
   "source": [
    "## Data description."
   ]
  },
  {
   "cell_type": "markdown",
   "id": "9f8da700-0beb-47eb-8b48-4e992bc248db",
   "metadata": {},
   "source": [
    "The `participants` table contains information about A/B test participants:\n",
    "- `user_id` - Unique user identifier\n",
    "- `group` - Test group: A — control, B — test\n",
    "- `ab_test` - Test name (we are interested in interface_eu_test)\n",
    "- `device` - Device from which the user registered\n",
    "\n",
    "The `events` table records user events on the platform:\n",
    "- `user_id` - User identifier\n",
    "- `event_dt` - Date and time of the event\n",
    "- `event_name` - Event name\n",
    "- `details` - Additional information"
   ]
  },
  {
   "cell_type": "markdown",
   "id": "4e1c9048-1d8a-4c8f-a95a-5b1d5447d6b3",
   "metadata": {},
   "source": [
    "## Data and its integrity."
   ]
  },
  {
   "cell_type": "code",
   "execution_count": 1,
   "id": "7a0dd719-063b-4848-bcce-b7974d235f26",
   "metadata": {},
   "outputs": [],
   "source": [
    "# Import libraries\n",
    "import pandas as pd\n",
    "import matplotlib.pyplot as plt\n",
    "import seaborn as sns\n",
    "\n",
    "from math import ceil\n",
    "\n",
    "from scipy import stats\n",
    "\n",
    "!pip install matplotlib-venn -q\n",
    "from matplotlib_venn import venn2\n",
    "\n",
    "from statsmodels.stats.power import NormalIndPower\n",
    "from statsmodels.stats.proportion import proportion_effectsize\n",
    "from statsmodels.stats.proportion import proportions_ztest"
   ]
  },
  {
   "cell_type": "code",
   "execution_count": 2,
   "id": "31c5b65f-c3a3-42d7-8018-f491146c9197",
   "metadata": {},
   "outputs": [
    {
     "data": {
      "text/plain": [
       "'participants'"
      ]
     },
     "metadata": {},
     "output_type": "display_data"
    },
    {
     "data": {
      "text/html": [
       "<div>\n",
       "<style scoped>\n",
       "    .dataframe tbody tr th:only-of-type {\n",
       "        vertical-align: middle;\n",
       "    }\n",
       "\n",
       "    .dataframe tbody tr th {\n",
       "        vertical-align: top;\n",
       "    }\n",
       "\n",
       "    .dataframe thead th {\n",
       "        text-align: right;\n",
       "    }\n",
       "</style>\n",
       "<table border=\"1\" class=\"dataframe\">\n",
       "  <thead>\n",
       "    <tr style=\"text-align: right;\">\n",
       "      <th></th>\n",
       "      <th>user_id</th>\n",
       "      <th>group</th>\n",
       "      <th>ab_test</th>\n",
       "      <th>device</th>\n",
       "    </tr>\n",
       "  </thead>\n",
       "  <tbody>\n",
       "    <tr>\n",
       "      <th>0</th>\n",
       "      <td>0002CE61FF2C4011</td>\n",
       "      <td>B</td>\n",
       "      <td>interface_eu_test</td>\n",
       "      <td>Mac</td>\n",
       "    </tr>\n",
       "    <tr>\n",
       "      <th>1</th>\n",
       "      <td>001064FEAAB631A1</td>\n",
       "      <td>B</td>\n",
       "      <td>recommender_system_test</td>\n",
       "      <td>Android</td>\n",
       "    </tr>\n",
       "    <tr>\n",
       "      <th>2</th>\n",
       "      <td>001064FEAAB631A1</td>\n",
       "      <td>A</td>\n",
       "      <td>interface_eu_test</td>\n",
       "      <td>Android</td>\n",
       "    </tr>\n",
       "    <tr>\n",
       "      <th>3</th>\n",
       "      <td>0010A1C096941592</td>\n",
       "      <td>A</td>\n",
       "      <td>recommender_system_test</td>\n",
       "      <td>Android</td>\n",
       "    </tr>\n",
       "    <tr>\n",
       "      <th>4</th>\n",
       "      <td>001E72F50D1C48FA</td>\n",
       "      <td>A</td>\n",
       "      <td>interface_eu_test</td>\n",
       "      <td>Mac</td>\n",
       "    </tr>\n",
       "  </tbody>\n",
       "</table>\n",
       "</div>"
      ],
      "text/plain": [
       "            user_id group                  ab_test   device\n",
       "0  0002CE61FF2C4011     B        interface_eu_test      Mac\n",
       "1  001064FEAAB631A1     B  recommender_system_test  Android\n",
       "2  001064FEAAB631A1     A        interface_eu_test  Android\n",
       "3  0010A1C096941592     A  recommender_system_test  Android\n",
       "4  001E72F50D1C48FA     A        interface_eu_test      Mac"
      ]
     },
     "metadata": {},
     "output_type": "display_data"
    },
    {
     "name": "stdout",
     "output_type": "stream",
     "text": [
      "<class 'pandas.core.frame.DataFrame'>\n",
      "RangeIndex: 14525 entries, 0 to 14524\n",
      "Data columns (total 4 columns):\n",
      " #   Column   Non-Null Count  Dtype \n",
      "---  ------   --------------  ----- \n",
      " 0   user_id  14525 non-null  object\n",
      " 1   group    14525 non-null  object\n",
      " 2   ab_test  14525 non-null  object\n",
      " 3   device   14525 non-null  object\n",
      "dtypes: object(4)\n",
      "memory usage: 454.0+ KB\n"
     ]
    },
    {
     "data": {
      "text/plain": [
       "None"
      ]
     },
     "metadata": {},
     "output_type": "display_data"
    },
    {
     "data": {
      "text/plain": [
       "'events'"
      ]
     },
     "metadata": {},
     "output_type": "display_data"
    },
    {
     "data": {
      "text/html": [
       "<div>\n",
       "<style scoped>\n",
       "    .dataframe tbody tr th:only-of-type {\n",
       "        vertical-align: middle;\n",
       "    }\n",
       "\n",
       "    .dataframe tbody tr th {\n",
       "        vertical-align: top;\n",
       "    }\n",
       "\n",
       "    .dataframe thead th {\n",
       "        text-align: right;\n",
       "    }\n",
       "</style>\n",
       "<table border=\"1\" class=\"dataframe\">\n",
       "  <thead>\n",
       "    <tr style=\"text-align: right;\">\n",
       "      <th></th>\n",
       "      <th>user_id</th>\n",
       "      <th>event_dt</th>\n",
       "      <th>event_name</th>\n",
       "      <th>details</th>\n",
       "    </tr>\n",
       "  </thead>\n",
       "  <tbody>\n",
       "    <tr>\n",
       "      <th>0</th>\n",
       "      <td>GLOBAL</td>\n",
       "      <td>2020-12-01 00:00:00</td>\n",
       "      <td>End of Black Friday Ads Campaign</td>\n",
       "      <td>ZONE_CODE15</td>\n",
       "    </tr>\n",
       "    <tr>\n",
       "      <th>1</th>\n",
       "      <td>CCBE9E7E99F94A08</td>\n",
       "      <td>2020-12-01 00:00:11</td>\n",
       "      <td>registration</td>\n",
       "      <td>0.0</td>\n",
       "    </tr>\n",
       "    <tr>\n",
       "      <th>2</th>\n",
       "      <td>GLOBAL</td>\n",
       "      <td>2020-12-01 00:00:25</td>\n",
       "      <td>product_page</td>\n",
       "      <td>NaN</td>\n",
       "    </tr>\n",
       "    <tr>\n",
       "      <th>3</th>\n",
       "      <td>CCBE9E7E99F94A08</td>\n",
       "      <td>2020-12-01 00:00:33</td>\n",
       "      <td>login</td>\n",
       "      <td>NaN</td>\n",
       "    </tr>\n",
       "    <tr>\n",
       "      <th>4</th>\n",
       "      <td>CCBE9E7E99F94A08</td>\n",
       "      <td>2020-12-01 00:00:52</td>\n",
       "      <td>product_page</td>\n",
       "      <td>NaN</td>\n",
       "    </tr>\n",
       "  </tbody>\n",
       "</table>\n",
       "</div>"
      ],
      "text/plain": [
       "            user_id            event_dt                        event_name  \\\n",
       "0            GLOBAL 2020-12-01 00:00:00  End of Black Friday Ads Campaign   \n",
       "1  CCBE9E7E99F94A08 2020-12-01 00:00:11                      registration   \n",
       "2            GLOBAL 2020-12-01 00:00:25                      product_page   \n",
       "3  CCBE9E7E99F94A08 2020-12-01 00:00:33                             login   \n",
       "4  CCBE9E7E99F94A08 2020-12-01 00:00:52                      product_page   \n",
       "\n",
       "       details  \n",
       "0  ZONE_CODE15  \n",
       "1          0.0  \n",
       "2          NaN  \n",
       "3          NaN  \n",
       "4          NaN  "
      ]
     },
     "metadata": {},
     "output_type": "display_data"
    },
    {
     "name": "stdout",
     "output_type": "stream",
     "text": [
      "<class 'pandas.core.frame.DataFrame'>\n",
      "RangeIndex: 787286 entries, 0 to 787285\n",
      "Data columns (total 4 columns):\n",
      " #   Column      Non-Null Count   Dtype         \n",
      "---  ------      --------------   -----         \n",
      " 0   user_id     787286 non-null  object        \n",
      " 1   event_dt    787286 non-null  datetime64[ns]\n",
      " 2   event_name  787286 non-null  object        \n",
      " 3   details     249022 non-null  object        \n",
      "dtypes: datetime64[ns](1), object(3)\n",
      "memory usage: 24.0+ MB\n"
     ]
    },
    {
     "data": {
      "text/plain": [
       "None"
      ]
     },
     "metadata": {},
     "output_type": "display_data"
    }
   ],
   "source": [
    "participants = pd.read_csv('https://code.s3.yandex.net/datasets/ab_test_participants.csv')\n",
    "events = pd.read_csv('https://code.s3.yandex.net/datasets/ab_test_events.zip',\n",
    "                     parse_dates=['event_dt'], low_memory=False)\n",
    "\n",
    "display('participants')\n",
    "display(participants.head())\n",
    "display(participants.info())\n",
    "\n",
    "display('events')\n",
    "display(events.head())\n",
    "display(events.info())"
   ]
  },
  {
   "cell_type": "markdown",
   "id": "c5672673-9e46-4b8c-a9e2-74cfa564f1c2",
   "metadata": {},
   "source": [
    "The `participants` table contains information about A/B test participants. It consists of 14,525 rows and 4 fields, without missing values. The data types are correct.\n",
    "\n",
    "The `events` table records user events on the platform. It consists of 787,286 rows and 4 fields. The data types are correct. There are gaps in the \"details\" column."
   ]
  },
  {
   "cell_type": "markdown",
   "id": "6b24a159-e5dd-4845-9c9e-800b393b76e1",
   "metadata": {},
   "source": [
    "Let's check for complete duplicates in the events table, and if there are any, we'll delete them."
   ]
  },
  {
   "cell_type": "code",
   "execution_count": 3,
   "id": "6ef7320a-2653-4bf3-b522-79c6d59fa706",
   "metadata": {},
   "outputs": [
    {
     "name": "stdout",
     "output_type": "stream",
     "text": [
      "Number of complete duplicates in the events table: 36318\n",
      "Duplicates removed.\n"
     ]
    }
   ],
   "source": [
    "duplicates_events = events.duplicated().sum()\n",
    "print(f\"Number of complete duplicates in the events table: {duplicates_events}\")\n",
    "\n",
    "# Remove duplicates\n",
    "if duplicates_events > 0:\n",
    "    events = events.drop_duplicates()\n",
    "    print(\"Duplicates removed.\")\n",
    "else:\n",
    "    print(\"There are no duplicates.\")"
   ]
  },
  {
   "cell_type": "markdown",
   "id": "3c810348-614e-43a3-b691-a788279d03df",
   "metadata": {},
   "source": [
    "When looking at `participants`, it was clear that in addition to the test we are interested in, the table also contains data on another experiment, `recommender_system_test`. It is important for us to select only those users who participated in one experimental group (B), and not in both tests at once."
   ]
  },
  {
   "cell_type": "code",
   "execution_count": 4,
   "id": "ff50539d-d42b-47ff-9446-1a86714eabf6",
   "metadata": {},
   "outputs": [
    {
     "data": {
      "image/png": "[encoded data removed]",
      "text/plain": [
       "<Figure size 800x600 with 1 Axes>"
      ]
     },
     "metadata": {},
     "output_type": "display_data"
    }
   ],
   "source": [
    "# Set data for users from group B of both tests\n",
    "test_1_group_B = set(participants[(participants['ab_test'] == 'interface_eu_test') & (participants['group'] == 'B')]['user_id'])\n",
    "test_2_group_B = set(participants[(participants['ab_test'] == 'recommender_system_test') & (participants['group'] == 'B')]['user_id'])\n",
    "\n",
    "# Find the intersection of users from group B of both tests\n",
    "intersection_B = test_1_group_B.intersection(test_2_group_B)\n",
    "\n",
    "# We construct a Venn diagram for users from group B of both tests\n",
    "plt.figure(figsize=(8, 6))\n",
    "venn2([test_1_group_B, test_2_group_B], set_labels=('interface_eu_test (B)', 'recommender_system_test (B)'))\n",
    "\n",
    "plt.title(\"Venn diagram for users from group B of two tests\")\n",
    "\n",
    "plt.show()"
   ]
  },
  {
   "cell_type": "code",
   "execution_count": 5,
   "id": "936b46f9-d3ff-44af-af27-3cac9a0090ec",
   "metadata": {},
   "outputs": [
    {
     "name": "stdout",
     "output_type": "stream",
     "text": [
      "Number of remaining intersections: 0\n"
     ]
    },
    {
     "data": {
      "text/html": [
       "<div>\n",
       "<style scoped>\n",
       "    .dataframe tbody tr th:only-of-type {\n",
       "        vertical-align: middle;\n",
       "    }\n",
       "\n",
       "    .dataframe tbody tr th {\n",
       "        vertical-align: top;\n",
       "    }\n",
       "\n",
       "    .dataframe thead th {\n",
       "        text-align: right;\n",
       "    }\n",
       "</style>\n",
       "<table border=\"1\" class=\"dataframe\">\n",
       "  <thead>\n",
       "    <tr style=\"text-align: right;\">\n",
       "      <th></th>\n",
       "      <th>user_id</th>\n",
       "      <th>group</th>\n",
       "      <th>ab_test</th>\n",
       "      <th>device</th>\n",
       "    </tr>\n",
       "  </thead>\n",
       "  <tbody>\n",
       "    <tr>\n",
       "      <th>0</th>\n",
       "      <td>0002CE61FF2C4011</td>\n",
       "      <td>B</td>\n",
       "      <td>interface_eu_test</td>\n",
       "      <td>Mac</td>\n",
       "    </tr>\n",
       "    <tr>\n",
       "      <th>1</th>\n",
       "      <td>001064FEAAB631A1</td>\n",
       "      <td>B</td>\n",
       "      <td>recommender_system_test</td>\n",
       "      <td>Android</td>\n",
       "    </tr>\n",
       "    <tr>\n",
       "      <th>2</th>\n",
       "      <td>001064FEAAB631A1</td>\n",
       "      <td>A</td>\n",
       "      <td>interface_eu_test</td>\n",
       "      <td>Android</td>\n",
       "    </tr>\n",
       "    <tr>\n",
       "      <th>3</th>\n",
       "      <td>0010A1C096941592</td>\n",
       "      <td>A</td>\n",
       "      <td>recommender_system_test</td>\n",
       "      <td>Android</td>\n",
       "    </tr>\n",
       "    <tr>\n",
       "      <th>4</th>\n",
       "      <td>001E72F50D1C48FA</td>\n",
       "      <td>A</td>\n",
       "      <td>interface_eu_test</td>\n",
       "      <td>Mac</td>\n",
       "    </tr>\n",
       "  </tbody>\n",
       "</table>\n",
       "</div>"
      ],
      "text/plain": [
       "            user_id group                  ab_test   device\n",
       "0  0002CE61FF2C4011     B        interface_eu_test      Mac\n",
       "1  001064FEAAB631A1     B  recommender_system_test  Android\n",
       "2  001064FEAAB631A1     A        interface_eu_test  Android\n",
       "3  0010A1C096941592     A  recommender_system_test  Android\n",
       "4  001E72F50D1C48FA     A        interface_eu_test      Mac"
      ]
     },
     "metadata": {},
     "output_type": "display_data"
    }
   ],
   "source": [
    "# Remove users who participate in two tests at the same time in group B\n",
    "participants_cleaned = participants[~participants['user_id'].isin(intersection_B)]\n",
    "\n",
    "# Check that the crossed users were deleted\n",
    "remaining_intersections = participants_cleaned[(participants_cleaned['user_id'].isin(intersection_B))]\n",
    "print(f\"Number of remaining intersections: {remaining_intersections.shape[0]}\")\n",
    "\n",
    "display(participants_cleaned.head())"
   ]
  },
  {
   "cell_type": "markdown",
   "id": "325aa40b-9d69-4e14-af46-acb4f99012bc",
   "metadata": {},
   "source": [
    "Now we will leave only the data for the test `interface_eu_test`"
   ]
  },
  {
   "cell_type": "code",
   "execution_count": 6,
   "id": "fe4504ce-433d-4a37-aae7-92ae581f5813",
   "metadata": {},
   "outputs": [],
   "source": [
    "participants_test = participants_cleaned[participants_cleaned['ab_test'] == 'interface_eu_test']"
   ]
  },
  {
   "cell_type": "code",
   "execution_count": 7,
   "id": "c92c62db-b304-466a-b9bc-d17c4eb6e162",
   "metadata": {},
   "outputs": [
    {
     "data": {
      "image/png": "[encoded data removed]",
      "text/plain": [
       "<Figure size 800x600 with 1 Axes>"
      ]
     },
     "metadata": {},
     "output_type": "display_data"
    }
   ],
   "source": [
    "# Find the intersection of users between groups A and B of our test\n",
    "group_A_users = set(participants_test[participants_test['group'] == 'A']['user_id'])\n",
    "group_B_users = set(participants_test[participants_test['group'] == 'B']['user_id'])\n",
    "\n",
    "# Venn diagram\n",
    "plt.figure(figsize=(8, 6))\n",
    "venn2([group_A_users, group_B_users], set_labels=('Group A', 'Group B'))\n",
    "\n",
    "plt.title(\"Venn diagram for intersections between groups A and B\")\n",
    "\n",
    "plt.show()"
   ]
  },
  {
   "cell_type": "markdown",
   "id": "4b40a59b-481a-4067-a74f-e3b8ac2fa00c",
   "metadata": {},
   "source": [
    "Let's check the distribution by groups"
   ]
  },
  {
   "cell_type": "code",
   "execution_count": 8,
   "id": "70d23083-eefe-4711-8cdd-48244b0d2fd5",
   "metadata": {},
   "outputs": [
    {
     "data": {
      "image/png": "[encoded data removed]",
      "text/plain": [
       "<Figure size 640x480 with 1 Axes>"
      ]
     },
     "metadata": {},
     "output_type": "display_data"
    }
   ],
   "source": [
    "# Count the number of users in each group\n",
    "group_distribution = participants_test['group'].value_counts()\n",
    "\n",
    "# Extract values\n",
    "group_A = group_distribution.get('A', 0)\n",
    "group_B = group_distribution.get('B', 0)\n",
    "\n",
    "# Calculate the percentage difference\n",
    "percent_diff = 100 * abs(group_A - group_B) / group_A\n",
    "\n",
    "# Plotting a diagram\n",
    "fig, ax = plt.subplots()\n",
    "bars = ax.bar(['A', 'B'], [group_A, group_B], color=['#1f77b4', '#ff7f0e'])\n",
    "\n",
    "for bar in bars:\n",
    "    yval = bar.get_height()\n",
    "    ax.text(bar.get_x() + bar.get_width() / 2, yval + max(group_A, group_B) * 0.01, f'{yval}', ha='center', va='bottom')\n",
    "\n",
    "ax.set_title(f'Distribution of users by groups\\nPercentage difference: {percent_diff:.2f}%', fontsize=12, fontweight='bold')\n",
    "ax.set_ylabel('Number of users')\n",
    "\n",
    "plt.tight_layout()\n",
    "plt.show()"
   ]
  },
  {
   "cell_type": "markdown",
   "id": "07c5bf84-fe6c-4c37-8daa-e431c526e247",
   "metadata": {},
   "source": [
    "The difference between the groups is only 0.59%. This means that the distribution of users between A and B is almost perfectly balanced. In addition, the groups do not overlap."
   ]
  },
  {
   "cell_type": "code",
   "execution_count": 9,
   "id": "9d4e5712-498a-4339-a0a9-fea7e3bfca68",
   "metadata": {},
   "outputs": [
    {
     "name": "stdout",
     "output_type": "stream",
     "text": [
      "Number of rows in the filtered table: 72935\n"
     ]
    },
    {
     "data": {
      "text/html": [
       "<div>\n",
       "<style scoped>\n",
       "    .dataframe tbody tr th:only-of-type {\n",
       "        vertical-align: middle;\n",
       "    }\n",
       "\n",
       "    .dataframe tbody tr th {\n",
       "        vertical-align: top;\n",
       "    }\n",
       "\n",
       "    .dataframe thead th {\n",
       "        text-align: right;\n",
       "    }\n",
       "</style>\n",
       "<table border=\"1\" class=\"dataframe\">\n",
       "  <thead>\n",
       "    <tr style=\"text-align: right;\">\n",
       "      <th></th>\n",
       "      <th>user_id</th>\n",
       "      <th>event_dt</th>\n",
       "      <th>event_name</th>\n",
       "      <th>details</th>\n",
       "    </tr>\n",
       "  </thead>\n",
       "  <tbody>\n",
       "    <tr>\n",
       "      <th>64672</th>\n",
       "      <td>5F506CEBEDC05D30</td>\n",
       "      <td>2020-12-06 14:10:01</td>\n",
       "      <td>registration</td>\n",
       "      <td>0.0</td>\n",
       "    </tr>\n",
       "    <tr>\n",
       "      <th>64946</th>\n",
       "      <td>51278A006E918D97</td>\n",
       "      <td>2020-12-06 14:37:25</td>\n",
       "      <td>registration</td>\n",
       "      <td>-3.8</td>\n",
       "    </tr>\n",
       "    <tr>\n",
       "      <th>66585</th>\n",
       "      <td>A0C1E8EFAD874D8B</td>\n",
       "      <td>2020-12-06 17:20:22</td>\n",
       "      <td>registration</td>\n",
       "      <td>-3.32</td>\n",
       "    </tr>\n",
       "    <tr>\n",
       "      <th>67873</th>\n",
       "      <td>275A8D6254ACF530</td>\n",
       "      <td>2020-12-06 19:36:54</td>\n",
       "      <td>registration</td>\n",
       "      <td>-0.48</td>\n",
       "    </tr>\n",
       "    <tr>\n",
       "      <th>67930</th>\n",
       "      <td>0B704EB2DC7FCA4B</td>\n",
       "      <td>2020-12-06 19:42:20</td>\n",
       "      <td>registration</td>\n",
       "      <td>0.0</td>\n",
       "    </tr>\n",
       "  </tbody>\n",
       "</table>\n",
       "</div>"
      ],
      "text/plain": [
       "                user_id            event_dt    event_name details\n",
       "64672  5F506CEBEDC05D30 2020-12-06 14:10:01  registration     0.0\n",
       "64946  51278A006E918D97 2020-12-06 14:37:25  registration    -3.8\n",
       "66585  A0C1E8EFAD874D8B 2020-12-06 17:20:22  registration   -3.32\n",
       "67873  275A8D6254ACF530 2020-12-06 19:36:54  registration   -0.48\n",
       "67930  0B704EB2DC7FCA4B 2020-12-06 19:42:20  registration     0.0"
      ]
     },
     "metadata": {},
     "output_type": "display_data"
    }
   ],
   "source": [
    "# Let's leave events only for users from the interface_eu_test test\n",
    "test_user_ids = participants_test['user_id'].unique()\n",
    "events_test = events[events['user_id'].isin(test_user_ids)]\n",
    "\n",
    "print(f'Number of rows in the filtered table: {events_test.shape[0]}')\n",
    "display(events_test.head())"
   ]
  },
  {
   "cell_type": "markdown",
   "id": "c9a10dbc-bc5b-4386-8316-dd82448f2118",
   "metadata": {},
   "source": [
    "Let's calculate the time (lifetime) of the user performing an event after registration and leave only those events that were performed within the first seven days from the moment of registration"
   ]
  },
  {
   "cell_type": "code",
   "execution_count": 10,
   "id": "5b29c7b5-3b99-4a1a-96c5-219e32ae6bb1",
   "metadata": {},
   "outputs": [],
   "source": [
    "# Get only the earliest registration events for each user\n",
    "registrations = (\n",
    "    events_test[events_test['event_name'] == 'registration']\n",
    "    .groupby('user_id', as_index=False)['event_dt']\n",
    "    .min()\n",
    "    .rename(columns={'event_dt': 'registration_dt'})\n",
    ")"
   ]
  },
  {
   "cell_type": "code",
   "execution_count": 11,
   "id": "98b2cf0c-23dd-4b39-a483-4fc1c286884e",
   "metadata": {},
   "outputs": [
    {
     "data": {
      "text/html": [
       "<div>\n",
       "<style scoped>\n",
       "    .dataframe tbody tr th:only-of-type {\n",
       "        vertical-align: middle;\n",
       "    }\n",
       "\n",
       "    .dataframe tbody tr th {\n",
       "        vertical-align: top;\n",
       "    }\n",
       "\n",
       "    .dataframe thead th {\n",
       "        text-align: right;\n",
       "    }\n",
       "</style>\n",
       "<table border=\"1\" class=\"dataframe\">\n",
       "  <thead>\n",
       "    <tr style=\"text-align: right;\">\n",
       "      <th></th>\n",
       "      <th>user_id</th>\n",
       "      <th>event_dt</th>\n",
       "      <th>event_name</th>\n",
       "      <th>details</th>\n",
       "      <th>registration_dt</th>\n",
       "      <th>lifetime</th>\n",
       "    </tr>\n",
       "  </thead>\n",
       "  <tbody>\n",
       "    <tr>\n",
       "      <th>0</th>\n",
       "      <td>5F506CEBEDC05D30</td>\n",
       "      <td>2020-12-06 14:10:01</td>\n",
       "      <td>registration</td>\n",
       "      <td>0.0</td>\n",
       "      <td>2020-12-06 14:10:01</td>\n",
       "      <td>0</td>\n",
       "    </tr>\n",
       "    <tr>\n",
       "      <th>1</th>\n",
       "      <td>51278A006E918D97</td>\n",
       "      <td>2020-12-06 14:37:25</td>\n",
       "      <td>registration</td>\n",
       "      <td>-3.8</td>\n",
       "      <td>2020-12-06 14:37:25</td>\n",
       "      <td>0</td>\n",
       "    </tr>\n",
       "    <tr>\n",
       "      <th>2</th>\n",
       "      <td>A0C1E8EFAD874D8B</td>\n",
       "      <td>2020-12-06 17:20:22</td>\n",
       "      <td>registration</td>\n",
       "      <td>-3.32</td>\n",
       "      <td>2020-12-06 17:20:22</td>\n",
       "      <td>0</td>\n",
       "    </tr>\n",
       "    <tr>\n",
       "      <th>3</th>\n",
       "      <td>275A8D6254ACF530</td>\n",
       "      <td>2020-12-06 19:36:54</td>\n",
       "      <td>registration</td>\n",
       "      <td>-0.48</td>\n",
       "      <td>2020-12-06 19:36:54</td>\n",
       "      <td>0</td>\n",
       "    </tr>\n",
       "    <tr>\n",
       "      <th>4</th>\n",
       "      <td>0B704EB2DC7FCA4B</td>\n",
       "      <td>2020-12-06 19:42:20</td>\n",
       "      <td>registration</td>\n",
       "      <td>0.0</td>\n",
       "      <td>2020-12-06 19:42:20</td>\n",
       "      <td>0</td>\n",
       "    </tr>\n",
       "  </tbody>\n",
       "</table>\n",
       "</div>"
      ],
      "text/plain": [
       "            user_id            event_dt    event_name details  \\\n",
       "0  5F506CEBEDC05D30 2020-12-06 14:10:01  registration     0.0   \n",
       "1  51278A006E918D97 2020-12-06 14:37:25  registration    -3.8   \n",
       "2  A0C1E8EFAD874D8B 2020-12-06 17:20:22  registration   -3.32   \n",
       "3  275A8D6254ACF530 2020-12-06 19:36:54  registration   -0.48   \n",
       "4  0B704EB2DC7FCA4B 2020-12-06 19:42:20  registration     0.0   \n",
       "\n",
       "      registration_dt  lifetime  \n",
       "0 2020-12-06 14:10:01         0  \n",
       "1 2020-12-06 14:37:25         0  \n",
       "2 2020-12-06 17:20:22         0  \n",
       "3 2020-12-06 19:36:54         0  \n",
       "4 2020-12-06 19:42:20         0  "
      ]
     },
     "metadata": {},
     "output_type": "display_data"
    }
   ],
   "source": [
    "# Combine it with other events by user_id\n",
    "events_with_reg = events_test.merge(registrations, on='user_id')\n",
    "\n",
    "# Calculate the time difference (lifetime)\n",
    "events_with_reg['lifetime'] = (events_with_reg['event_dt'] - events_with_reg['registration_dt']).dt.days\n",
    "\n",
    "# Leave only the events that happened during the first 7 days\n",
    "events_7d = events_with_reg[events_with_reg['lifetime'] < 7]\n",
    "\n",
    "display(events_7d.head())"
   ]
  },
  {
   "cell_type": "code",
   "execution_count": 12,
   "id": "4c88cb55-3514-46cd-b152-330b7d2c8e71",
   "metadata": {},
   "outputs": [
    {
     "data": {
      "text/html": [
       "<div>\n",
       "<style scoped>\n",
       "    .dataframe tbody tr th:only-of-type {\n",
       "        vertical-align: middle;\n",
       "    }\n",
       "\n",
       "    .dataframe tbody tr th {\n",
       "        vertical-align: top;\n",
       "    }\n",
       "\n",
       "    .dataframe thead th {\n",
       "        text-align: right;\n",
       "    }\n",
       "</style>\n",
       "<table border=\"1\" class=\"dataframe\">\n",
       "  <thead>\n",
       "    <tr style=\"text-align: right;\">\n",
       "      <th></th>\n",
       "      <th>user_id</th>\n",
       "      <th>event_dt</th>\n",
       "      <th>event_name</th>\n",
       "      <th>details</th>\n",
       "      <th>registration_dt</th>\n",
       "      <th>lifetime</th>\n",
       "      <th>group</th>\n",
       "    </tr>\n",
       "  </thead>\n",
       "  <tbody>\n",
       "    <tr>\n",
       "      <th>0</th>\n",
       "      <td>5F506CEBEDC05D30</td>\n",
       "      <td>2020-12-06 14:10:01</td>\n",
       "      <td>registration</td>\n",
       "      <td>0.0</td>\n",
       "      <td>2020-12-06 14:10:01</td>\n",
       "      <td>0</td>\n",
       "      <td>A</td>\n",
       "    </tr>\n",
       "    <tr>\n",
       "      <th>1</th>\n",
       "      <td>51278A006E918D97</td>\n",
       "      <td>2020-12-06 14:37:25</td>\n",
       "      <td>registration</td>\n",
       "      <td>-3.8</td>\n",
       "      <td>2020-12-06 14:37:25</td>\n",
       "      <td>0</td>\n",
       "      <td>A</td>\n",
       "    </tr>\n",
       "    <tr>\n",
       "      <th>2</th>\n",
       "      <td>A0C1E8EFAD874D8B</td>\n",
       "      <td>2020-12-06 17:20:22</td>\n",
       "      <td>registration</td>\n",
       "      <td>-3.32</td>\n",
       "      <td>2020-12-06 17:20:22</td>\n",
       "      <td>0</td>\n",
       "      <td>B</td>\n",
       "    </tr>\n",
       "    <tr>\n",
       "      <th>3</th>\n",
       "      <td>275A8D6254ACF530</td>\n",
       "      <td>2020-12-06 19:36:54</td>\n",
       "      <td>registration</td>\n",
       "      <td>-0.48</td>\n",
       "      <td>2020-12-06 19:36:54</td>\n",
       "      <td>0</td>\n",
       "      <td>A</td>\n",
       "    </tr>\n",
       "    <tr>\n",
       "      <th>4</th>\n",
       "      <td>0B704EB2DC7FCA4B</td>\n",
       "      <td>2020-12-06 19:42:20</td>\n",
       "      <td>registration</td>\n",
       "      <td>0.0</td>\n",
       "      <td>2020-12-06 19:42:20</td>\n",
       "      <td>0</td>\n",
       "      <td>B</td>\n",
       "    </tr>\n",
       "  </tbody>\n",
       "</table>\n",
       "</div>"
      ],
      "text/plain": [
       "            user_id            event_dt    event_name details  \\\n",
       "0  5F506CEBEDC05D30 2020-12-06 14:10:01  registration     0.0   \n",
       "1  51278A006E918D97 2020-12-06 14:37:25  registration    -3.8   \n",
       "2  A0C1E8EFAD874D8B 2020-12-06 17:20:22  registration   -3.32   \n",
       "3  275A8D6254ACF530 2020-12-06 19:36:54  registration   -0.48   \n",
       "4  0B704EB2DC7FCA4B 2020-12-06 19:42:20  registration     0.0   \n",
       "\n",
       "      registration_dt  lifetime group  \n",
       "0 2020-12-06 14:10:01         0     A  \n",
       "1 2020-12-06 14:37:25         0     A  \n",
       "2 2020-12-06 17:20:22         0     B  \n",
       "3 2020-12-06 19:36:54         0     A  \n",
       "4 2020-12-06 19:42:20         0     B  "
      ]
     },
     "metadata": {},
     "output_type": "display_data"
    },
    {
     "name": "stdout",
     "output_type": "stream",
     "text": [
      "<class 'pandas.core.frame.DataFrame'>\n",
      "RangeIndex: 62934 entries, 0 to 62933\n",
      "Data columns (total 7 columns):\n",
      " #   Column           Non-Null Count  Dtype         \n",
      "---  ------           --------------  -----         \n",
      " 0   user_id          62934 non-null  object        \n",
      " 1   event_dt         62934 non-null  datetime64[ns]\n",
      " 2   event_name       62934 non-null  object        \n",
      " 3   details          16969 non-null  object        \n",
      " 4   registration_dt  62934 non-null  datetime64[ns]\n",
      " 5   lifetime         62934 non-null  int64         \n",
      " 6   group            62934 non-null  object        \n",
      "dtypes: datetime64[ns](2), int64(1), object(4)\n",
      "memory usage: 3.4+ MB\n"
     ]
    },
    {
     "data": {
      "text/plain": [
       "None"
      ]
     },
     "metadata": {},
     "output_type": "display_data"
    }
   ],
   "source": [
    "# Merge tables\n",
    "merged_data = events_7d.merge(participants_test[['user_id', 'group']], on='user_id', how='left')\n",
    "\n",
    "display(merged_data.head())\n",
    "display(merged_data.info())"
   ]
  },
  {
   "cell_type": "markdown",
   "id": "64e21a42-65e9-42ab-b6ba-31c1f3f02f12",
   "metadata": {},
   "source": [
    "Let's evaluate the sufficiency of the sample to obtain statistically significant results of the A/B test. Given parameters:\n",
    "\n",
    "- base conversion rate — 30%,\n",
    "\n",
    "- test power — 80%,\n",
    "\n",
    "- test reliability — 95%.\n",
    "\n",
    "- expected increase is 3 p.p."
   ]
  },
  {
   "cell_type": "code",
   "execution_count": 13,
   "id": "caad9d43-29e9-4041-9bbb-20d65394b9e8",
   "metadata": {},
   "outputs": [
    {
     "data": {
      "text/plain": [
       "3761.596974012117"
      ]
     },
     "execution_count": 13,
     "metadata": {},
     "output_type": "execute_result"
    }
   ],
   "source": [
    "p0 = 0.30  \n",
    "p1 = 0.33  \n",
    "alpha = 0.05  \n",
    "power = 0.80\n",
    "\n",
    "# Calculate the sample size\n",
    "analysis = NormalIndPower()\n",
    "required_n = analysis.solve_power(effect_size=proportion_effectsize(p0, p1), power=power, alpha=alpha, ratio=1)\n",
    "\n",
    "# Результат\n",
    "required_n"
   ]
  },
  {
   "cell_type": "markdown",
   "id": "ad8d0104-a2ec-4c4d-a32d-10d28de1f037",
   "metadata": {},
   "source": [
    "- Group A has 5 383 users.\n",
    "- Group B has 5 351 users.\n",
    "\n",
    "Since the number of users in both groups is significantly larger than the required 3 762, we can say that the sample is large enough to obtain statistically significant results."
   ]
  },
  {
   "cell_type": "markdown",
   "id": "c99629c4-5baf-45ac-9889-8c11332574c0",
   "metadata": {},
   "source": [
    "Let's calculate for each group the number of visitors who made a purchase and the total number of visitors."
   ]
  },
  {
   "cell_type": "code",
   "execution_count": 14,
   "id": "e9263d4d-fe0a-4e81-b1f6-33016d46e924",
   "metadata": {},
   "outputs": [
    {
     "data": {
      "text/html": [
       "<div>\n",
       "<style scoped>\n",
       "    .dataframe tbody tr th:only-of-type {\n",
       "        vertical-align: middle;\n",
       "    }\n",
       "\n",
       "    .dataframe tbody tr th {\n",
       "        vertical-align: top;\n",
       "    }\n",
       "\n",
       "    .dataframe thead th {\n",
       "        text-align: right;\n",
       "    }\n",
       "</style>\n",
       "<table border=\"1\" class=\"dataframe\">\n",
       "  <thead>\n",
       "    <tr style=\"text-align: right;\">\n",
       "      <th></th>\n",
       "      <th>Total Users</th>\n",
       "      <th>Purchases</th>\n",
       "      <th>Conversion Rate</th>\n",
       "    </tr>\n",
       "    <tr>\n",
       "      <th>group</th>\n",
       "      <th></th>\n",
       "      <th></th>\n",
       "      <th></th>\n",
       "    </tr>\n",
       "  </thead>\n",
       "  <tbody>\n",
       "    <tr>\n",
       "      <th>A</th>\n",
       "      <td>5383</td>\n",
       "      <td>1480</td>\n",
       "      <td>27.49%</td>\n",
       "    </tr>\n",
       "    <tr>\n",
       "      <th>B</th>\n",
       "      <td>5351</td>\n",
       "      <td>1579</td>\n",
       "      <td>29.51%</td>\n",
       "    </tr>\n",
       "  </tbody>\n",
       "</table>\n",
       "</div>"
      ],
      "text/plain": [
       "       Total Users  Purchases Conversion Rate\n",
       "group                                        \n",
       "A             5383       1480          27.49%\n",
       "B             5351       1579          29.51%"
      ]
     },
     "execution_count": 14,
     "metadata": {},
     "output_type": "execute_result"
    }
   ],
   "source": [
    "# Select only registration and purchase events\n",
    "purchase_data = merged_data[merged_data['event_name'].isin(['registration', 'purchase'])]\n",
    "\n",
    "# Create a pivot table\n",
    "result_table = purchase_data.pivot_table(index='group', \n",
    "                                       columns='event_name', \n",
    "                                       values='user_id', \n",
    "                                       aggfunc='nunique')\n",
    "\n",
    "# Add a column with conversion (purchases / registrations)\n",
    "result_table['Conversion Rate'] = result_table['purchase'] / result_table['registration']\n",
    "\n",
    "# Format conversion to percentage\n",
    "result_table['Conversion Rate'] = result_table['Conversion Rate'].apply(lambda x: f'{x:.2%}')\n",
    "\n",
    "# Rename columns\n",
    "result_table = result_table[['registration', 'purchase', 'Conversion Rate']]\n",
    "\n",
    "# Rename columns\n",
    "result_table.columns = ['Total Users', 'Purchases', 'Conversion Rate']\n",
    "\n",
    "result_table"
   ]
  },
  {
   "cell_type": "markdown",
   "id": "c5c0dab5-1e04-4127-b71b-d00fe5ee6e8b",
   "metadata": {},
   "source": [
    "In test group B, where users interacted with the new simplified interface, there was a slight increase in conversion to purchase compared to control group A:\n",
    "- In group A (control), the conversion was 27.49%\n",
    "- In group B (test), the conversion was 29.51%\n",
    "\n",
    "This may indicate that the new interface has a positive effect on user activity and motivation to purchase, but for final conclusions, it is necessary to statistically test the significance of this difference.\n",
    "In addition, when we calculated a sufficient sample size, we hypothesized that the new interface would increase conversion from 30% to 33% - that is, by 3 percentage points, which corresponds to a relative increase of 10%.\n",
    "Actual increase:\n",
    "- Absolute: 29.51% - 27.49% = 2.02 p.p.\n",
    "- Relative: (29.51 - 27.49) / 27.49 ≈ 7.35%\n",
    "\n",
    "There is growth, but it is less than expected: we planned +3 p.p., but got +2.02 p.p."
   ]
  },
  {
   "cell_type": "markdown",
   "id": "8571129b-1b3b-48b7-967b-e5fee3edc9ec",
   "metadata": {},
   "source": [
    "## A/B testing results evaluation:"
   ]
  },
  {
   "cell_type": "markdown",
   "id": "3a8d8bff-9eba-407a-8226-b683375ff078",
   "metadata": {},
   "source": [
    "H₀ (null hypothesis): Conversion in group B is not higher than in A.\n",
    "\n",
    "H₁ (alternative hypothesis): Conversion in group B is higher than in A."
   ]
  },
  {
   "cell_type": "code",
   "execution_count": 15,
   "id": "50f30730-340f-4171-bd30-dc33e5d24cf5",
   "metadata": {},
   "outputs": [
    {
     "name": "stdout",
     "output_type": "stream",
     "text": [
      "p-value: 0.01039\n",
      "The difference is statistically significant. Conversion to purchase in group B is higher than in A.\n"
     ]
    }
   ],
   "source": [
    "# Count the number of successful purchases and the total number of users in each group\n",
    "success_b = result_table.loc['B', 'Purchases']\n",
    "total_b = result_table.loc['B', 'Total Users']\n",
    "\n",
    "success_a = result_table.loc['A', 'Purchases']\n",
    "total_a = result_table.loc['A', 'Total Users']\n",
    "\n",
    "# Form arrays for the test\n",
    "successes = [success_b, success_a]\n",
    "samples = [total_b, total_a]\n",
    "\n",
    "# Perform a one-tailed Z-test\n",
    "stat, p_value = proportions_ztest(count=successes, nobs=samples, alternative='larger')\n",
    "\n",
    "# Output the result\n",
    "print(f\"p-value: {p_value:.5f}\")\n",
    "\n",
    "if p_value < 0.05:\n",
    "    print(\"The difference is statistically significant. Conversion to purchase in group B is higher than in A.\")\n",
    "else:\n",
    "    print(\"The difference is not statistically significant. Conversion to purchase in group B is not higher than in A.\")"
   ]
  },
  {
   "cell_type": "markdown",
   "id": "7b24d76f-a441-4a9c-a8fa-6dea1e380680",
   "metadata": {},
   "source": [
    "The A/B test assessed the impact of the new, simplified interface (`group B`) on user conversion to purchases compared to the current interface (`group A`).\n",
    "**The goal** of the experiment was to achieve an increase in conversion of at least <u>3</u> percentage points (p.p.), which corresponds to a relative increase of <u>10%</u>.\n",
    "\n",
    "**Actual test results:**\n",
    "- Conversion in group A (control): 27.49%\n",
    "- Conversion in group B (test): 29.51%\n",
    "- Absolute increase: <u>+2.02 p.p.</u>\n",
    "- Relative increase: <u>+7.35%</u>\n",
    "\n",
    "p-value: `0.01` (the difference is statistically significant)\n",
    "\n",
    "**Conclusion:**\n",
    "The test group showed a significant improvement in conversion - the conversion to purchase is higher than in the control group. This indicates a positive effect of the new interface on user activity.\n",
    "\n",
    "However, the expected effect (+3 p.p.) was not achieved — the actual increase was only <u>+2.02 p.p.</u>, which is lower than the planned increase.\n",
    "\n",
    "Thus, the hypothesis about the increase in conversion is confirmed statistically, but <u>the planned scale of the effect was not achieved</u>.\n",
    "\n",
    "*Recommendations for increasing conversion:*\n",
    "\n",
    "- *Consider the possibility of additional testing iterations, where you can test in more detail specific interface elements that can affect conversion. For example, optimizing the \"buy\" buttons or simplifying the checkout process.*\n",
    "\n",
    "- *Analyze the behavior of users in group B to identify which aspects of the interface can hinder greater conversion growth. For example, collect data on the user's path, studying at what step they often leave the site.*\n",
    "\n",
    "**General recommendation** - evaluate the ratio between the costs of implementing a new interface and the resulting increase in conversion in order to decide on its full implementation."
   ]
  }
 ],
 "metadata": {
  "kernelspec": {
   "display_name": "Python 3 (ipykernel)",
   "language": "python",
   "name": "python3"
  },
  "language_info": {
   "codemirror_mode": {
    "name": "ipython",
    "version": 3
   },
   "file_extension": ".py",
   "mimetype": "text/x-python",
   "name": "python",
   "nbconvert_exporter": "python",
   "pygments_lexer": "ipython3",
   "version": "3.12.7"
  }
 },
 "nbformat": 4,
 "nbformat_minor": 5
}
