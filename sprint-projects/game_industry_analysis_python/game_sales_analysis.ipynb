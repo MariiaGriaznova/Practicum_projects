{
 "cells": [
  {
   "cell_type": "markdown",
   "id": "e06910dd",
   "metadata": {
    "id": "e06910dd"
   },
   "source": [
    "<h1 style=\"color:blue;\">Video Game Industry Analysis 2000–2013: Platforms, Genres, and Ratings</h1>\n",
    "\n",
    "- Author: Maria Gryaznova\n",
    "- Date: 19.12.2024"
   ]
  },
  {
   "cell_type": "markdown",
   "id": "4149134c",
   "metadata": {
    "id": "4149134c"
   },
   "source": [
    "### Project Goals and Objectives\n",
    "\n",
    "#### Project Goal\n",
    "\n",
    "Prepare and analyze video game sales data to identify key patterns and determine the platforms, genres, and other factors influencing game popularity and the development of the gaming industry from 2000 to 2013.\n",
    "\n",
    "#### Objectives\n",
    "\n",
    "1. Data Loading and Exploration\n",
    "\n",
    "    - Study the structure and volume of the data.\n",
    "    - Assess missing values, data errors, and correctness of data types.\n",
    "\n",
    "2. Data Preprocessing\n",
    "\n",
    "    - Standardize the data format.\n",
    "    - Correct data types.\n",
    "    - Handle missing values and duplicates to improve data quality.\n",
    "\n",
    "3. Data Filtering\n",
    "\n",
    "    - Limit the analysis to games released between 2000 and 2013.\n",
    "\n",
    "4. Data Categorization\n",
    "\n",
    "    - Classify games based on user and critic ratings.\n",
    "    - Identify the top 7 platforms with the highest number of released games.\n",
    "\n",
    "5. Final Summary"
   ]
  },
  {
   "cell_type": "markdown",
   "id": "728986ea",
   "metadata": {
    "id": "728986ea"
   },
   "source": [
    "### Data Description\n",
    "\n",
    "The project will use data from the dataset `/datasets/new_games.csv` with the following description:\n",
    "- `Name` — name of the game.\n",
    "- `Platform` — name of the platform.\n",
    "- `Year of Release` — year the game was released.\n",
    "- `Genre` — genre of the game.\n",
    "- `NA sales` — sales in North America (in millions of copies sold).\n",
    "- `EU sales` — sales in Europe (in millions of copies sold).\n",
    "- `JP sales` — sales in Japan (in millions of copies sold).\n",
    "- `Other sales` — sales in other countries (in millions of copies sold).\n",
    "- `Critic Score` — critic rating (from 0 to 100).\n",
    "- `User Score` — user rating (from 0 to 10).\n",
    "- `Rating` — ESRB rating (Entertainment Software Rating Board). This organization determines video game ratings and assigns appropriate age categories."
   ]
  },
  {
   "cell_type": "markdown",
   "id": "4fecaf95",
   "metadata": {
    "id": "4fecaf95"
   },
   "source": [
    "### Project Structure\n",
    "\n",
    "1. Data Loading and Exploration\n",
    "2. Error Checking and Data Preprocessing <br>\n",
    "    2.1. Column Names or Labels in the DataFrame <br>\n",
    "    2.2. Data Types <br>\n",
    "    2.3. Presence of Missing Values <br>\n",
    "    2.4. Explicit and Implicit Duplicates in the Data\n",
    "3. Data Filtering\n",
    "4. Data Categorization\n",
    "5. Final Output"
   ]
  },
  {
   "cell_type": "markdown",
   "id": "6f7d21d6",
   "metadata": {
    "id": "6f7d21d6"
   },
   "source": [
    "## 1. Loading data and exploring\n"
   ]
  },
  {
   "cell_type": "code",
   "execution_count": 55,
   "id": "ebb66dc5",
   "metadata": {
    "id": "ebb66dc5"
   },
   "outputs": [],
   "source": [
    "# Importing pandas and numpy libraries\n",
    "import pandas as pd\n",
    "import numpy as np"
   ]
  },
  {
   "cell_type": "code",
   "execution_count": 56,
   "id": "ce87c1db",
   "metadata": {
    "id": "ce87c1db"
   },
   "outputs": [],
   "source": [
    "# Loading data from the new_games.csv dataset into the games dataframe\n",
    "games = pd.read_csv('https://code.s3.yandex.net/datasets/new_games.csv')"
   ]
  },
  {
   "cell_type": "code",
   "execution_count": 57,
   "id": "90fee493",
   "metadata": {
    "id": "90fee493"
   },
   "outputs": [
    {
     "name": "stdout",
     "output_type": "stream",
     "text": [
      "<class 'pandas.core.frame.DataFrame'>\n",
      "RangeIndex: 16956 entries, 0 to 16955\n",
      "Data columns (total 11 columns):\n",
      " #   Column           Non-Null Count  Dtype  \n",
      "---  ------           --------------  -----  \n",
      " 0   Name             16954 non-null  object \n",
      " 1   Platform         16956 non-null  object \n",
      " 2   Year of Release  16681 non-null  float64\n",
      " 3   Genre            16954 non-null  object \n",
      " 4   NA sales         16956 non-null  float64\n",
      " 5   EU sales         16956 non-null  object \n",
      " 6   JP sales         16956 non-null  object \n",
      " 7   Other sales      16956 non-null  float64\n",
      " 8   Critic Score     8242 non-null   float64\n",
      " 9   User Score       10152 non-null  object \n",
      " 10  Rating           10085 non-null  object \n",
      "dtypes: float64(4), object(7)\n",
      "memory usage: 1.4+ MB\n"
     ]
    }
   ],
   "source": [
    "# Output information about the dataframe\n",
    "games.info()"
   ]
  },
  {
   "cell_type": "code",
   "execution_count": 58,
   "id": "d1aff1e8",
   "metadata": {
    "id": "e0a8705f"
   },
   "outputs": [
    {
     "data": {
      "text/html": [
       "<div>\n",
       "<style scoped>\n",
       "    .dataframe tbody tr th:only-of-type {\n",
       "        vertical-align: middle;\n",
       "    }\n",
       "\n",
       "    .dataframe tbody tr th {\n",
       "        vertical-align: top;\n",
       "    }\n",
       "\n",
       "    .dataframe thead th {\n",
       "        text-align: right;\n",
       "    }\n",
       "</style>\n",
       "<table border=\"1\" class=\"dataframe\">\n",
       "  <thead>\n",
       "    <tr style=\"text-align: right;\">\n",
       "      <th></th>\n",
       "      <th>Name</th>\n",
       "      <th>Platform</th>\n",
       "      <th>Year of Release</th>\n",
       "      <th>Genre</th>\n",
       "      <th>NA sales</th>\n",
       "      <th>EU sales</th>\n",
       "      <th>JP sales</th>\n",
       "      <th>Other sales</th>\n",
       "      <th>Critic Score</th>\n",
       "      <th>User Score</th>\n",
       "      <th>Rating</th>\n",
       "    </tr>\n",
       "  </thead>\n",
       "  <tbody>\n",
       "    <tr>\n",
       "      <th>0</th>\n",
       "      <td>Wii Sports</td>\n",
       "      <td>Wii</td>\n",
       "      <td>2006.0</td>\n",
       "      <td>Sports</td>\n",
       "      <td>41.36</td>\n",
       "      <td>28.96</td>\n",
       "      <td>3.77</td>\n",
       "      <td>8.45</td>\n",
       "      <td>76.0</td>\n",
       "      <td>8</td>\n",
       "      <td>E</td>\n",
       "    </tr>\n",
       "    <tr>\n",
       "      <th>1</th>\n",
       "      <td>Super Mario Bros.</td>\n",
       "      <td>NES</td>\n",
       "      <td>1985.0</td>\n",
       "      <td>Platform</td>\n",
       "      <td>29.08</td>\n",
       "      <td>3.58</td>\n",
       "      <td>6.81</td>\n",
       "      <td>0.77</td>\n",
       "      <td>NaN</td>\n",
       "      <td>NaN</td>\n",
       "      <td>NaN</td>\n",
       "    </tr>\n",
       "    <tr>\n",
       "      <th>2</th>\n",
       "      <td>Mario Kart Wii</td>\n",
       "      <td>Wii</td>\n",
       "      <td>2008.0</td>\n",
       "      <td>Racing</td>\n",
       "      <td>15.68</td>\n",
       "      <td>12.76</td>\n",
       "      <td>3.79</td>\n",
       "      <td>3.29</td>\n",
       "      <td>82.0</td>\n",
       "      <td>8.3</td>\n",
       "      <td>E</td>\n",
       "    </tr>\n",
       "    <tr>\n",
       "      <th>3</th>\n",
       "      <td>Wii Sports Resort</td>\n",
       "      <td>Wii</td>\n",
       "      <td>2009.0</td>\n",
       "      <td>Sports</td>\n",
       "      <td>15.61</td>\n",
       "      <td>10.93</td>\n",
       "      <td>3.28</td>\n",
       "      <td>2.95</td>\n",
       "      <td>80.0</td>\n",
       "      <td>8</td>\n",
       "      <td>E</td>\n",
       "    </tr>\n",
       "    <tr>\n",
       "      <th>4</th>\n",
       "      <td>Pokemon Red/Pokemon Blue</td>\n",
       "      <td>GB</td>\n",
       "      <td>1996.0</td>\n",
       "      <td>Role-Playing</td>\n",
       "      <td>11.27</td>\n",
       "      <td>8.89</td>\n",
       "      <td>10.22</td>\n",
       "      <td>1.00</td>\n",
       "      <td>NaN</td>\n",
       "      <td>NaN</td>\n",
       "      <td>NaN</td>\n",
       "    </tr>\n",
       "  </tbody>\n",
       "</table>\n",
       "</div>"
      ],
      "text/plain": [
       "                       Name Platform  Year of Release         Genre  NA sales  \\\n",
       "0                Wii Sports      Wii           2006.0        Sports     41.36   \n",
       "1         Super Mario Bros.      NES           1985.0      Platform     29.08   \n",
       "2            Mario Kart Wii      Wii           2008.0        Racing     15.68   \n",
       "3         Wii Sports Resort      Wii           2009.0        Sports     15.61   \n",
       "4  Pokemon Red/Pokemon Blue       GB           1996.0  Role-Playing     11.27   \n",
       "\n",
       "  EU sales JP sales  Other sales  Critic Score User Score Rating  \n",
       "0    28.96     3.77         8.45          76.0          8      E  \n",
       "1     3.58     6.81         0.77           NaN        NaN    NaN  \n",
       "2    12.76     3.79         3.29          82.0        8.3      E  \n",
       "3    10.93     3.28         2.95          80.0          8      E  \n",
       "4     8.89    10.22         1.00           NaN        NaN    NaN  "
      ]
     },
     "execution_count": 58,
     "metadata": {},
     "output_type": "execute_result"
    }
   ],
   "source": [
    "# Display the first lines of the dataframe on the screen\n",
    "games.head()"
   ]
  },
  {
   "cell_type": "markdown",
   "id": "26267bc0",
   "metadata": {
    "id": "26267bc0"
   },
   "source": [
    "The dataset `new_games.csv` contains 11 columns and 16956 rows, representing information about video games.\n",
    "\n",
    "Let's examine the data types and their correctness:\n",
    "- **String Data.** Seven columns have the `object` data type:\n",
    "    - The `Name` column contains string data (game names and platform names). The `object` data type is appropriate here.\n",
    "    - The `EU sales` and `JP sales` columns have the `object` data type, but they should be represented as numeric values of type `float64`, since they represent sales in millions of copies (the data may contain incorrect values).\n",
    "    - The `User Score` column also has the `object` type, but it should be represented as a numeric value of type `float64` (incorrect values, such as 'unknown', may exist).\n",
    "    - For the columns `Genre`, `Rating`, and `Platform`, the `category` data type should be used since they contain a limited number of unique values.\n",
    "\n",
    "- **Floating-Point Numbers.** Four columns have the `float64` data type:\n",
    "    - `Year of Release` represents the years of game releases. It would be more appropriate to store this information in an integer format. The `int16` type is optimal for storage, as the range of values is fully covered.\n",
    "    - The data type for the `NA sales`, `Other sales`, and `Critic Score` columns is correct and does not require changes.\n",
    "\n",
    "Additionally, it is clear that most columns contain missing values, which need to be addressed before converting columns to the correct data types.\n",
    "\n",
    "Also, not all column names are in a convenient format for working with them, so they should be converted to a consistent style."
   ]
  },
  {
   "cell_type": "markdown",
   "id": "774bf76e",
   "metadata": {
    "id": "774bf76e"
   },
   "source": [
    "---\n",
    "\n",
    "## 2. Data Quality Check and Preprocessing\n",
    "\n",
    "### 2.1. Column Names or Labels of the DataFrame"
   ]
  },
  {
   "cell_type": "markdown",
   "id": "ea423232",
   "metadata": {},
   "source": [
    "- At this stage, we check the writing style of the column names in the dataframe."
   ]
  },
  {
   "cell_type": "code",
   "execution_count": 59,
   "id": "b20e5a3d",
   "metadata": {
    "id": "b9276a2b"
   },
   "outputs": [
    {
     "name": "stdout",
     "output_type": "stream",
     "text": [
      "Index(['Name', 'Platform', 'Year of Release', 'Genre', 'NA sales', 'EU sales',\n",
      "       'JP sales', 'Other sales', 'Critic Score', 'User Score', 'Rating'],\n",
      "      dtype='object')\n"
     ]
    }
   ],
   "source": [
    "# Display current column names\n",
    "print(games.columns)"
   ]
  },
  {
   "cell_type": "markdown",
   "id": "495bcc1a",
   "metadata": {},
   "source": [
    "It is evident that the column names do not follow the `snake_case` style.\n",
    "\n",
    "We will perform the necessary transformations: applying the `.str.lower()` method to convert the text to lowercase and `.str.replace(' ', '_')` to replace spaces with underscores."
   ]
  },
  {
   "cell_type": "code",
   "execution_count": 60,
   "id": "d554563c",
   "metadata": {
    "id": "d554563c"
   },
   "outputs": [],
   "source": [
    "# Convert column names to snake_case\n",
    "games.columns = games.columns.str.lower().str.replace(' ', '_')"
   ]
  },
  {
   "cell_type": "code",
   "execution_count": 61,
   "id": "87b573dd",
   "metadata": {
    "id": "87b573dd",
    "scrolled": true
   },
   "outputs": [
    {
     "data": {
      "text/plain": [
       "Index(['name', 'platform', 'year_of_release', 'genre', 'na_sales', 'eu_sales',\n",
       "       'jp_sales', 'other_sales', 'critic_score', 'user_score', 'rating'],\n",
       "      dtype='object')"
      ]
     },
     "execution_count": 61,
     "metadata": {},
     "output_type": "execute_result"
    }
   ],
   "source": [
    "# Output new column names\n",
    "games.columns"
   ]
  },
  {
   "cell_type": "markdown",
   "id": "68dba878",
   "metadata": {},
   "source": [
    "As a result of this step, the dataframe now has correct and uniform column names in the `snake_case` style, which will make further work with the data easier."
   ]
  },
  {
   "cell_type": "markdown",
   "id": "41bc6bf8",
   "metadata": {
    "id": "41bc6bf8"
   },
   "source": [
    "### 2.2. Data Types\n",
    "\n",
    "We have columns with clearly incorrect data types:\n",
    "- `eu_sales` and `jp_sales` — currently `object`, they should be `float64`.\n",
    "- `user_score` — currently `object`, it should be `float64`.\n",
    "\n",
    "We will start working with these columns to convert them to numeric types and handle any incorrect values. Let's proceed step by step.\n",
    "\n",
    "Let's begin with `eu_sales`:"
   ]
  },
  {
   "cell_type": "code",
   "execution_count": 62,
   "id": "8adaac81",
   "metadata": {
    "id": "8adaac81"
   },
   "outputs": [
    {
     "data": {
      "text/plain": [
       "array(['28.96', '3.58', '12.76', '10.93', '8.89', '2.26', '9.14', '9.18',\n",
       "       '6.94', '0.63', '10.95', '7.47', '6.18', '8.03', '4.89', '8.49',\n",
       "       '9.09', '0.4', '3.75', '9.2', '4.46', '2.71', '3.44', '5.14',\n",
       "       '5.49', '3.9', '5.35', '3.17', '5.09', '4.24', '5.04', '5.86',\n",
       "       '3.68', '4.19', '5.73', '3.59', '4.51', '2.55', '4.02', '4.37',\n",
       "       '6.31', '3.45', '2.81', '2.85', '3.49', '0.01', '3.35', '2.04',\n",
       "       '3.07', '3.87', '3.0', '4.82', '3.64', '2.15', '3.69', '2.65',\n",
       "       '2.56', '3.11', '3.14', '1.94', '1.95', '2.47', '2.28', '3.42',\n",
       "       '3.63', '2.36', '1.71', '1.85', '2.79', '1.24', '6.12', '1.53',\n",
       "       '3.47', '2.24', '5.01', '2.01', '1.72', '2.07', '6.42', '3.86',\n",
       "       '0.45', '3.48', '1.89', '5.75', '2.17', '1.37', '2.35', '1.18',\n",
       "       '2.11', '1.88', '2.83', '2.99', '2.89', '3.27', '2.22', '2.14',\n",
       "       '1.45', '1.75', '1.04', '1.77', '3.02', '2.75', '2.16', '1.9',\n",
       "       '2.59', '2.2', '4.3', '0.93', '2.53', '2.52', '1.79', '1.3', '2.6',\n",
       "       '1.58', '1.2', '1.56', '1.34', '1.26', '0.83', '6.21', '2.8',\n",
       "       '1.59', '1.73', '4.33', '1.83', '0.0', '2.18', '1.98', '1.47',\n",
       "       '0.67', '1.55', '1.91', '0.69', '0.6', '1.93', '1.64', '0.55',\n",
       "       '2.19', '1.11', '2.29', '2.5', '0.96', '1.21', '1.12', '0.77',\n",
       "       '1.69', '1.08', '0.79', '2.37', '2.46', '0.26', '0.75', '1.25',\n",
       "       '2.43', '0.98', '0.74', '2.23', '0.61', '2.45', '1.41', '1.8',\n",
       "       '3.28', '1.16', '1.99', '1.38', '1.36', '1.17', '1.19', '0.99',\n",
       "       '1.68', '2.0', '1.33', '1.57', '1.48', '2.1', '1.27', '1.97',\n",
       "       '0.91', '1.39', '1.96', '0.24', '1.51', '0.14', '1.29', '2.39',\n",
       "       '1.03', '0.5', '0.58', '1.31', '2.02', '1.32', '1.01', '2.27',\n",
       "       '2.3', '1.82', '2.78', '0.44', '0.48', '0.27', '0.21', '2.48',\n",
       "       '0.51', '1.52', '0.04', '0.28', '1.35', '0.87', '2.13', '1.13',\n",
       "       '1.76', '0.76', '2.12', '0.66', '1.6', '1.44', '1.43', '1.7',\n",
       "       '0.47', '1.87', '0.86', '0.73', '1.28', '0.81', '1.09', '0.68',\n",
       "       '1.22', '1.4', '1.02', '1.49', '1.14', '0.49', '0.9', '0.38',\n",
       "       '1.42', '0.95', '1.62', '0.71', '1.05', '0.92', '0.33', '0.3',\n",
       "       '1.67', '1.0', '0.89', '0.1', '0.72', '0.59', '0.56', '0.16',\n",
       "       '0.97', '0.62', 'unknown', '0.85', '0.94', '0.88', '0.84', '1.06',\n",
       "       '0.2', '1.15', '0.8', '1.1', '0.7', '1.92', '0.32', '0.15', '0.53',\n",
       "       '0.09', '1.46', '0.29', '0.22', '1.23', '0.07', '0.17', '0.54',\n",
       "       '0.36', '0.31', '1.84', '0.52', '0.11', '0.64', '0.12', '2.05',\n",
       "       '1.63', '0.82', '0.08', '0.57', '1.65', '0.19', '0.02', '0.43',\n",
       "       '0.25', '1.5', '0.18', '0.39', '0.13', '1.07', '0.46', '0.41',\n",
       "       '0.06', '0.03', '0.37', '0.05', '0.23', '0.65', '0.42', '0.34',\n",
       "       '0.35', '0.78'], dtype=object)"
      ]
     },
     "execution_count": 62,
     "metadata": {},
     "output_type": "execute_result"
    }
   ],
   "source": [
    "# Check for unique values in the 'eu_sales' column\n",
    "games['eu_sales'].unique()"
   ]
  },
  {
   "cell_type": "markdown",
   "id": "8fc775af",
   "metadata": {
    "id": "e8412c01"
   },
   "source": [
    "We discovered an incorrect value in the array — the string 'unknown'. To convert the `eu_sales` column to the `float64` type, we will use `.to_numeric`, and 'unknown' will be automatically replaced with NaN."
   ]
  },
  {
   "cell_type": "code",
   "execution_count": 63,
   "id": "9e53cff4",
   "metadata": {
    "id": "9e53cff4"
   },
   "outputs": [],
   "source": [
    "# Convert the column to a number format\n",
    "games['eu_sales'] = pd.to_numeric(games['eu_sales'], errors='coerce')"
   ]
  },
  {
   "cell_type": "markdown",
   "id": "63378edf",
   "metadata": {
    "id": "63378edf"
   },
   "source": [
    "We will do the same for the `jp_sales` column. If it contains any incorrect values, such as 'unknown', they will be automatically replaced with NaN when converting the column to `float64` using `.to_numeric`."
   ]
  },
  {
   "cell_type": "code",
   "execution_count": 64,
   "id": "5033ee32",
   "metadata": {
    "id": "5033ee32"
   },
   "outputs": [
    {
     "data": {
      "text/plain": [
       "array(['3.77', '6.81', '3.79', '3.28', '10.22', '4.22', '6.5', '2.93',\n",
       "       '4.7', '0.28', '1.93', '4.13', '7.2', '3.6', '0.24', '2.53',\n",
       "       '0.98', '0.41', '3.54', '4.16', '6.04', '4.18', '3.84', '0.06',\n",
       "       '0.47', '5.38', '5.32', '5.65', '1.87', '0.13', '3.12', '0.36',\n",
       "       '0.11', '4.35', '0.65', '0.07', '0.08', '0.49', '0.3', '2.66',\n",
       "       '2.69', '0.48', '0.38', '5.33', '1.91', '3.96', '3.1', '1.1',\n",
       "       '1.2', '0.14', '2.54', '2.14', '0.81', '2.12', '0.44', '3.15',\n",
       "       '1.25', '0.04', '0.0', '2.47', '2.23', '1.69', '0.01', '3.0',\n",
       "       '0.02', '4.39', '1.98', '0.1', '3.81', '0.05', '2.49', '1.58',\n",
       "       '3.14', '2.73', '0.66', '0.22', '3.63', '1.45', '1.31', '2.43',\n",
       "       '0.7', '0.35', '1.4', '0.6', '2.26', '1.42', '1.28', '1.39',\n",
       "       '0.87', '0.17', '0.94', '0.19', '0.21', '1.6', '0.16', '1.03',\n",
       "       '0.25', '2.06', '1.49', '1.29', '0.09', '2.87', '0.03', '0.78',\n",
       "       '0.83', '2.33', '2.02', '1.36', '1.81', '1.97', '0.91', '0.99',\n",
       "       '0.95', '2.0', '1.01', '2.78', '2.11', '1.09', '0.2', '1.9',\n",
       "       '1.27', '3.61', '1.57', '2.2', '1.7', '1.08', '0.15', '1.11',\n",
       "       '0.29', '1.54', '0.12', '0.89', '4.87', '1.52', '1.32', '1.15',\n",
       "       '4.1', '1.46', '0.46', '1.05', '1.61', '0.26', '1.38', '0.62',\n",
       "       '0.73', '0.57', '0.31', '0.58', '1.76', '2.1', '0.9', '0.51',\n",
       "       '0.64', '2.46', '0.23', '0.37', '0.92', '1.07', '2.62', '1.12',\n",
       "       '0.54', '0.27', '0.59', '3.67', '0.55', '1.75', '3.44', '0.33',\n",
       "       '2.55', '2.32', '2.79', '0.74', '3.18', '0.82', '0.77', '0.4',\n",
       "       '2.35', '3.19', '0.8', '0.76', '3.03', '0.88', 'unknown', '0.45',\n",
       "       '1.16', '0.34', '1.19', '1.13', '2.13', '1.96', '0.71', '1.04',\n",
       "       '2.68', '0.68', '2.65', '0.96', '2.41', '0.52', '0.18', '1.34',\n",
       "       '1.48', '2.34', '1.06', '1.21', '2.29', '1.63', '2.05', '2.17',\n",
       "       '1.56', '1.35', '1.33', '0.63', '0.79', '0.75', '0.53', '1.53',\n",
       "       '1.3', '0.39', '0.69', '0.42', '0.93', '0.56', '0.84', '0.72',\n",
       "       '0.32', '1.71', '1.65', '0.61', '1.51', '1.5', '1.44', '1.24',\n",
       "       '1.18', '1.37', '1.0', '1.26', '0.85', '0.43', '0.67', '1.14',\n",
       "       '0.86', '1.17', '0.5', '1.02', '0.97'], dtype=object)"
      ]
     },
     "execution_count": 64,
     "metadata": {},
     "output_type": "execute_result"
    }
   ],
   "source": [
    "# Check for unique values in the 'jp_sales' column\n",
    "games['jp_sales'].unique()"
   ]
  },
  {
   "cell_type": "markdown",
   "id": "41869092",
   "metadata": {
    "id": "3a26fb26"
   },
   "source": [
    "We will convert the data format using `.to_numeric`, where 'unknown' will automatically be replaced with NaN."
   ]
  },
  {
   "cell_type": "code",
   "execution_count": 65,
   "id": "11003d69",
   "metadata": {
    "id": "11003d69"
   },
   "outputs": [],
   "source": [
    "# Convert the column to a numeric format\n",
    "games['jp_sales'] = pd.to_numeric(games['jp_sales'], errors='coerce')"
   ]
  },
  {
   "cell_type": "markdown",
   "id": "62045322",
   "metadata": {},
   "source": [
    "Working with the `user_score` column"
   ]
  },
  {
   "cell_type": "code",
   "execution_count": 66,
   "id": "f8dcc33a",
   "metadata": {},
   "outputs": [
    {
     "data": {
      "text/plain": [
       "array(['8', nan, '8.3', '8.5', '6.6', '8.4', '8.6', '7.7', '6.3', '7.4',\n",
       "       '8.2', '9', '7.9', '8.1', '8.7', '7.1', '3.4', '5.3', '4.8', '3.2',\n",
       "       '8.9', '6.4', '7.8', '7.5', '2.6', '7.2', '9.2', '7', '7.3', '4.3',\n",
       "       '7.6', '5.7', '5', '9.1', '6.5', 'tbd', '8.8', '6.9', '9.4', '6.8',\n",
       "       '6.1', '6.7', '5.4', '4', '4.9', '4.5', '9.3', '6.2', '4.2', '6',\n",
       "       '3.7', '4.1', '5.8', '5.6', '5.5', '4.4', '4.6', '5.9', '3.9',\n",
       "       '3.1', '2.9', '5.2', '3.3', '4.7', '5.1', '3.5', '2.5', '1.9', '3',\n",
       "       '2.7', '2.2', '2', '9.5', '2.1', '3.6', '2.8', '1.8', '3.8', '0',\n",
       "       '1.6', '9.6', '2.4', '1.7', '1.1', '0.3', '1.5', '0.7', '1.2',\n",
       "       '2.3', '0.5', '1.3', '0.2', '0.6', '1.4', '0.9', '1', '9.7'],\n",
       "      dtype=object)"
      ]
     },
     "execution_count": 66,
     "metadata": {},
     "output_type": "execute_result"
    }
   ],
   "source": [
    "games['user_score'].unique()"
   ]
  },
  {
   "cell_type": "markdown",
   "id": "0408d81f",
   "metadata": {},
   "source": [
    "In the array, an incorrect value was found — the string 'tbd'."
   ]
  },
  {
   "cell_type": "code",
   "execution_count": 67,
   "id": "d97908af",
   "metadata": {},
   "outputs": [],
   "source": [
    "# Convert the column to a numeric format\n",
    "games['user_score'] = pd.to_numeric(games['user_score'], errors='coerce')"
   ]
  },
  {
   "cell_type": "markdown",
   "id": "1e7245eb",
   "metadata": {},
   "source": [
    "We need to convert the data in the `platform`, `genre`, and `rating` columns to categorical data type to improve performance and memory management:"
   ]
  },
  {
   "cell_type": "code",
   "execution_count": 68,
   "id": "9656d564",
   "metadata": {},
   "outputs": [],
   "source": [
    "# Convert the platform, genre and rating column variables to the 'category' type\n",
    "games['platform'] = games['platform'].astype('category')\n",
    "games['genre'] = games['genre'].astype('category')\n",
    "games['rating'] = games['rating'].astype('category')"
   ]
  },
  {
   "cell_type": "code",
   "execution_count": 69,
   "id": "a76ba4f8",
   "metadata": {},
   "outputs": [
    {
     "name": "stdout",
     "output_type": "stream",
     "text": [
      "<class 'pandas.core.frame.DataFrame'>\n",
      "RangeIndex: 16956 entries, 0 to 16955\n",
      "Data columns (total 11 columns):\n",
      " #   Column           Non-Null Count  Dtype   \n",
      "---  ------           --------------  -----   \n",
      " 0   name             16954 non-null  object  \n",
      " 1   platform         16956 non-null  category\n",
      " 2   year_of_release  16681 non-null  float64 \n",
      " 3   genre            16954 non-null  category\n",
      " 4   na_sales         16956 non-null  float64 \n",
      " 5   eu_sales         16950 non-null  float64 \n",
      " 6   jp_sales         16952 non-null  float64 \n",
      " 7   other_sales      16956 non-null  float64 \n",
      " 8   critic_score     8242 non-null   float64 \n",
      " 9   user_score       7688 non-null   float64 \n",
      " 10  rating           10085 non-null  category\n",
      "dtypes: category(3), float64(7), object(1)\n",
      "memory usage: 1.1+ MB\n"
     ]
    }
   ],
   "source": [
    "games.info()"
   ]
  },
  {
   "cell_type": "markdown",
   "id": "c7ce93be",
   "metadata": {},
   "source": [
    "We can see that we have successfully converted the data in `eu_sales`, `jp_sales`, and `user_score` to the numeric `float64` format. Meanwhile, the `platform`, `genre`, and `rating` columns have been converted to categorical data types.\n",
    "\n",
    "What remains is to change the data type of the `year_of_release` column, which currently has the `float64` type due to the presence of NaN values. However, for the release year of the game, it makes sense to store the data in the integer format `int16`. This conversion will be done during the handling of missing values, as attempting to directly convert it to an integer type at this stage will cause an error (integer values cannot contain NaN)."
   ]
  },
  {
   "cell_type": "markdown",
   "id": "b39893cb",
   "metadata": {
    "id": "b39893cb"
   },
   "source": [
    "### 2.3. Missing Data\n",
    "\n",
    "During the initial exploration of the data, it was found that some columns in the `new_games.csv` dataset contain missing values. Additionally, after transforming some data, the number of missing values may have increased.\n",
    "\n",
    "Let’s take a closer look at the missing values."
   ]
  },
  {
   "cell_type": "code",
   "execution_count": 70,
   "id": "0f1c91a8",
   "metadata": {
    "id": "0f1c91a8"
   },
   "outputs": [
    {
     "data": {
      "text/plain": [
       "name                  2\n",
       "platform              0\n",
       "year_of_release     275\n",
       "genre                 2\n",
       "na_sales              0\n",
       "eu_sales              6\n",
       "jp_sales              4\n",
       "other_sales           0\n",
       "critic_score       8714\n",
       "user_score         9268\n",
       "rating             6871\n",
       "dtype: int64"
      ]
     },
     "execution_count": 70,
     "metadata": {},
     "output_type": "execute_result"
    }
   ],
   "source": [
    "# Count the gaps in each column\n",
    "games.isna().sum()"
   ]
  },
  {
   "cell_type": "code",
   "execution_count": 71,
   "id": "86cd1cc1",
   "metadata": {
    "id": "86cd1cc1"
   },
   "outputs": [
    {
     "data": {
      "text/plain": [
       "name                0.011795\n",
       "platform            0.000000\n",
       "year_of_release     1.621845\n",
       "genre               0.011795\n",
       "na_sales            0.000000\n",
       "eu_sales            0.035386\n",
       "jp_sales            0.023590\n",
       "other_sales         0.000000\n",
       "critic_score       51.391838\n",
       "user_score         54.659118\n",
       "rating             40.522529\n",
       "dtype: float64"
      ]
     },
     "execution_count": 71,
     "metadata": {},
     "output_type": "execute_result"
    }
   ],
   "source": [
    "# Calculate the percentage of gap\n",
    "games.isna().sum() / len(games) * 100"
   ]
  },
  {
   "cell_type": "markdown",
   "id": "cf796f51",
   "metadata": {
    "id": "cf796f51"
   },
   "source": [
    "- The columns `na_sales`, `other_sales` (sales in different regions), as well as the `platform` column, do not contain missing values.\n",
    "- However, `eu_sales` and `jp_sales` contain a few missing values (less than 1% in both cases). We will replace them with the mean for each platform and year.\n",
    "- The columns `name` and `genre` each have only 2 missing values (0.01%), which is not critical. These rows can be removed without significantly affecting further analysis.\n",
    "- The column `year_of_release` contains 275 missing values (1.62%). Missing values may have occurred if data was collected from different sources, where the release year was not provided for some games. By removing these missing values, we will exclude games with unknown release years, ensuring data accuracy and facilitating further work.\n",
    "- The columns `critic_score`, `user_score`, and `rating` have the largest number of missing values. Missing values in `rating` (40.52%) can be filled with the value \"Unknown\" or a similar placeholder, as we will convert this column to categorical data. Missing values in `critic_score` (51.39%) and `user_score` (40.13%) can be filled with the unrealistic placeholder `-1`."
   ]
  },
  {
   "cell_type": "markdown",
   "id": "5839d9ba",
   "metadata": {
    "id": "bd69e642"
   },
   "source": [
    "Let's start by removing the missing values in `name`, `genre`, and `year_of_release`. We will use the `dropna` method with the `inplace=True` argument to make changes directly to the dataset."
   ]
  },
  {
   "cell_type": "code",
   "execution_count": 72,
   "id": "b6965b19",
   "metadata": {
    "id": "b6965b19"
   },
   "outputs": [],
   "source": [
    "# Remove rows with gaps in the columns 'name', 'genre' and 'year_of_release' \n",
    "games.dropna(subset=['name', 'genre', 'year_of_release'], inplace=True)"
   ]
  },
  {
   "cell_type": "markdown",
   "id": "03b66ed3",
   "metadata": {},
   "source": [
    "After removing the missing values in `year_of_release`, we will convert the data in this column to the `int16` type."
   ]
  },
  {
   "cell_type": "code",
   "execution_count": 73,
   "id": "bb188f58",
   "metadata": {},
   "outputs": [],
   "source": [
    "games['year_of_release'] = games['year_of_release'].astype('int16')"
   ]
  },
  {
   "cell_type": "markdown",
   "id": "0909f0a9",
   "metadata": {
    "id": "cc2d1374"
   },
   "source": [
    "Now, we will fill the missing values in the `rating` column with the value \"Unknown\"."
   ]
  },
  {
   "cell_type": "code",
   "execution_count": 74,
   "id": "7bee8776",
   "metadata": {},
   "outputs": [
    {
     "name": "stderr",
     "output_type": "stream",
     "text": [
      "C:\\Users\\Maria\\AppData\\Local\\Temp\\ipykernel_15824\\1686138303.py:5: FutureWarning: A value is trying to be set on a copy of a DataFrame or Series through chained assignment using an inplace method.\n",
      "The behavior will change in pandas 3.0. This inplace method will never work because the intermediate object on which we are setting values always behaves as a copy.\n",
      "\n",
      "For example, when doing 'df[col].method(value, inplace=True)', try using 'df.method({col: value}, inplace=True)' or df[col] = df[col].method(value) instead, to perform the operation inplace on the original object.\n",
      "\n",
      "\n",
      "  games['rating'].fillna('Unknown', inplace=True)\n"
     ]
    }
   ],
   "source": [
    "# Update categories in the 'rating' column to add 'Unknown'\n",
    "games['rating'] = games['rating'].cat.add_categories('Unknown')\n",
    "\n",
    "# Replace gaps with 'Unknown'\n",
    "games['rating'].fillna('Unknown', inplace=True)"
   ]
  },
  {
   "cell_type": "markdown",
   "id": "2339c157",
   "metadata": {},
   "source": [
    "Now, let's work with the missing values in the `critic_score` and `user_score` columns. We will replace them with `-1`."
   ]
  },
  {
   "cell_type": "code",
   "execution_count": 75,
   "id": "30f99d8c",
   "metadata": {},
   "outputs": [
    {
     "name": "stderr",
     "output_type": "stream",
     "text": [
      "C:\\Users\\Maria\\AppData\\Local\\Temp\\ipykernel_15824\\3586277314.py:2: FutureWarning: A value is trying to be set on a copy of a DataFrame or Series through chained assignment using an inplace method.\n",
      "The behavior will change in pandas 3.0. This inplace method will never work because the intermediate object on which we are setting values always behaves as a copy.\n",
      "\n",
      "For example, when doing 'df[col].method(value, inplace=True)', try using 'df.method({col: value}, inplace=True)' or df[col] = df[col].method(value) instead, to perform the operation inplace on the original object.\n",
      "\n",
      "\n",
      "  games['critic_score'].fillna(-1, inplace=True)\n",
      "C:\\Users\\Maria\\AppData\\Local\\Temp\\ipykernel_15824\\3586277314.py:3: FutureWarning: A value is trying to be set on a copy of a DataFrame or Series through chained assignment using an inplace method.\n",
      "The behavior will change in pandas 3.0. This inplace method will never work because the intermediate object on which we are setting values always behaves as a copy.\n",
      "\n",
      "For example, when doing 'df[col].method(value, inplace=True)', try using 'df.method({col: value}, inplace=True)' or df[col] = df[col].method(value) instead, to perform the operation inplace on the original object.\n",
      "\n",
      "\n",
      "  games['user_score'].fillna(-1, inplace=True)\n"
     ]
    }
   ],
   "source": [
    "# Replace blanks with -1 in 'critic_score' and 'user_score'\n",
    "games['critic_score'].fillna(-1, inplace=True)\n",
    "games['user_score'].fillna(-1, inplace=True)\n"
   ]
  },
  {
   "cell_type": "markdown",
   "id": "0706ecbf",
   "metadata": {},
   "source": [
    "Finally, we need to fill the missing values in `eu_sales` and `jp_sales`, replacing them with the mean value grouped by platform and year."
   ]
  },
  {
   "cell_type": "code",
   "execution_count": 76,
   "id": "81686559",
   "metadata": {},
   "outputs": [
    {
     "name": "stderr",
     "output_type": "stream",
     "text": [
      "C:\\Users\\Maria\\AppData\\Local\\Temp\\ipykernel_15824\\2197708599.py:2: FutureWarning: The default of observed=False is deprecated and will be changed to True in a future version of pandas. Pass observed=False to retain current behavior or observed=True to adopt the future default and silence this warning.\n",
      "  mean_eu_sales = games.groupby(['platform', 'year_of_release'])['eu_sales'].transform('mean')\n",
      "C:\\Users\\Maria\\AppData\\Local\\Temp\\ipykernel_15824\\2197708599.py:8: FutureWarning: The default of observed=False is deprecated and will be changed to True in a future version of pandas. Pass observed=False to retain current behavior or observed=True to adopt the future default and silence this warning.\n",
      "  mean_jp_sales = games.groupby(['platform', 'year_of_release'])['jp_sales'].transform('mean')\n"
     ]
    }
   ],
   "source": [
    "# We calculate the average for 'eu_sales' by platform and year of release\n",
    "mean_eu_sales = games.groupby(['platform', 'year_of_release'])['eu_sales'].transform('mean')\n",
    "\n",
    "# We replace gaps with average\n",
    "games['eu_sales'] = games['eu_sales'].fillna(mean_eu_sales)\n",
    "\n",
    "# We calculate the average for 'jp_sales' by platform and year of release\n",
    "mean_jp_sales = games.groupby(['platform', 'year_of_release'])['jp_sales'].transform('mean')\n",
    "\n",
    "# We replace gaps with average\n",
    "games['jp_sales'] = games['jp_sales'].fillna(mean_jp_sales)"
   ]
  },
  {
   "cell_type": "code",
   "execution_count": 77,
   "id": "c33a5c5e",
   "metadata": {},
   "outputs": [
    {
     "name": "stdout",
     "output_type": "stream",
     "text": [
      "<class 'pandas.core.frame.DataFrame'>\n",
      "Index: 16679 entries, 0 to 16955\n",
      "Data columns (total 11 columns):\n",
      " #   Column           Non-Null Count  Dtype   \n",
      "---  ------           --------------  -----   \n",
      " 0   name             16679 non-null  object  \n",
      " 1   platform         16679 non-null  category\n",
      " 2   year_of_release  16679 non-null  int16   \n",
      " 3   genre            16679 non-null  category\n",
      " 4   na_sales         16679 non-null  float64 \n",
      " 5   eu_sales         16679 non-null  float64 \n",
      " 6   jp_sales         16679 non-null  float64 \n",
      " 7   other_sales      16679 non-null  float64 \n",
      " 8   critic_score     16679 non-null  float64 \n",
      " 9   user_score       16679 non-null  float64 \n",
      " 10  rating           16679 non-null  category\n",
      "dtypes: category(3), float64(6), int16(1), object(1)\n",
      "memory usage: 1.1+ MB\n"
     ]
    }
   ],
   "source": [
    "# Displaying information about the dataframe\n",
    "games.info()"
   ]
  },
  {
   "cell_type": "code",
   "execution_count": 78,
   "id": "1ec00436",
   "metadata": {},
   "outputs": [
    {
     "data": {
      "text/html": [
       "<div>\n",
       "<style scoped>\n",
       "    .dataframe tbody tr th:only-of-type {\n",
       "        vertical-align: middle;\n",
       "    }\n",
       "\n",
       "    .dataframe tbody tr th {\n",
       "        vertical-align: top;\n",
       "    }\n",
       "\n",
       "    .dataframe thead th {\n",
       "        text-align: right;\n",
       "    }\n",
       "</style>\n",
       "<table border=\"1\" class=\"dataframe\">\n",
       "  <thead>\n",
       "    <tr style=\"text-align: right;\">\n",
       "      <th></th>\n",
       "      <th>name</th>\n",
       "      <th>platform</th>\n",
       "      <th>year_of_release</th>\n",
       "      <th>genre</th>\n",
       "      <th>na_sales</th>\n",
       "      <th>eu_sales</th>\n",
       "      <th>jp_sales</th>\n",
       "      <th>other_sales</th>\n",
       "      <th>critic_score</th>\n",
       "      <th>user_score</th>\n",
       "      <th>rating</th>\n",
       "    </tr>\n",
       "  </thead>\n",
       "  <tbody>\n",
       "    <tr>\n",
       "      <th>0</th>\n",
       "      <td>Wii Sports</td>\n",
       "      <td>Wii</td>\n",
       "      <td>2006</td>\n",
       "      <td>Sports</td>\n",
       "      <td>41.36</td>\n",
       "      <td>28.96</td>\n",
       "      <td>3.77</td>\n",
       "      <td>8.45</td>\n",
       "      <td>76.0</td>\n",
       "      <td>8.0</td>\n",
       "      <td>E</td>\n",
       "    </tr>\n",
       "    <tr>\n",
       "      <th>1</th>\n",
       "      <td>Super Mario Bros.</td>\n",
       "      <td>NES</td>\n",
       "      <td>1985</td>\n",
       "      <td>Platform</td>\n",
       "      <td>29.08</td>\n",
       "      <td>3.58</td>\n",
       "      <td>6.81</td>\n",
       "      <td>0.77</td>\n",
       "      <td>-1.0</td>\n",
       "      <td>-1.0</td>\n",
       "      <td>Unknown</td>\n",
       "    </tr>\n",
       "    <tr>\n",
       "      <th>2</th>\n",
       "      <td>Mario Kart Wii</td>\n",
       "      <td>Wii</td>\n",
       "      <td>2008</td>\n",
       "      <td>Racing</td>\n",
       "      <td>15.68</td>\n",
       "      <td>12.76</td>\n",
       "      <td>3.79</td>\n",
       "      <td>3.29</td>\n",
       "      <td>82.0</td>\n",
       "      <td>8.3</td>\n",
       "      <td>E</td>\n",
       "    </tr>\n",
       "    <tr>\n",
       "      <th>3</th>\n",
       "      <td>Wii Sports Resort</td>\n",
       "      <td>Wii</td>\n",
       "      <td>2009</td>\n",
       "      <td>Sports</td>\n",
       "      <td>15.61</td>\n",
       "      <td>10.93</td>\n",
       "      <td>3.28</td>\n",
       "      <td>2.95</td>\n",
       "      <td>80.0</td>\n",
       "      <td>8.0</td>\n",
       "      <td>E</td>\n",
       "    </tr>\n",
       "    <tr>\n",
       "      <th>4</th>\n",
       "      <td>Pokemon Red/Pokemon Blue</td>\n",
       "      <td>GB</td>\n",
       "      <td>1996</td>\n",
       "      <td>Role-Playing</td>\n",
       "      <td>11.27</td>\n",
       "      <td>8.89</td>\n",
       "      <td>10.22</td>\n",
       "      <td>1.00</td>\n",
       "      <td>-1.0</td>\n",
       "      <td>-1.0</td>\n",
       "      <td>Unknown</td>\n",
       "    </tr>\n",
       "  </tbody>\n",
       "</table>\n",
       "</div>"
      ],
      "text/plain": [
       "                       name platform  year_of_release         genre  na_sales  \\\n",
       "0                Wii Sports      Wii             2006        Sports     41.36   \n",
       "1         Super Mario Bros.      NES             1985      Platform     29.08   \n",
       "2            Mario Kart Wii      Wii             2008        Racing     15.68   \n",
       "3         Wii Sports Resort      Wii             2009        Sports     15.61   \n",
       "4  Pokemon Red/Pokemon Blue       GB             1996  Role-Playing     11.27   \n",
       "\n",
       "   eu_sales  jp_sales  other_sales  critic_score  user_score   rating  \n",
       "0     28.96      3.77         8.45          76.0         8.0        E  \n",
       "1      3.58      6.81         0.77          -1.0        -1.0  Unknown  \n",
       "2     12.76      3.79         3.29          82.0         8.3        E  \n",
       "3     10.93      3.28         2.95          80.0         8.0        E  \n",
       "4      8.89     10.22         1.00          -1.0        -1.0  Unknown  "
      ]
     },
     "execution_count": 78,
     "metadata": {},
     "output_type": "execute_result"
    }
   ],
   "source": [
    "games.head()"
   ]
  },
  {
   "cell_type": "markdown",
   "id": "b72bdf4f",
   "metadata": {},
   "source": [
    "We can see that after all the transformations, the dataframe no longer contains missing values, and the number of rows decreased from 16,956 to 16,679.  \n",
    "- Rows with missing values in the `name`, `genre`, `eu_sales`, `year_of_release`, and `jp_sales` columns were deleted.  \n",
    "- In the `rating` column, missing values were replaced with \"Unknown\".  \n",
    "- For `critic_score` and `user_score`, missing values were filled with the mean value by platform and year, and where that wasn't possible, a placeholder value of -1 was used.  \n",
    "- The data type of `year_of_release` was converted to `int16`."
   ]
  },
  {
   "cell_type": "markdown",
   "id": "a63363fd",
   "metadata": {
    "id": "a63363fd"
   },
   "source": [
    "### 2.4. Explicit and implicit duplicates in data\n"
   ]
  },
  {
   "cell_type": "markdown",
   "id": "496f5db5",
   "metadata": {},
   "source": [
    "Let's examine the unique values in the textual columns: `name`, `platform`, `genre`, and `rating`. We will check for potential subtle duplicates caused by typos or inconsistent naming conventions."
   ]
  },
  {
   "cell_type": "code",
   "execution_count": 79,
   "id": "491c9c39",
   "metadata": {
    "id": "491c9c39"
   },
   "outputs": [
    {
     "name": "stdout",
     "output_type": "stream",
     "text": [
      "Unique values before normalization:\n",
      "name: 11426 Unique values\n",
      "platform: 31 Unique values\n",
      "genre: 24 Unique values\n",
      "rating: 9 Unique values\n"
     ]
    }
   ],
   "source": [
    "# Check the unique values in textual columns before normalization\n",
    "print(\"Unique values before normalization:\")\n",
    "for col in ['name', 'platform', 'genre', 'rating']:\n",
    "    if col in games.columns:\n",
    "        print(f\"{col}: {games[col].nunique()} Unique values\")"
   ]
  },
  {
   "cell_type": "markdown",
   "id": "a5f0e972",
   "metadata": {
    "id": "f1627198"
   },
   "source": [
    "For the `platform`, `genre`, and `rating` columns, we expected to see a small number of unique values, as they are categorical data. In the `name` column, we see 11,426 unique values out of 16,679.\n",
    "\n",
    "Let's continue working with implicit duplicates.\n",
    "- Convert `name` and `genre` to lowercase using `.str.lower()`.\n",
    "- Convert `platform` and `rating` to uppercase using `.str.upper()`.\n",
    "- Remove leading and trailing spaces from all strings using `.str.strip()`."
   ]
  },
  {
   "cell_type": "code",
   "execution_count": 80,
   "id": "a0cac80c",
   "metadata": {
    "id": "a0cac80c"
   },
   "outputs": [],
   "source": [
    "# Convert text data to lower or upper case, remove extra spaces\n",
    "games['name'] = games['name'].str.lower().str.strip()\n",
    "games['platform'] = games['platform'].str.upper().str.strip()\n",
    "games['genre'] = games['genre'].str.lower().str.strip()\n",
    "games['rating'] = games['rating'].str.upper().str.strip()\n"
   ]
  },
  {
   "cell_type": "code",
   "execution_count": 81,
   "id": "8f4c56fd",
   "metadata": {},
   "outputs": [
    {
     "data": {
      "text/plain": [
       "array(['E', 'UNKNOWN', 'M', 'T', 'E10+', 'K-A', 'AO', 'EC', 'RP'],\n",
       "      dtype=object)"
      ]
     },
     "execution_count": 81,
     "metadata": {},
     "output_type": "execute_result"
    }
   ],
   "source": [
    "games['rating'].unique()"
   ]
  },
  {
   "cell_type": "markdown",
   "id": "d8ec6c5d",
   "metadata": {},
   "source": [
    "It can be seen that the rating contains the value 'K-A', which is the original version of the 'E' rating. Let's replace the 'K-A' values with 'E'."
   ]
  },
  {
   "cell_type": "code",
   "execution_count": 82,
   "id": "448c007a",
   "metadata": {},
   "outputs": [],
   "source": [
    "# Replace all 'K-A' values with 'E' in the 'rating' column\n",
    "games['rating'] = games['rating'].replace('K-A', 'E')"
   ]
  },
  {
   "cell_type": "code",
   "execution_count": 83,
   "id": "13a6feba",
   "metadata": {},
   "outputs": [
    {
     "name": "stdout",
     "output_type": "stream",
     "text": [
      "\n",
      "Unique values after normalization:\n",
      "name: 11426 unique values\n",
      "platform: 31 unique values\n",
      "genre: 12 unique values\n",
      "rating: 8 unique values\n"
     ]
    }
   ],
   "source": [
    "# Output of the number of unique values after normalization\n",
    "print(\"\\nUnique values after normalization:\")\n",
    "for col in ['name', 'platform', 'genre', 'rating']:\n",
    "    if col in games.columns:\n",
    "        print(f\"{col}: {games[col].nunique()} unique values\")"
   ]
  },
  {
   "cell_type": "markdown",
   "id": "5fa35481",
   "metadata": {},
   "source": [
    "We can see that after normalization, the number of unique values in `genre` was reduced by half, now it has 12 instead of 24, and in `rating`, it decreased by 1 value, now there are 8 unique ratings.\n",
    "The number of unique values in other columns remained the same, as they originally didn't contain any implicit duplicates.\n",
    "\n",
    "Let's continue working with duplicates and move on to finding and removing explicit duplicates in the data."
   ]
  },
  {
   "cell_type": "markdown",
   "id": "fc3d3db4",
   "metadata": {
    "id": "fc3d3db4"
   },
   "source": [
    "Let's check for exact duplicates — rows where all values are identical.  \n",
    "If duplicates are found, we will remove them, as they are likely errors (e.g., accidental repetition of records during data collection)."
   ]
  },
  {
   "cell_type": "code",
   "execution_count": 84,
   "id": "fc5c91b5",
   "metadata": {
    "id": "fc5c91b5"
   },
   "outputs": [
    {
     "data": {
      "text/html": [
       "<div>\n",
       "<style scoped>\n",
       "    .dataframe tbody tr th:only-of-type {\n",
       "        vertical-align: middle;\n",
       "    }\n",
       "\n",
       "    .dataframe tbody tr th {\n",
       "        vertical-align: top;\n",
       "    }\n",
       "\n",
       "    .dataframe thead th {\n",
       "        text-align: right;\n",
       "    }\n",
       "</style>\n",
       "<table border=\"1\" class=\"dataframe\">\n",
       "  <thead>\n",
       "    <tr style=\"text-align: right;\">\n",
       "      <th></th>\n",
       "      <th>name</th>\n",
       "      <th>platform</th>\n",
       "      <th>year_of_release</th>\n",
       "      <th>genre</th>\n",
       "      <th>na_sales</th>\n",
       "      <th>eu_sales</th>\n",
       "      <th>jp_sales</th>\n",
       "      <th>other_sales</th>\n",
       "      <th>critic_score</th>\n",
       "      <th>user_score</th>\n",
       "      <th>rating</th>\n",
       "    </tr>\n",
       "  </thead>\n",
       "  <tbody>\n",
       "    <tr>\n",
       "      <th>268</th>\n",
       "      <td>batman: arkham asylum</td>\n",
       "      <td>PS3</td>\n",
       "      <td>2009</td>\n",
       "      <td>action</td>\n",
       "      <td>2.24</td>\n",
       "      <td>1.31</td>\n",
       "      <td>0.07</td>\n",
       "      <td>0.61</td>\n",
       "      <td>91.0</td>\n",
       "      <td>8.9</td>\n",
       "      <td>T</td>\n",
       "    </tr>\n",
       "    <tr>\n",
       "      <th>368</th>\n",
       "      <td>james bond 007: agent under fire</td>\n",
       "      <td>PS2</td>\n",
       "      <td>2001</td>\n",
       "      <td>shooter</td>\n",
       "      <td>1.90</td>\n",
       "      <td>1.13</td>\n",
       "      <td>0.10</td>\n",
       "      <td>0.41</td>\n",
       "      <td>72.0</td>\n",
       "      <td>7.9</td>\n",
       "      <td>T</td>\n",
       "    </tr>\n",
       "    <tr>\n",
       "      <th>717</th>\n",
       "      <td>god of war: ascension</td>\n",
       "      <td>PS3</td>\n",
       "      <td>2013</td>\n",
       "      <td>action</td>\n",
       "      <td>1.23</td>\n",
       "      <td>0.63</td>\n",
       "      <td>0.04</td>\n",
       "      <td>0.35</td>\n",
       "      <td>80.0</td>\n",
       "      <td>7.5</td>\n",
       "      <td>M</td>\n",
       "    </tr>\n",
       "    <tr>\n",
       "      <th>823</th>\n",
       "      <td>wipeout: the game</td>\n",
       "      <td>WII</td>\n",
       "      <td>2009</td>\n",
       "      <td>misc</td>\n",
       "      <td>1.94</td>\n",
       "      <td>0.00</td>\n",
       "      <td>0.00</td>\n",
       "      <td>0.12</td>\n",
       "      <td>-1.0</td>\n",
       "      <td>-1.0</td>\n",
       "      <td>UNKNOWN</td>\n",
       "    </tr>\n",
       "    <tr>\n",
       "      <th>848</th>\n",
       "      <td>rayman raving rabbids: tv party</td>\n",
       "      <td>WII</td>\n",
       "      <td>2008</td>\n",
       "      <td>misc</td>\n",
       "      <td>0.72</td>\n",
       "      <td>1.08</td>\n",
       "      <td>0.00</td>\n",
       "      <td>0.23</td>\n",
       "      <td>73.0</td>\n",
       "      <td>7.7</td>\n",
       "      <td>E10+</td>\n",
       "    </tr>\n",
       "    <tr>\n",
       "      <th>...</th>\n",
       "      <td>...</td>\n",
       "      <td>...</td>\n",
       "      <td>...</td>\n",
       "      <td>...</td>\n",
       "      <td>...</td>\n",
       "      <td>...</td>\n",
       "      <td>...</td>\n",
       "      <td>...</td>\n",
       "      <td>...</td>\n",
       "      <td>...</td>\n",
       "      <td>...</td>\n",
       "    </tr>\n",
       "    <tr>\n",
       "      <th>16671</th>\n",
       "      <td>fullmetal alchemist: prince of the dawn</td>\n",
       "      <td>WII</td>\n",
       "      <td>2009</td>\n",
       "      <td>adventure</td>\n",
       "      <td>0.00</td>\n",
       "      <td>0.00</td>\n",
       "      <td>0.01</td>\n",
       "      <td>0.00</td>\n",
       "      <td>-1.0</td>\n",
       "      <td>-1.0</td>\n",
       "      <td>UNKNOWN</td>\n",
       "    </tr>\n",
       "    <tr>\n",
       "      <th>16753</th>\n",
       "      <td>routes pe</td>\n",
       "      <td>PS2</td>\n",
       "      <td>2007</td>\n",
       "      <td>adventure</td>\n",
       "      <td>0.00</td>\n",
       "      <td>0.00</td>\n",
       "      <td>0.01</td>\n",
       "      <td>0.00</td>\n",
       "      <td>-1.0</td>\n",
       "      <td>-1.0</td>\n",
       "      <td>UNKNOWN</td>\n",
       "    </tr>\n",
       "    <tr>\n",
       "      <th>16799</th>\n",
       "      <td>transformers: prime</td>\n",
       "      <td>WII</td>\n",
       "      <td>2012</td>\n",
       "      <td>action</td>\n",
       "      <td>0.00</td>\n",
       "      <td>0.01</td>\n",
       "      <td>0.00</td>\n",
       "      <td>0.00</td>\n",
       "      <td>-1.0</td>\n",
       "      <td>-1.0</td>\n",
       "      <td>UNKNOWN</td>\n",
       "    </tr>\n",
       "    <tr>\n",
       "      <th>16912</th>\n",
       "      <td>metal gear solid v: the definitive experience</td>\n",
       "      <td>XONE</td>\n",
       "      <td>2016</td>\n",
       "      <td>action</td>\n",
       "      <td>0.01</td>\n",
       "      <td>0.00</td>\n",
       "      <td>0.00</td>\n",
       "      <td>0.00</td>\n",
       "      <td>-1.0</td>\n",
       "      <td>-1.0</td>\n",
       "      <td>M</td>\n",
       "    </tr>\n",
       "    <tr>\n",
       "      <th>16940</th>\n",
       "      <td>the longest 5 minutes</td>\n",
       "      <td>PSV</td>\n",
       "      <td>2016</td>\n",
       "      <td>action</td>\n",
       "      <td>0.00</td>\n",
       "      <td>0.00</td>\n",
       "      <td>0.01</td>\n",
       "      <td>0.00</td>\n",
       "      <td>-1.0</td>\n",
       "      <td>-1.0</td>\n",
       "      <td>UNKNOWN</td>\n",
       "    </tr>\n",
       "  </tbody>\n",
       "</table>\n",
       "<p>235 rows × 11 columns</p>\n",
       "</div>"
      ],
      "text/plain": [
       "                                                name platform  \\\n",
       "268                            batman: arkham asylum      PS3   \n",
       "368                 james bond 007: agent under fire      PS2   \n",
       "717                            god of war: ascension      PS3   \n",
       "823                                wipeout: the game      WII   \n",
       "848                  rayman raving rabbids: tv party      WII   \n",
       "...                                              ...      ...   \n",
       "16671        fullmetal alchemist: prince of the dawn      WII   \n",
       "16753                                      routes pe      PS2   \n",
       "16799                            transformers: prime      WII   \n",
       "16912  metal gear solid v: the definitive experience     XONE   \n",
       "16940                          the longest 5 minutes      PSV   \n",
       "\n",
       "       year_of_release      genre  na_sales  eu_sales  jp_sales  other_sales  \\\n",
       "268               2009     action      2.24      1.31      0.07         0.61   \n",
       "368               2001    shooter      1.90      1.13      0.10         0.41   \n",
       "717               2013     action      1.23      0.63      0.04         0.35   \n",
       "823               2009       misc      1.94      0.00      0.00         0.12   \n",
       "848               2008       misc      0.72      1.08      0.00         0.23   \n",
       "...                ...        ...       ...       ...       ...          ...   \n",
       "16671             2009  adventure      0.00      0.00      0.01         0.00   \n",
       "16753             2007  adventure      0.00      0.00      0.01         0.00   \n",
       "16799             2012     action      0.00      0.01      0.00         0.00   \n",
       "16912             2016     action      0.01      0.00      0.00         0.00   \n",
       "16940             2016     action      0.00      0.00      0.01         0.00   \n",
       "\n",
       "       critic_score  user_score   rating  \n",
       "268            91.0         8.9        T  \n",
       "368            72.0         7.9        T  \n",
       "717            80.0         7.5        M  \n",
       "823            -1.0        -1.0  UNKNOWN  \n",
       "848            73.0         7.7     E10+  \n",
       "...             ...         ...      ...  \n",
       "16671          -1.0        -1.0  UNKNOWN  \n",
       "16753          -1.0        -1.0  UNKNOWN  \n",
       "16799          -1.0        -1.0  UNKNOWN  \n",
       "16912          -1.0        -1.0        M  \n",
       "16940          -1.0        -1.0  UNKNOWN  \n",
       "\n",
       "[235 rows x 11 columns]"
      ]
     },
     "execution_count": 84,
     "metadata": {},
     "output_type": "execute_result"
    }
   ],
   "source": [
    "# Check for complete duplicates\n",
    "games[games.duplicated()]"
   ]
  },
  {
   "cell_type": "code",
   "execution_count": 85,
   "id": "e33567b0",
   "metadata": {},
   "outputs": [],
   "source": [
    "#Removing obvious duplicates\n",
    "games.drop_duplicates(inplace=True)"
   ]
  },
  {
   "cell_type": "markdown",
   "id": "0dc2998a",
   "metadata": {},
   "source": [
    "In addition to complete duplicates, we will also check for duplicates by name, platform and year of release."
   ]
  },
  {
   "cell_type": "code",
   "execution_count": 86,
   "id": "209134f9",
   "metadata": {},
   "outputs": [
    {
     "data": {
      "text/html": [
       "<div>\n",
       "<style scoped>\n",
       "    .dataframe tbody tr th:only-of-type {\n",
       "        vertical-align: middle;\n",
       "    }\n",
       "\n",
       "    .dataframe tbody tr th {\n",
       "        vertical-align: top;\n",
       "    }\n",
       "\n",
       "    .dataframe thead th {\n",
       "        text-align: right;\n",
       "    }\n",
       "</style>\n",
       "<table border=\"1\" class=\"dataframe\">\n",
       "  <thead>\n",
       "    <tr style=\"text-align: right;\">\n",
       "      <th></th>\n",
       "      <th>name</th>\n",
       "      <th>platform</th>\n",
       "      <th>year_of_release</th>\n",
       "      <th>genre</th>\n",
       "      <th>na_sales</th>\n",
       "      <th>eu_sales</th>\n",
       "      <th>jp_sales</th>\n",
       "      <th>other_sales</th>\n",
       "      <th>critic_score</th>\n",
       "      <th>user_score</th>\n",
       "      <th>rating</th>\n",
       "    </tr>\n",
       "  </thead>\n",
       "  <tbody>\n",
       "    <tr>\n",
       "      <th>606</th>\n",
       "      <td>madden nfl 13</td>\n",
       "      <td>PS3</td>\n",
       "      <td>2012</td>\n",
       "      <td>sports</td>\n",
       "      <td>2.11</td>\n",
       "      <td>0.22</td>\n",
       "      <td>0.0</td>\n",
       "      <td>0.23</td>\n",
       "      <td>83.0</td>\n",
       "      <td>5.5</td>\n",
       "      <td>E</td>\n",
       "    </tr>\n",
       "    <tr>\n",
       "      <th>16465</th>\n",
       "      <td>madden nfl 13</td>\n",
       "      <td>PS3</td>\n",
       "      <td>2012</td>\n",
       "      <td>sports</td>\n",
       "      <td>0.00</td>\n",
       "      <td>0.01</td>\n",
       "      <td>0.0</td>\n",
       "      <td>0.00</td>\n",
       "      <td>83.0</td>\n",
       "      <td>5.5</td>\n",
       "      <td>E</td>\n",
       "    </tr>\n",
       "  </tbody>\n",
       "</table>\n",
       "</div>"
      ],
      "text/plain": [
       "                name platform  year_of_release   genre  na_sales  eu_sales  \\\n",
       "606    madden nfl 13      PS3             2012  sports      2.11      0.22   \n",
       "16465  madden nfl 13      PS3             2012  sports      0.00      0.01   \n",
       "\n",
       "       jp_sales  other_sales  critic_score  user_score rating  \n",
       "606         0.0         0.23          83.0         5.5      E  \n",
       "16465       0.0         0.00          83.0         5.5      E  "
      ]
     },
     "execution_count": 86,
     "metadata": {},
     "output_type": "execute_result"
    }
   ],
   "source": [
    "# Find duplicates by name, platform and year of release\n",
    "games[games.duplicated(subset=['name', 'platform', 'year_of_release'], keep=False)]"
   ]
  },
  {
   "cell_type": "markdown",
   "id": "9da7a4c8",
   "metadata": {},
   "source": [
    "For the game 'Madden NFL 13', we see that most of the values match. We will keep the first row, as the data in it appears more complete and reliable, and remove the second one."
   ]
  },
  {
   "cell_type": "code",
   "execution_count": 87,
   "id": "e48845e7",
   "metadata": {},
   "outputs": [
    {
     "data": {
      "text/plain": [
       "(16443, 11)"
      ]
     },
     "execution_count": 87,
     "metadata": {},
     "output_type": "execute_result"
    }
   ],
   "source": [
    "# We remove duplicates by checking by name, platform and year of release\n",
    "games.drop_duplicates(subset=['name', 'platform', 'year_of_release'], keep='first', inplace=True)\n",
    "\n",
    "# Checking the Size of a DataFrame After Removing Duplicates\n",
    "games.shape"
   ]
  },
  {
   "cell_type": "markdown",
   "id": "72645ae9",
   "metadata": {
    "id": "72645ae9"
   },
   "source": [
    "- During the data preparation process, we removed and transformed missing values and errors in the data, and also worked on transforming and removing duplicates. Let's calculate the number of rows removed in absolute and relative values."
   ]
  },
  {
   "cell_type": "code",
   "execution_count": 88,
   "id": "f9d8ee19",
   "metadata": {
    "id": "f9d8ee19"
   },
   "outputs": [
    {
     "data": {
      "text/plain": [
       "(513, 3.0254777070063694)"
      ]
     },
     "execution_count": 88,
     "metadata": {},
     "output_type": "execute_result"
    }
   ],
   "source": [
    "# Number of lines before clearing\n",
    "initial_rows = 16956\n",
    "\n",
    "# Number of lines after clearing\n",
    "final_rows = games.shape[0]\n",
    "\n",
    "# Calculate the number of deleted rows\n",
    "removed_rows = initial_rows - final_rows\n",
    "\n",
    "# Calculate the percentage of deleted rows\n",
    "removed_percentage = (removed_rows / initial_rows) * 100\n",
    "\n",
    "removed_rows, removed_percentage\n"
   ]
  },
  {
   "cell_type": "markdown",
   "id": "5c55cfbe",
   "metadata": {
    "id": "3d7a9d8e"
   },
   "source": [
    "In the original dataset, there were 16,956 records and 11 columns.\n",
    "\n",
    "Some columns contained missing values and had incorrect data types.\n",
    "\n",
    "- All column names were converted to the `snake_case` style.\n",
    "- Rows with missing values in the `name`, `genre`, and `year_of_release` columns were removed, as the percentage of missing values in these columns was small. Missing values in the `rating` column were replaced with 'Unknown'. Missing values in the `critic_score` and `user_score` columns were replaced with the unrealistic value `-1`. Missing values in `eu_sales` and `jp_sales` were replaced with the mean value grouped by platform and release year.\n",
    "- The `year_of_release` column was converted to the `int16` data type for memory optimization and easier representation of the release year. The `eu_sales` and `jp_sales` columns were converted to numeric types, not strings, for correct data processing. The `platform`, `genre`, and `rating` columns were converted to the `category` data type.\n",
    "- Transformations were applied to the `name`, `genre`, `platform`, and `rating` columns to eliminate possible implicit duplicates (such as different case or typos).\n",
    "- Explicit duplicate rows were removed, resulting in a smaller dataset.\n",
    "\n",
    "As a result of these operations, the dataset size decreased from 16,956 to 16,443 records, which corresponds to the removal of 513 rows (3%).\n",
    "All columns now contain data without missing values, and data types have been optimized."
   ]
  },
  {
   "cell_type": "markdown",
   "id": "613f0eb0",
   "metadata": {
    "id": "613f0eb0"
   },
   "source": [
    "---\n",
    "\n",
    "## 3. Data Filtering\n",
    "\n",
    "Our colleagues are interested in studying the history of game sales in the early 21st century, specifically the period from 2000 to 2013. To do this, we will filter the data based on the release year and save the filtered subset into a new dataframe, `df_actual`."
   ]
  },
  {
   "cell_type": "code",
   "execution_count": 89,
   "id": "2344916d",
   "metadata": {
    "id": "2344916d"
   },
   "outputs": [],
   "source": [
    "# We apply a filter that limits the range of games output from 2000 to 2013 inclusive\n",
    "df_actual = games[(games['year_of_release'] >= 2000) & (games['year_of_release'] <= 2013)]"
   ]
  },
  {
   "cell_type": "code",
   "execution_count": 90,
   "id": "906577e8",
   "metadata": {
    "id": "906577e8"
   },
   "outputs": [
    {
     "name": "stdout",
     "output_type": "stream",
     "text": [
      "<class 'pandas.core.frame.DataFrame'>\n",
      "Index: 12780 entries, 0 to 16954\n",
      "Data columns (total 11 columns):\n",
      " #   Column           Non-Null Count  Dtype  \n",
      "---  ------           --------------  -----  \n",
      " 0   name             12780 non-null  object \n",
      " 1   platform         12780 non-null  object \n",
      " 2   year_of_release  12780 non-null  int16  \n",
      " 3   genre            12780 non-null  object \n",
      " 4   na_sales         12780 non-null  float64\n",
      " 5   eu_sales         12780 non-null  float64\n",
      " 6   jp_sales         12780 non-null  float64\n",
      " 7   other_sales      12780 non-null  float64\n",
      " 8   critic_score     12780 non-null  float64\n",
      " 9   user_score       12780 non-null  float64\n",
      " 10  rating           12780 non-null  object \n",
      "dtypes: float64(6), int16(1), object(4)\n",
      "memory usage: 1.1+ MB\n"
     ]
    }
   ],
   "source": [
    "df_actual.info()"
   ]
  },
  {
   "cell_type": "code",
   "execution_count": 91,
   "id": "138080c1",
   "metadata": {},
   "outputs": [
    {
     "data": {
      "text/html": [
       "<div>\n",
       "<style scoped>\n",
       "    .dataframe tbody tr th:only-of-type {\n",
       "        vertical-align: middle;\n",
       "    }\n",
       "\n",
       "    .dataframe tbody tr th {\n",
       "        vertical-align: top;\n",
       "    }\n",
       "\n",
       "    .dataframe thead th {\n",
       "        text-align: right;\n",
       "    }\n",
       "</style>\n",
       "<table border=\"1\" class=\"dataframe\">\n",
       "  <thead>\n",
       "    <tr style=\"text-align: right;\">\n",
       "      <th></th>\n",
       "      <th>name</th>\n",
       "      <th>platform</th>\n",
       "      <th>year_of_release</th>\n",
       "      <th>genre</th>\n",
       "      <th>na_sales</th>\n",
       "      <th>eu_sales</th>\n",
       "      <th>jp_sales</th>\n",
       "      <th>other_sales</th>\n",
       "      <th>critic_score</th>\n",
       "      <th>user_score</th>\n",
       "      <th>rating</th>\n",
       "    </tr>\n",
       "  </thead>\n",
       "  <tbody>\n",
       "    <tr>\n",
       "      <th>0</th>\n",
       "      <td>wii sports</td>\n",
       "      <td>WII</td>\n",
       "      <td>2006</td>\n",
       "      <td>sports</td>\n",
       "      <td>41.36</td>\n",
       "      <td>28.96</td>\n",
       "      <td>3.77</td>\n",
       "      <td>8.45</td>\n",
       "      <td>76.0</td>\n",
       "      <td>8.0</td>\n",
       "      <td>E</td>\n",
       "    </tr>\n",
       "    <tr>\n",
       "      <th>2</th>\n",
       "      <td>mario kart wii</td>\n",
       "      <td>WII</td>\n",
       "      <td>2008</td>\n",
       "      <td>racing</td>\n",
       "      <td>15.68</td>\n",
       "      <td>12.76</td>\n",
       "      <td>3.79</td>\n",
       "      <td>3.29</td>\n",
       "      <td>82.0</td>\n",
       "      <td>8.3</td>\n",
       "      <td>E</td>\n",
       "    </tr>\n",
       "    <tr>\n",
       "      <th>3</th>\n",
       "      <td>wii sports resort</td>\n",
       "      <td>WII</td>\n",
       "      <td>2009</td>\n",
       "      <td>sports</td>\n",
       "      <td>15.61</td>\n",
       "      <td>10.93</td>\n",
       "      <td>3.28</td>\n",
       "      <td>2.95</td>\n",
       "      <td>80.0</td>\n",
       "      <td>8.0</td>\n",
       "      <td>E</td>\n",
       "    </tr>\n",
       "    <tr>\n",
       "      <th>6</th>\n",
       "      <td>new super mario bros.</td>\n",
       "      <td>DS</td>\n",
       "      <td>2006</td>\n",
       "      <td>platform</td>\n",
       "      <td>11.28</td>\n",
       "      <td>9.14</td>\n",
       "      <td>6.50</td>\n",
       "      <td>2.88</td>\n",
       "      <td>89.0</td>\n",
       "      <td>8.5</td>\n",
       "      <td>E</td>\n",
       "    </tr>\n",
       "    <tr>\n",
       "      <th>7</th>\n",
       "      <td>wii play</td>\n",
       "      <td>WII</td>\n",
       "      <td>2006</td>\n",
       "      <td>misc</td>\n",
       "      <td>13.96</td>\n",
       "      <td>9.18</td>\n",
       "      <td>2.93</td>\n",
       "      <td>2.84</td>\n",
       "      <td>58.0</td>\n",
       "      <td>6.6</td>\n",
       "      <td>E</td>\n",
       "    </tr>\n",
       "  </tbody>\n",
       "</table>\n",
       "</div>"
      ],
      "text/plain": [
       "                    name platform  year_of_release     genre  na_sales  \\\n",
       "0             wii sports      WII             2006    sports     41.36   \n",
       "2         mario kart wii      WII             2008    racing     15.68   \n",
       "3      wii sports resort      WII             2009    sports     15.61   \n",
       "6  new super mario bros.       DS             2006  platform     11.28   \n",
       "7               wii play      WII             2006      misc     13.96   \n",
       "\n",
       "   eu_sales  jp_sales  other_sales  critic_score  user_score rating  \n",
       "0     28.96      3.77         8.45          76.0         8.0      E  \n",
       "2     12.76      3.79         3.29          82.0         8.3      E  \n",
       "3     10.93      3.28         2.95          80.0         8.0      E  \n",
       "6      9.14      6.50         2.88          89.0         8.5      E  \n",
       "7      9.18      2.93         2.84          58.0         6.6      E  "
      ]
     },
     "execution_count": 91,
     "metadata": {},
     "output_type": "execute_result"
    }
   ],
   "source": [
    "df_actual.head()"
   ]
  },
  {
   "cell_type": "markdown",
   "id": "c1f4501e",
   "metadata": {},
   "source": [
    "12,771 games were released between 2000 and 2013."
   ]
  },
  {
   "cell_type": "markdown",
   "id": "a6f10b01",
   "metadata": {
    "id": "a6f10b01"
   },
   "source": [
    "---\n",
    "\n",
    "## 4. Data Categorization\n",
    "\n",
    "We need to categorize the data:\n",
    "\n",
    "First, we will categorize all games based on user ratings (`user_score`) into the following categories:\n",
    "- High rating (from 8 to 10 inclusive),\n",
    "- Average rating (from 3 to 8, excluding the upper boundary),\n",
    "- Low rating (from 0 to 3, excluding the upper boundary).\n",
    "\n",
    "To do this, we will create a new column called `user_score_category`."
   ]
  },
  {
   "cell_type": "code",
   "execution_count": 92,
   "id": "3db87229",
   "metadata": {
    "id": "3db87229"
   },
   "outputs": [
    {
     "name": "stderr",
     "output_type": "stream",
     "text": [
      "C:\\Users\\Maria\\AppData\\Local\\Temp\\ipykernel_15824\\2252965003.py:10: SettingWithCopyWarning: \n",
      "A value is trying to be set on a copy of a slice from a DataFrame.\n",
      "Try using .loc[row_indexer,col_indexer] = value instead\n",
      "\n",
      "See the caveats in the documentation: https://pandas.pydata.org/pandas-docs/stable/user_guide/indexing.html#returning-a-view-versus-a-copy\n",
      "  df_actual['user_score_category'] = df_actual['user_score'].apply(categorize_user_score)\n",
      "C:\\Users\\Maria\\AppData\\Local\\Temp\\ipykernel_15824\\2252965003.py:13: SettingWithCopyWarning: \n",
      "A value is trying to be set on a copy of a slice from a DataFrame.\n",
      "Try using .loc[row_indexer,col_indexer] = value instead\n",
      "\n",
      "See the caveats in the documentation: https://pandas.pydata.org/pandas-docs/stable/user_guide/indexing.html#returning-a-view-versus-a-copy\n",
      "  df_actual['user_score_category'] = df_actual['user_score_category'].astype('category')\n"
     ]
    }
   ],
   "source": [
    "# Defining categories using a function\n",
    "def categorize_user_score(score):\n",
    "    if 8 <= score <= 10:\n",
    "        return 'high rating'\n",
    "    elif 3 <= score < 8:\n",
    "        return 'average rating'\n",
    "    elif 0 <= score < 3:\n",
    "        return 'low rating'\n",
    "\n",
    "df_actual['user_score_category'] = df_actual['user_score'].apply(categorize_user_score)\n",
    "\n",
    "# Assign the column the 'category' data type\n",
    "df_actual['user_score_category'] = df_actual['user_score_category'].astype('category')"
   ]
  },
  {
   "cell_type": "markdown",
   "id": "f8f34b40",
   "metadata": {
    "id": "f8f34b40"
   },
   "source": [
    "Now, we will categorize all games based on critic ratings (`critic_score`) into the following categories:\n",
    "- High rating (from 80 to 100 inclusive),\n",
    "- Average rating (from 30 to 80, excluding the upper boundary),\n",
    "- Low rating (from 0 to 30, excluding the upper boundary).\n",
    "\n",
    "To do this, we will create a new column called `critic_score_category`."
   ]
  },
  {
   "cell_type": "code",
   "execution_count": 93,
   "id": "e3f7acb0",
   "metadata": {
    "id": "e3f7acb0"
   },
   "outputs": [
    {
     "name": "stderr",
     "output_type": "stream",
     "text": [
      "C:\\Users\\Maria\\AppData\\Local\\Temp\\ipykernel_15824\\885852705.py:9: SettingWithCopyWarning: \n",
      "A value is trying to be set on a copy of a slice from a DataFrame.\n",
      "Try using .loc[row_indexer,col_indexer] = value instead\n",
      "\n",
      "See the caveats in the documentation: https://pandas.pydata.org/pandas-docs/stable/user_guide/indexing.html#returning-a-view-versus-a-copy\n",
      "  df_actual['critic_score_category'] = df_actual['critic_score'].apply(categorize_critic_score)\n",
      "C:\\Users\\Maria\\AppData\\Local\\Temp\\ipykernel_15824\\885852705.py:13: SettingWithCopyWarning: \n",
      "A value is trying to be set on a copy of a slice from a DataFrame.\n",
      "Try using .loc[row_indexer,col_indexer] = value instead\n",
      "\n",
      "See the caveats in the documentation: https://pandas.pydata.org/pandas-docs/stable/user_guide/indexing.html#returning-a-view-versus-a-copy\n",
      "  df_actual['critic_score_category'] = df_actual['critic_score_category'].astype('category')\n"
     ]
    }
   ],
   "source": [
    "def categorize_critic_score(score):\n",
    "    if 80 <= score <= 100:\n",
    "        return 'high rating'\n",
    "    elif 30 <= score < 80:\n",
    "        return 'average rating'\n",
    "    elif 0 <= score < 30:\n",
    "        return 'low rating'\n",
    "\n",
    "df_actual['critic_score_category'] = df_actual['critic_score'].apply(categorize_critic_score)\n",
    "\n",
    "\n",
    "# Assign the column the 'category' data type\n",
    "df_actual['critic_score_category'] = df_actual['critic_score_category'].astype('category')"
   ]
  },
  {
   "cell_type": "markdown",
   "id": "b3bcee52",
   "metadata": {
    "id": "x2ne0HIpUMMD"
   },
   "source": [
    "After categorizing the data, we will check the result by grouping the data by the newly created categories and counting the number of games in each category."
   ]
  },
  {
   "cell_type": "code",
   "execution_count": 94,
   "id": "U6kiXU3JUMCc",
   "metadata": {
    "id": "U6kiXU3JUMCc"
   },
   "outputs": [
    {
     "name": "stdout",
     "output_type": "stream",
     "text": [
      "Number of games by user rating categories:\n",
      "average rating: 4080 games\n",
      "high rating: 2286 games\n",
      "low rating: 116 games\n",
      "\n",
      "Number of games by critic ratings category:\n",
      "average rating: 5422 games\n",
      "high rating: 1691 games\n",
      "low rating: 55 games\n"
     ]
    }
   ],
   "source": [
    "# Grouping by user rating categories\n",
    "print(\"Number of games by user rating categories:\")\n",
    "user_score_counts = df_actual['user_score_category'].value_counts()\n",
    "for category, count in user_score_counts.items():\n",
    "    print(f\"{category}: {count} games\")\n",
    "\n",
    "# Grouped by critics' ratings categories\n",
    "print(\"\\nNumber of games by critic ratings category:\")\n",
    "critic_score_counts = df_actual['critic_score_category'].value_counts()\n",
    "for category, count in critic_score_counts.items():\n",
    "    print(f\"{category}: {count} games\")"
   ]
  },
  {
   "cell_type": "markdown",
   "id": "6a98444c",
   "metadata": {
    "id": "6a98444c"
   },
   "source": [
    "- We will highlight the top-7 platforms based on the number of games released during the entire relevant period."
   ]
  },
  {
   "cell_type": "code",
   "execution_count": 95,
   "id": "003caa2c",
   "metadata": {
    "id": "003caa2c"
   },
   "outputs": [
    {
     "name": "stdout",
     "output_type": "stream",
     "text": [
      "Top 7 platforms by number of games:\n",
      "platform\n",
      "PS2     2127\n",
      "DS      2120\n",
      "WII     1275\n",
      "PSP     1180\n",
      "X360    1121\n",
      "PS3     1086\n",
      "GBA      811\n",
      "Name: count, dtype: int64\n"
     ]
    }
   ],
   "source": [
    "# We group by platforms and count the number of games\n",
    "top_platforms = df_actual['platform'].value_counts().head(7)\n",
    "\n",
    "print(\"Top 7 platforms by number of games:\")\n",
    "print(top_platforms)"
   ]
  },
  {
   "cell_type": "markdown",
   "id": "412e2ff2",
   "metadata": {
    "id": "f240904a"
   },
   "source": [
    "Thus, the PS2 platform had the highest number of games released during the period from 2000 to 2013."
   ]
  },
  {
   "cell_type": "markdown",
   "id": "c0158881",
   "metadata": {
    "id": "c0158881"
   },
   "source": [
    "---\n",
    "\n",
    "## 5. Final conclusion\n"
   ]
  },
  {
   "cell_type": "markdown",
   "id": "5b766436",
   "metadata": {
    "id": "20175f5b"
   },
   "source": [
    "The dataset `new_games.csv` contains **11 columns and 16956 rows**, presenting information about the sales of video games across various genres and platforms, as well as user and critic ratings. During the data inspection and preprocessing phase, the following steps were taken:\n",
    "\n",
    "- Column names were standardized to the snake_case style.\n",
    "- Rows with missing values in the `name`, `genre`, and `year_of_release` columns were removed. Missing values in the `rating` column were replaced with 'Unknown', and missing values in the `critic_score` and `user_score` columns were replaced with -1. Missing values in the `eu_sales` and `jp_sales` columns were replaced with the average value for each platform and year of release.\n",
    "- Data types in several columns were converted: `year_of_release` was converted to `int16`, `eu_sales` and `jp_sales` were converted to numeric types, and `platform`, `genre`, and `rating` were converted to the `category` data type.\n",
    "- Data transformations were applied to the `name`, `genre`, `platform`, and `rating` columns to eliminate potential implicit duplicates (e.g., due to different cases or typos). Explicit duplicates were removed, resulting in a reduced dataset size with corrected data.\n",
    "\n",
    "As a result of the preprocessing, the dataset size was reduced from 16956 to **16443 rows**, corresponding to the removal of 513 rows (3%).\n",
    "\n",
    "In the analysis of video game sales, a slice of data for the period **2000-2013** was selected. New columns `user_score_category` and `critic_score_category` were created to categorize games by user and critic ratings into three categories: high, medium, and low ratings. The top-7 platforms by the number of games released during this period were identified.\n",
    "\n",
    "Key findings from the analysis:\n",
    "\n",
    "- The highest number of games (4080) received a medium rating from **users**.\n",
    "- A significant portion, 2286 games, received a high rating, indicating the presence of quality games.\n",
    "- Only 116 games were categorized with a low user rating, which may indicate limited audience interest.\n",
    "\n",
    "Regarding **critic ratings**:\n",
    "- About 5422 games received an average rating from critics.\n",
    "- 1691 games received a high rating, showing a relatively small percentage of highly rated titles.\n",
    "- Only 55 games were classified as low-rated by critics, indicating a small number of unsuccessful games.\n",
    "\n",
    "As for the **platforms**:\n",
    "- PS2 and DS were the leaders, with 2127 and 2120 games released, respectively.\n",
    "- Other platforms such as WII, PSP, X360, PS3, and GBA also developed strong game libraries during the period but had fewer games compared to the leading platforms."
   ]
  }
 ],
 "metadata": {
  "ExecuteTimeLog": [
   {
    "duration": 361,
    "start_time": "2024-12-16T14:37:56.731Z"
   },
   {
    "duration": 49,
    "start_time": "2024-12-16T14:39:31.521Z"
   },
   {
    "duration": 105,
    "start_time": "2024-12-16T14:40:06.679Z"
   },
   {
    "duration": 14,
    "start_time": "2024-12-16T14:40:28.895Z"
   },
   {
    "duration": 19,
    "start_time": "2024-12-16T14:41:53.857Z"
   },
   {
    "duration": 18,
    "start_time": "2024-12-16T15:28:05.243Z"
   },
   {
    "duration": 21,
    "start_time": "2024-12-16T15:28:43.893Z"
   },
   {
    "duration": 20,
    "start_time": "2024-12-16T15:28:52.468Z"
   },
   {
    "duration": 13,
    "start_time": "2024-12-16T15:29:05.774Z"
   },
   {
    "duration": 77,
    "start_time": "2024-12-16T15:31:31.615Z"
   },
   {
    "duration": 4,
    "start_time": "2024-12-16T15:31:52.206Z"
   },
   {
    "duration": 7,
    "start_time": "2024-12-16T15:57:50.785Z"
   },
   {
    "duration": 5,
    "start_time": "2024-12-16T15:57:58.658Z"
   },
   {
    "duration": 4,
    "start_time": "2024-12-16T15:59:14.970Z"
   },
   {
    "duration": 5,
    "start_time": "2024-12-16T15:59:35.615Z"
   },
   {
    "duration": 3,
    "start_time": "2024-12-16T16:02:45.772Z"
   },
   {
    "duration": 3,
    "start_time": "2024-12-16T16:04:27.052Z"
   },
   {
    "duration": 3,
    "start_time": "2024-12-16T16:05:25.014Z"
   },
   {
    "duration": 7,
    "start_time": "2024-12-16T16:37:45.020Z"
   },
   {
    "duration": 8,
    "start_time": "2024-12-16T16:37:50.136Z"
   },
   {
    "duration": 10,
    "start_time": "2024-12-16T16:39:17.083Z"
   },
   {
    "duration": 10,
    "start_time": "2024-12-16T16:39:22.882Z"
   },
   {
    "duration": 11,
    "start_time": "2024-12-16T16:39:49.387Z"
   },
   {
    "duration": 365,
    "start_time": "2024-12-16T17:33:07.821Z"
   },
   {
    "duration": 94,
    "start_time": "2024-12-16T17:33:10.997Z"
   },
   {
    "duration": 15,
    "start_time": "2024-12-16T17:33:18.418Z"
   },
   {
    "duration": 19,
    "start_time": "2024-12-16T17:33:38.616Z"
   },
   {
    "duration": 3,
    "start_time": "2024-12-16T17:34:04.180Z"
   },
   {
    "duration": 6,
    "start_time": "2024-12-16T17:34:07.786Z"
   },
   {
    "duration": 4,
    "start_time": "2024-12-16T17:34:09.567Z"
   },
   {
    "duration": 9,
    "start_time": "2024-12-16T17:34:17.799Z"
   },
   {
    "duration": 11,
    "start_time": "2024-12-16T17:34:26.863Z"
   },
   {
    "duration": 7,
    "start_time": "2024-12-16T18:35:12.253Z"
   },
   {
    "duration": 4,
    "start_time": "2024-12-16T18:39:12.629Z"
   },
   {
    "duration": 4,
    "start_time": "2024-12-16T18:39:46.325Z"
   },
   {
    "duration": 6,
    "start_time": "2024-12-16T18:53:51.898Z"
   },
   {
    "duration": 9,
    "start_time": "2024-12-16T19:05:20.520Z"
   },
   {
    "duration": 4,
    "start_time": "2024-12-16T19:05:23.976Z"
   },
   {
    "duration": 75,
    "start_time": "2024-12-16T19:22:09.663Z"
   },
   {
    "duration": 5,
    "start_time": "2024-12-16T19:24:04.525Z"
   },
   {
    "duration": 7,
    "start_time": "2024-12-16T19:26:44.026Z"
   },
   {
    "duration": 5,
    "start_time": "2024-12-16T19:30:47.253Z"
   },
   {
    "duration": 7,
    "start_time": "2024-12-16T19:33:39.760Z"
   },
   {
    "duration": 4,
    "start_time": "2024-12-16T19:35:14.876Z"
   },
   {
    "duration": 4,
    "start_time": "2024-12-16T19:36:00.980Z"
   },
   {
    "duration": 347,
    "start_time": "2024-12-16T19:36:23.736Z"
   },
   {
    "duration": 129,
    "start_time": "2024-12-16T19:36:25.316Z"
   },
   {
    "duration": 14,
    "start_time": "2024-12-16T19:36:26.733Z"
   },
   {
    "duration": 18,
    "start_time": "2024-12-16T19:36:49.367Z"
   },
   {
    "duration": 3,
    "start_time": "2024-12-16T19:36:52.360Z"
   },
   {
    "duration": 3,
    "start_time": "2024-12-16T19:36:55.127Z"
   },
   {
    "duration": 3,
    "start_time": "2024-12-16T19:36:56.505Z"
   },
   {
    "duration": 9,
    "start_time": "2024-12-16T19:37:04.772Z"
   },
   {
    "duration": 26,
    "start_time": "2024-12-16T19:37:09.430Z"
   },
   {
    "duration": 7,
    "start_time": "2024-12-16T19:39:05.966Z"
   },
   {
    "duration": 3,
    "start_time": "2024-12-16T19:39:09.309Z"
   },
   {
    "duration": 6,
    "start_time": "2024-12-16T19:39:19.037Z"
   },
   {
    "duration": 5,
    "start_time": "2024-12-16T19:39:31.166Z"
   },
   {
    "duration": 4,
    "start_time": "2024-12-16T19:39:52.270Z"
   },
   {
    "duration": 4,
    "start_time": "2024-12-16T19:41:41.396Z"
   },
   {
    "duration": 4,
    "start_time": "2024-12-16T19:43:21.325Z"
   },
   {
    "duration": 5,
    "start_time": "2024-12-16T19:43:23.868Z"
   },
   {
    "duration": 5,
    "start_time": "2024-12-16T19:55:20.286Z"
   },
   {
    "duration": 5,
    "start_time": "2024-12-16T19:55:52.626Z"
   },
   {
    "duration": 4,
    "start_time": "2024-12-16T19:56:19.838Z"
   },
   {
    "duration": 9,
    "start_time": "2024-12-16T20:00:48.173Z"
   },
   {
    "duration": 8,
    "start_time": "2024-12-16T20:00:50.343Z"
   },
   {
    "duration": 10,
    "start_time": "2024-12-16T20:00:57.257Z"
   },
   {
    "duration": 9,
    "start_time": "2024-12-16T20:01:05.165Z"
   },
   {
    "duration": 9,
    "start_time": "2024-12-16T20:01:08.982Z"
   },
   {
    "duration": 9,
    "start_time": "2024-12-16T20:01:11.489Z"
   },
   {
    "duration": 863,
    "start_time": "2024-12-16T20:01:30.627Z"
   },
   {
    "duration": 806,
    "start_time": "2024-12-16T20:01:45.384Z"
   },
   {
    "duration": 10,
    "start_time": "2024-12-16T20:02:03.059Z"
   },
   {
    "duration": 8,
    "start_time": "2024-12-16T20:02:06.228Z"
   },
   {
    "duration": 9,
    "start_time": "2024-12-16T20:02:10.105Z"
   },
   {
    "duration": 9,
    "start_time": "2024-12-16T20:02:19.641Z"
   },
   {
    "duration": 9,
    "start_time": "2024-12-16T20:02:26.196Z"
   },
   {
    "duration": 9,
    "start_time": "2024-12-16T20:02:30.319Z"
   },
   {
    "duration": 9,
    "start_time": "2024-12-16T20:02:33.028Z"
   },
   {
    "duration": 12,
    "start_time": "2024-12-16T20:02:35.612Z"
   },
   {
    "duration": 10,
    "start_time": "2024-12-16T20:03:15.696Z"
   },
   {
    "duration": 9,
    "start_time": "2024-12-16T20:03:19.696Z"
   },
   {
    "duration": 9,
    "start_time": "2024-12-16T20:03:24.947Z"
   },
   {
    "duration": 5,
    "start_time": "2024-12-16T20:04:12.481Z"
   },
   {
    "duration": 4,
    "start_time": "2024-12-16T20:04:38.759Z"
   },
   {
    "duration": 397,
    "start_time": "2024-12-17T06:17:21.154Z"
   },
   {
    "duration": 101,
    "start_time": "2024-12-17T06:17:22.795Z"
   },
   {
    "duration": 18,
    "start_time": "2024-12-17T06:17:25.003Z"
   },
   {
    "duration": 22,
    "start_time": "2024-12-17T06:17:28.457Z"
   },
   {
    "duration": 4,
    "start_time": "2024-12-17T06:17:31.810Z"
   },
   {
    "duration": 4,
    "start_time": "2024-12-17T06:17:33.626Z"
   },
   {
    "duration": 4,
    "start_time": "2024-12-17T06:17:35.329Z"
   },
   {
    "duration": 5,
    "start_time": "2024-12-17T06:17:48.459Z"
   },
   {
    "duration": 3,
    "start_time": "2024-12-17T06:23:08.444Z"
   },
   {
    "duration": 4,
    "start_time": "2024-12-17T06:23:14.414Z"
   },
   {
    "duration": 1476,
    "start_time": "2024-12-17T06:30:15.186Z"
   },
   {
    "duration": 5,
    "start_time": "2024-12-17T06:30:28.930Z"
   },
   {
    "duration": 19,
    "start_time": "2024-12-17T06:34:01.999Z"
   },
   {
    "duration": 2,
    "start_time": "2024-12-17T06:37:46.091Z"
   },
   {
    "duration": 14,
    "start_time": "2024-12-17T06:37:53.021Z"
   },
   {
    "duration": 8,
    "start_time": "2024-12-17T06:39:10.060Z"
   },
   {
    "duration": 3,
    "start_time": "2024-12-17T06:39:12.994Z"
   },
   {
    "duration": 6,
    "start_time": "2024-12-17T06:41:40.748Z"
   },
   {
    "duration": 9,
    "start_time": "2024-12-17T06:41:51.220Z"
   },
   {
    "duration": 8,
    "start_time": "2024-12-17T06:43:24.689Z"
   },
   {
    "duration": 7,
    "start_time": "2024-12-17T06:43:29.626Z"
   },
   {
    "duration": 7,
    "start_time": "2024-12-17T06:45:25.923Z"
   },
   {
    "duration": 8,
    "start_time": "2024-12-17T06:50:41.099Z"
   },
   {
    "duration": 5,
    "start_time": "2024-12-17T06:50:43.458Z"
   },
   {
    "duration": 14,
    "start_time": "2024-12-17T06:54:57.425Z"
   },
   {
    "duration": 9,
    "start_time": "2024-12-17T08:18:43.493Z"
   },
   {
    "duration": 14,
    "start_time": "2024-12-17T08:21:33.654Z"
   },
   {
    "duration": 393,
    "start_time": "2024-12-17T08:26:46.557Z"
   },
   {
    "duration": 114,
    "start_time": "2024-12-17T08:26:49.506Z"
   },
   {
    "duration": 16,
    "start_time": "2024-12-17T08:26:51.390Z"
   },
   {
    "duration": 21,
    "start_time": "2024-12-17T08:27:29.452Z"
   },
   {
    "duration": 4,
    "start_time": "2024-12-17T08:29:23.090Z"
   },
   {
    "duration": 4,
    "start_time": "2024-12-17T08:29:26.590Z"
   },
   {
    "duration": 5,
    "start_time": "2024-12-17T08:29:28.764Z"
   },
   {
    "duration": 6,
    "start_time": "2024-12-17T08:29:53.126Z"
   },
   {
    "duration": 8,
    "start_time": "2024-12-17T08:30:08.223Z"
   },
   {
    "duration": 5,
    "start_time": "2024-12-17T08:30:11.994Z"
   },
   {
    "duration": 8,
    "start_time": "2024-12-17T08:30:17.886Z"
   },
   {
    "duration": 5,
    "start_time": "2024-12-17T08:30:25.873Z"
   },
   {
    "duration": 8,
    "start_time": "2024-12-17T08:32:01.936Z"
   },
   {
    "duration": 10,
    "start_time": "2024-12-17T08:32:11.163Z"
   },
   {
    "duration": 14,
    "start_time": "2024-12-17T08:32:15.221Z"
   },
   {
    "duration": 7,
    "start_time": "2024-12-17T08:35:49.402Z"
   },
   {
    "duration": 10,
    "start_time": "2024-12-17T08:36:04.339Z"
   },
   {
    "duration": 10,
    "start_time": "2024-12-17T09:03:33.012Z"
   },
   {
    "duration": 77,
    "start_time": "2024-12-17T09:03:50.501Z"
   },
   {
    "duration": 16,
    "start_time": "2024-12-17T09:04:41.435Z"
   },
   {
    "duration": 15,
    "start_time": "2024-12-17T09:05:08.795Z"
   },
   {
    "duration": 5,
    "start_time": "2024-12-17T09:06:18.539Z"
   },
   {
    "duration": 6,
    "start_time": "2024-12-17T09:11:16.899Z"
   },
   {
    "duration": 7,
    "start_time": "2024-12-17T09:16:16.094Z"
   },
   {
    "duration": 8,
    "start_time": "2024-12-17T09:19:23.826Z"
   },
   {
    "duration": 15,
    "start_time": "2024-12-17T09:20:30.103Z"
   },
   {
    "duration": 16,
    "start_time": "2024-12-17T09:21:37.964Z"
   },
   {
    "duration": 4,
    "start_time": "2024-12-17T09:25:03.836Z"
   },
   {
    "duration": 15,
    "start_time": "2024-12-17T09:25:06.879Z"
   },
   {
    "duration": 54,
    "start_time": "2024-12-19T06:19:32.321Z"
   },
   {
    "duration": 368,
    "start_time": "2024-12-19T06:19:50.828Z"
   },
   {
    "duration": 156,
    "start_time": "2024-12-19T06:19:52.854Z"
   },
   {
    "duration": 15,
    "start_time": "2024-12-19T06:19:54.525Z"
   },
   {
    "duration": 18,
    "start_time": "2024-12-19T06:19:57.809Z"
   },
   {
    "duration": 3,
    "start_time": "2024-12-19T06:20:00.770Z"
   },
   {
    "duration": 4,
    "start_time": "2024-12-19T06:20:03.008Z"
   },
   {
    "duration": 4,
    "start_time": "2024-12-19T06:20:04.394Z"
   },
   {
    "duration": 6,
    "start_time": "2024-12-19T06:20:08.127Z"
   },
   {
    "duration": 8,
    "start_time": "2024-12-19T06:20:11.108Z"
   },
   {
    "duration": 5,
    "start_time": "2024-12-19T06:20:12.472Z"
   },
   {
    "duration": 8,
    "start_time": "2024-12-19T06:20:15.203Z"
   },
   {
    "duration": 4,
    "start_time": "2024-12-19T06:20:16.700Z"
   },
   {
    "duration": 8,
    "start_time": "2024-12-19T06:20:19.173Z"
   },
   {
    "duration": 8,
    "start_time": "2024-12-19T06:20:21.051Z"
   },
   {
    "duration": 13,
    "start_time": "2024-12-19T06:20:22.955Z"
   },
   {
    "duration": 7,
    "start_time": "2024-12-19T06:20:28.145Z"
   },
   {
    "duration": 9,
    "start_time": "2024-12-19T06:20:30.494Z"
   },
   {
    "duration": 9,
    "start_time": "2024-12-19T06:20:33.827Z"
   },
   {
    "duration": 4,
    "start_time": "2024-12-19T06:20:35.197Z"
   },
   {
    "duration": 5,
    "start_time": "2024-12-19T06:20:38.300Z"
   },
   {
    "duration": 7,
    "start_time": "2024-12-19T06:20:40.195Z"
   },
   {
    "duration": 15,
    "start_time": "2024-12-19T06:20:41.840Z"
   },
   {
    "duration": 14,
    "start_time": "2024-12-19T06:20:46.616Z"
   },
   {
    "duration": 11,
    "start_time": "2024-12-19T06:20:50.164Z"
   },
   {
    "duration": 10,
    "start_time": "2024-12-19T06:21:48.432Z"
   },
   {
    "duration": 28,
    "start_time": "2024-12-19T06:28:14.879Z"
   },
   {
    "duration": 13,
    "start_time": "2024-12-19T06:29:34.703Z"
   },
   {
    "duration": 13,
    "start_time": "2024-12-19T06:30:13.368Z"
   },
   {
    "duration": 31,
    "start_time": "2024-12-19T06:37:23.156Z"
   },
   {
    "duration": 29,
    "start_time": "2024-12-19T06:53:08.059Z"
   },
   {
    "duration": 5,
    "start_time": "2024-12-19T06:54:52.045Z"
   },
   {
    "duration": 14,
    "start_time": "2024-12-19T06:56:31.711Z"
   },
   {
    "duration": 14,
    "start_time": "2024-12-19T06:56:34.284Z"
   },
   {
    "duration": 3,
    "start_time": "2024-12-19T06:56:35.945Z"
   },
   {
    "duration": 15,
    "start_time": "2024-12-19T06:57:06.354Z"
   },
   {
    "duration": 5,
    "start_time": "2024-12-19T07:06:10.218Z"
   },
   {
    "duration": 227,
    "start_time": "2024-12-19T07:07:00.127Z"
   },
   {
    "duration": 12,
    "start_time": "2024-12-19T07:08:54.802Z"
   },
   {
    "duration": 8,
    "start_time": "2024-12-19T07:25:36.779Z"
   },
   {
    "duration": 11,
    "start_time": "2024-12-19T07:27:08.232Z"
   },
   {
    "duration": 21,
    "start_time": "2024-12-19T07:28:52.267Z"
   },
   {
    "duration": 30,
    "start_time": "2024-12-19T07:29:40.841Z"
   },
   {
    "duration": 19,
    "start_time": "2024-12-19T07:31:04.062Z"
   },
   {
    "duration": 19,
    "start_time": "2024-12-19T07:32:25.960Z"
   },
   {
    "duration": 10,
    "start_time": "2024-12-19T07:35:26.018Z"
   },
   {
    "duration": 14,
    "start_time": "2024-12-19T07:36:15.481Z"
   },
   {
    "duration": 13,
    "start_time": "2024-12-19T07:36:36.573Z"
   },
   {
    "duration": 14,
    "start_time": "2024-12-19T07:36:48.645Z"
   },
   {
    "duration": 13,
    "start_time": "2024-12-19T07:36:52.175Z"
   },
   {
    "duration": 356,
    "start_time": "2024-12-19T07:37:07.830Z"
   },
   {
    "duration": 148,
    "start_time": "2024-12-19T07:37:09.616Z"
   },
   {
    "duration": 15,
    "start_time": "2024-12-19T07:37:10.991Z"
   },
   {
    "duration": 18,
    "start_time": "2024-12-19T07:37:13.327Z"
   },
   {
    "duration": 3,
    "start_time": "2024-12-19T07:37:17.035Z"
   },
   {
    "duration": 3,
    "start_time": "2024-12-19T07:37:18.585Z"
   },
   {
    "duration": 4,
    "start_time": "2024-12-19T07:37:19.754Z"
   },
   {
    "duration": 5,
    "start_time": "2024-12-19T07:37:22.486Z"
   },
   {
    "duration": 8,
    "start_time": "2024-12-19T07:37:25.239Z"
   },
   {
    "duration": 5,
    "start_time": "2024-12-19T07:37:26.574Z"
   },
   {
    "duration": 7,
    "start_time": "2024-12-19T07:37:29.300Z"
   },
   {
    "duration": 5,
    "start_time": "2024-12-19T07:37:30.845Z"
   },
   {
    "duration": 8,
    "start_time": "2024-12-19T07:37:32.881Z"
   },
   {
    "duration": 9,
    "start_time": "2024-12-19T07:37:34.626Z"
   },
   {
    "duration": 15,
    "start_time": "2024-12-19T07:37:36.212Z"
   },
   {
    "duration": 8,
    "start_time": "2024-12-19T07:37:39.407Z"
   },
   {
    "duration": 8,
    "start_time": "2024-12-19T07:37:41.428Z"
   },
   {
    "duration": 9,
    "start_time": "2024-12-19T07:37:44.010Z"
   },
   {
    "duration": 4,
    "start_time": "2024-12-19T07:37:45.679Z"
   },
   {
    "duration": 5,
    "start_time": "2024-12-19T07:37:47.112Z"
   },
   {
    "duration": 6,
    "start_time": "2024-12-19T07:37:49.883Z"
   },
   {
    "duration": 13,
    "start_time": "2024-12-19T07:37:51.572Z"
   },
   {
    "duration": 14,
    "start_time": "2024-12-19T07:37:54.248Z"
   },
   {
    "duration": 9,
    "start_time": "2024-12-19T07:38:10.241Z"
   },
   {
    "duration": 29,
    "start_time": "2024-12-19T07:38:15.724Z"
   },
   {
    "duration": 13,
    "start_time": "2024-12-19T07:38:17.913Z"
   },
   {
    "duration": 32,
    "start_time": "2024-12-19T07:38:37.606Z"
   },
   {
    "duration": 14,
    "start_time": "2024-12-19T07:38:42.428Z"
   },
   {
    "duration": 16,
    "start_time": "2024-12-19T07:39:35.872Z"
   },
   {
    "duration": 11,
    "start_time": "2024-12-19T07:42:41.061Z"
   },
   {
    "duration": 4,
    "start_time": "2024-12-19T07:42:48.488Z"
   },
   {
    "duration": 15,
    "start_time": "2024-12-19T07:44:29.459Z"
   },
   {
    "duration": 380,
    "start_time": "2024-12-19T07:44:40.507Z"
   },
   {
    "duration": 92,
    "start_time": "2024-12-19T07:44:41.933Z"
   },
   {
    "duration": 21,
    "start_time": "2024-12-19T07:44:44.003Z"
   },
   {
    "duration": 19,
    "start_time": "2024-12-19T07:44:46.298Z"
   },
   {
    "duration": 3,
    "start_time": "2024-12-19T07:44:49.311Z"
   },
   {
    "duration": 5,
    "start_time": "2024-12-19T07:44:51.807Z"
   },
   {
    "duration": 4,
    "start_time": "2024-12-19T07:44:53.019Z"
   },
   {
    "duration": 6,
    "start_time": "2024-12-19T07:44:55.296Z"
   },
   {
    "duration": 8,
    "start_time": "2024-12-19T07:44:57.554Z"
   },
   {
    "duration": 5,
    "start_time": "2024-12-19T07:44:58.862Z"
   },
   {
    "duration": 8,
    "start_time": "2024-12-19T07:45:00.975Z"
   },
   {
    "duration": 5,
    "start_time": "2024-12-19T07:45:02.110Z"
   },
   {
    "duration": 8,
    "start_time": "2024-12-19T07:45:04.211Z"
   },
   {
    "duration": 9,
    "start_time": "2024-12-19T07:45:05.578Z"
   },
   {
    "duration": 14,
    "start_time": "2024-12-19T07:45:06.943Z"
   },
   {
    "duration": 11,
    "start_time": "2024-12-19T07:45:09.424Z"
   },
   {
    "duration": 8,
    "start_time": "2024-12-19T07:45:11.229Z"
   },
   {
    "duration": 9,
    "start_time": "2024-12-19T07:45:13.448Z"
   },
   {
    "duration": 4,
    "start_time": "2024-12-19T07:45:14.564Z"
   },
   {
    "duration": 5,
    "start_time": "2024-12-19T07:45:15.793Z"
   },
   {
    "duration": 7,
    "start_time": "2024-12-19T07:45:17.537Z"
   },
   {
    "duration": 13,
    "start_time": "2024-12-19T07:45:18.862Z"
   },
   {
    "duration": 14,
    "start_time": "2024-12-19T07:45:21.687Z"
   },
   {
    "duration": 11,
    "start_time": "2024-12-19T07:45:24.630Z"
   },
   {
    "duration": 30,
    "start_time": "2024-12-19T07:45:26.898Z"
   },
   {
    "duration": 42,
    "start_time": "2024-12-19T07:45:34.882Z"
   },
   {
    "duration": 15,
    "start_time": "2024-12-19T07:45:36.308Z"
   },
   {
    "duration": 32,
    "start_time": "2024-12-19T07:45:39.376Z"
   },
   {
    "duration": 15,
    "start_time": "2024-12-19T07:45:42.094Z"
   },
   {
    "duration": 17,
    "start_time": "2024-12-19T07:45:53.006Z"
   },
   {
    "duration": 10,
    "start_time": "2024-12-19T07:46:01.055Z"
   },
   {
    "duration": 5,
    "start_time": "2024-12-19T07:46:04.767Z"
   },
   {
    "duration": 49,
    "start_time": "2024-12-19T12:16:55.338Z"
   },
   {
    "duration": 403,
    "start_time": "2024-12-19T12:17:09.554Z"
   },
   {
    "duration": 396,
    "start_time": "2024-12-19T12:17:21.561Z"
   },
   {
    "duration": 137,
    "start_time": "2024-12-19T12:17:23.684Z"
   },
   {
    "duration": 16,
    "start_time": "2024-12-19T12:17:25.139Z"
   },
   {
    "duration": 21,
    "start_time": "2024-12-19T12:17:27.597Z"
   },
   {
    "duration": 4,
    "start_time": "2024-12-19T12:17:30.268Z"
   },
   {
    "duration": 3,
    "start_time": "2024-12-19T12:17:32.121Z"
   },
   {
    "duration": 4,
    "start_time": "2024-12-19T12:17:33.423Z"
   },
   {
    "duration": 5,
    "start_time": "2024-12-19T12:17:36.344Z"
   },
   {
    "duration": 7,
    "start_time": "2024-12-19T12:17:38.885Z"
   },
   {
    "duration": 4,
    "start_time": "2024-12-19T12:17:40.694Z"
   },
   {
    "duration": 8,
    "start_time": "2024-12-19T12:17:43.044Z"
   },
   {
    "duration": 5,
    "start_time": "2024-12-19T12:17:44.562Z"
   },
   {
    "duration": 8,
    "start_time": "2024-12-19T12:17:46.588Z"
   },
   {
    "duration": 9,
    "start_time": "2024-12-19T12:17:47.828Z"
   },
   {
    "duration": 15,
    "start_time": "2024-12-19T12:17:49.414Z"
   },
   {
    "duration": 7,
    "start_time": "2024-12-19T12:17:52.509Z"
   },
   {
    "duration": 10,
    "start_time": "2024-12-19T12:17:54.983Z"
   },
   {
    "duration": 9,
    "start_time": "2024-12-19T12:17:57.230Z"
   },
   {
    "duration": 4,
    "start_time": "2024-12-19T12:17:58.657Z"
   },
   {
    "duration": 5,
    "start_time": "2024-12-19T12:17:59.940Z"
   },
   {
    "duration": 7,
    "start_time": "2024-12-19T12:18:02.006Z"
   },
   {
    "duration": 14,
    "start_time": "2024-12-19T12:18:03.635Z"
   },
   {
    "duration": 14,
    "start_time": "2024-12-19T12:18:05.849Z"
   },
   {
    "duration": 14,
    "start_time": "2024-12-19T12:18:09.993Z"
   },
   {
    "duration": 33,
    "start_time": "2024-12-19T12:18:12.199Z"
   },
   {
    "duration": 15,
    "start_time": "2024-12-19T12:18:14.430Z"
   },
   {
    "duration": 30,
    "start_time": "2024-12-19T12:18:17.394Z"
   },
   {
    "duration": 15,
    "start_time": "2024-12-19T12:18:20.769Z"
   },
   {
    "duration": 18,
    "start_time": "2024-12-19T12:18:24.645Z"
   },
   {
    "duration": 11,
    "start_time": "2024-12-19T12:18:31.259Z"
   },
   {
    "duration": 5,
    "start_time": "2024-12-19T12:18:33.659Z"
   },
   {
    "duration": 5,
    "start_time": "2024-12-19T12:18:48.201Z"
   },
   {
    "duration": 13,
    "start_time": "2024-12-19T12:21:05.713Z"
   },
   {
    "duration": 13,
    "start_time": "2024-12-19T12:21:40.998Z"
   },
   {
    "duration": 6,
    "start_time": "2024-12-19T12:42:20.041Z"
   },
   {
    "duration": 7,
    "start_time": "2024-12-19T12:44:44.451Z"
   },
   {
    "duration": 7,
    "start_time": "2024-12-19T12:46:48.562Z"
   },
   {
    "duration": 7,
    "start_time": "2024-12-19T12:47:52.386Z"
   },
   {
    "duration": 9,
    "start_time": "2024-12-19T12:49:26.255Z"
   },
   {
    "duration": 1391,
    "start_time": "2024-12-19T12:49:53.887Z"
   },
   {
    "duration": 5,
    "start_time": "2024-12-19T12:50:06.648Z"
   },
   {
    "duration": 5,
    "start_time": "2024-12-19T12:51:56.704Z"
   },
   {
    "duration": 7,
    "start_time": "2024-12-19T12:55:46.126Z"
   },
   {
    "duration": 8,
    "start_time": "2024-12-19T12:59:01.545Z"
   },
   {
    "duration": 6,
    "start_time": "2024-12-19T12:59:30.725Z"
   },
   {
    "duration": 9,
    "start_time": "2024-12-19T13:05:08.743Z"
   },
   {
    "duration": 8,
    "start_time": "2024-12-19T13:05:27.798Z"
   },
   {
    "duration": 7,
    "start_time": "2024-12-19T13:05:40.310Z"
   },
   {
    "duration": 8,
    "start_time": "2024-12-19T13:08:55.723Z"
   },
   {
    "duration": 11,
    "start_time": "2024-12-19T13:09:21.072Z"
   },
   {
    "duration": 6,
    "start_time": "2024-12-19T13:09:24.696Z"
   },
   {
    "duration": 8,
    "start_time": "2024-12-19T13:09:48.485Z"
   },
   {
    "duration": 11,
    "start_time": "2024-12-19T13:10:23.034Z"
   },
   {
    "duration": 8,
    "start_time": "2024-12-19T13:10:30.265Z"
   },
   {
    "duration": 5,
    "start_time": "2024-12-19T13:10:56.114Z"
   },
   {
    "duration": 5,
    "start_time": "2024-12-19T13:11:20.512Z"
   },
   {
    "duration": 11,
    "start_time": "2024-12-19T13:12:20.330Z"
   },
   {
    "duration": 6,
    "start_time": "2024-12-19T13:12:24.935Z"
   },
   {
    "duration": 8,
    "start_time": "2024-12-19T13:14:30.695Z"
   },
   {
    "duration": 8,
    "start_time": "2024-12-19T13:17:30.265Z"
   },
   {
    "duration": 8,
    "start_time": "2024-12-19T13:17:40.519Z"
   },
   {
    "duration": 11,
    "start_time": "2024-12-19T13:17:54.134Z"
   },
   {
    "duration": 9,
    "start_time": "2024-12-19T13:18:04.274Z"
   },
   {
    "duration": 8,
    "start_time": "2024-12-19T13:18:34.674Z"
   },
   {
    "duration": 9,
    "start_time": "2024-12-19T13:20:15.168Z"
   },
   {
    "duration": 6,
    "start_time": "2024-12-19T13:23:13.908Z"
   },
   {
    "duration": 59,
    "start_time": "2024-12-19T15:25:32.801Z"
   },
   {
    "duration": 7,
    "start_time": "2024-12-19T15:26:13.635Z"
   },
   {
    "duration": 407,
    "start_time": "2024-12-19T15:26:26.729Z"
   },
   {
    "duration": 118,
    "start_time": "2024-12-19T15:26:28.053Z"
   },
   {
    "duration": 17,
    "start_time": "2024-12-19T15:26:29.400Z"
   },
   {
    "duration": 20,
    "start_time": "2024-12-19T15:26:32.251Z"
   },
   {
    "duration": 3,
    "start_time": "2024-12-19T15:26:35.290Z"
   },
   {
    "duration": 4,
    "start_time": "2024-12-19T15:26:36.707Z"
   },
   {
    "duration": 4,
    "start_time": "2024-12-19T15:26:38.334Z"
   },
   {
    "duration": 5,
    "start_time": "2024-12-19T15:26:43.932Z"
   },
   {
    "duration": 8,
    "start_time": "2024-12-19T15:26:48.537Z"
   },
   {
    "duration": 5,
    "start_time": "2024-12-19T15:26:50.047Z"
   },
   {
    "duration": 8,
    "start_time": "2024-12-19T15:26:53.065Z"
   },
   {
    "duration": 5,
    "start_time": "2024-12-19T15:26:54.532Z"
   },
   {
    "duration": 8,
    "start_time": "2024-12-19T15:26:58.093Z"
   },
   {
    "duration": 10,
    "start_time": "2024-12-19T15:26:59.982Z"
   },
   {
    "duration": 15,
    "start_time": "2024-12-19T15:27:01.272Z"
   },
   {
    "duration": 9,
    "start_time": "2024-12-19T15:27:04.051Z"
   },
   {
    "duration": 11,
    "start_time": "2024-12-19T15:27:06.440Z"
   },
   {
    "duration": 10,
    "start_time": "2024-12-19T15:27:09.649Z"
   },
   {
    "duration": 4,
    "start_time": "2024-12-19T15:27:10.933Z"
   },
   {
    "duration": 5,
    "start_time": "2024-12-19T15:27:12.131Z"
   },
   {
    "duration": 11,
    "start_time": "2024-12-19T15:27:15.562Z"
   },
   {
    "duration": 14,
    "start_time": "2024-12-19T15:27:27.234Z"
   },
   {
    "duration": 10,
    "start_time": "2024-12-19T15:29:06.607Z"
   },
   {
    "duration": 15,
    "start_time": "2024-12-19T15:29:11.003Z"
   },
   {
    "duration": 6,
    "start_time": "2024-12-19T15:32:52.612Z"
   },
   {
    "duration": 9,
    "start_time": "2024-12-19T15:35:56.840Z"
   },
   {
    "duration": 14,
    "start_time": "2024-12-19T15:35:59.253Z"
   },
   {
    "duration": 141,
    "start_time": "2024-12-19T15:36:46.042Z"
   },
   {
    "duration": 14,
    "start_time": "2024-12-19T15:36:49.328Z"
   },
   {
    "duration": 9,
    "start_time": "2024-12-19T15:37:01.324Z"
   },
   {
    "duration": 225,
    "start_time": "2024-12-19T15:43:07.037Z"
   },
   {
    "duration": 21,
    "start_time": "2024-12-19T15:43:10.422Z"
   },
   {
    "duration": 13,
    "start_time": "2024-12-19T15:43:51.592Z"
   },
   {
    "duration": 15,
    "start_time": "2024-12-19T15:43:59.405Z"
   },
   {
    "duration": 11,
    "start_time": "2024-12-19T15:46:02.452Z"
   },
   {
    "duration": 44,
    "start_time": "2024-12-19T15:46:06.517Z"
   },
   {
    "duration": 15,
    "start_time": "2024-12-19T15:46:12.951Z"
   },
   {
    "duration": 5,
    "start_time": "2024-12-19T15:48:03.545Z"
   },
   {
    "duration": 5,
    "start_time": "2024-12-19T15:49:28.325Z"
   },
   {
    "duration": 5,
    "start_time": "2024-12-19T15:54:36.767Z"
   },
   {
    "duration": 6,
    "start_time": "2024-12-19T15:55:06.626Z"
   },
   {
    "duration": 13,
    "start_time": "2024-12-19T15:55:08.550Z"
   },
   {
    "duration": 28,
    "start_time": "2024-12-19T15:56:59.209Z"
   },
   {
    "duration": 14,
    "start_time": "2024-12-19T15:57:01.886Z"
   },
   {
    "duration": 17,
    "start_time": "2024-12-19T15:57:03.120Z"
   },
   {
    "duration": 10,
    "start_time": "2024-12-19T15:57:07.224Z"
   },
   {
    "duration": 5,
    "start_time": "2024-12-19T15:57:16.391Z"
   },
   {
    "duration": 6,
    "start_time": "2024-12-19T15:59:47.670Z"
   },
   {
    "duration": 12,
    "start_time": "2024-12-19T15:59:49.577Z"
   },
   {
    "duration": 13,
    "start_time": "2024-12-19T15:59:51.957Z"
   },
   {
    "duration": 11,
    "start_time": "2024-12-19T15:59:56.446Z"
   },
   {
    "duration": 12,
    "start_time": "2024-12-19T16:00:00.138Z"
   },
   {
    "duration": 12,
    "start_time": "2024-12-19T16:00:03.739Z"
   },
   {
    "duration": 11,
    "start_time": "2024-12-19T16:00:05.790Z"
   },
   {
    "duration": 11,
    "start_time": "2024-12-19T16:00:11.224Z"
   },
   {
    "duration": 8,
    "start_time": "2024-12-19T16:00:13.860Z"
   },
   {
    "duration": 6,
    "start_time": "2024-12-19T16:00:22.394Z"
   },
   {
    "duration": 13,
    "start_time": "2024-12-19T16:06:41.032Z"
   },
   {
    "duration": 11,
    "start_time": "2024-12-19T16:07:40.520Z"
   },
   {
    "duration": 8,
    "start_time": "2024-12-19T16:07:47.010Z"
   },
   {
    "duration": 11,
    "start_time": "2024-12-19T16:10:01.328Z"
   },
   {
    "duration": 11,
    "start_time": "2024-12-19T16:10:17.379Z"
   },
   {
    "duration": 7,
    "start_time": "2024-12-19T16:10:21.712Z"
   },
   {
    "duration": 11,
    "start_time": "2024-12-19T16:13:32.548Z"
   },
   {
    "duration": 10,
    "start_time": "2024-12-19T16:13:44.521Z"
   },
   {
    "duration": 13,
    "start_time": "2024-12-19T16:13:52.137Z"
   },
   {
    "duration": 9,
    "start_time": "2024-12-19T16:13:54.677Z"
   },
   {
    "duration": 12,
    "start_time": "2024-12-19T16:14:18.072Z"
   },
   {
    "duration": 10,
    "start_time": "2024-12-19T16:14:25.200Z"
   },
   {
    "duration": 8,
    "start_time": "2024-12-19T16:14:28.003Z"
   },
   {
    "duration": 7,
    "start_time": "2024-12-19T16:14:31.045Z"
   },
   {
    "duration": 11,
    "start_time": "2024-12-19T16:15:04.089Z"
   },
   {
    "duration": 11,
    "start_time": "2024-12-19T16:15:08.154Z"
   },
   {
    "duration": 7,
    "start_time": "2024-12-19T16:15:23.333Z"
   },
   {
    "duration": 404,
    "start_time": "2024-12-20T23:20:09.514Z"
   },
   {
    "duration": 154,
    "start_time": "2024-12-20T23:20:11.975Z"
   },
   {
    "duration": 15,
    "start_time": "2024-12-20T23:20:14.193Z"
   },
   {
    "duration": 3,
    "start_time": "2024-12-20T23:20:21.625Z"
   },
   {
    "duration": 3,
    "start_time": "2024-12-20T23:20:23.135Z"
   },
   {
    "duration": 7,
    "start_time": "2024-12-20T23:20:25.079Z"
   },
   {
    "duration": 6,
    "start_time": "2024-12-20T23:20:29.029Z"
   },
   {
    "duration": 8,
    "start_time": "2024-12-20T23:20:32.336Z"
   },
   {
    "duration": 5,
    "start_time": "2024-12-20T23:20:35.659Z"
   },
   {
    "duration": 8,
    "start_time": "2024-12-20T23:20:38.677Z"
   },
   {
    "duration": 5,
    "start_time": "2024-12-20T23:20:40.321Z"
   },
   {
    "duration": 7,
    "start_time": "2024-12-20T23:20:43.050Z"
   },
   {
    "duration": 9,
    "start_time": "2024-12-20T23:20:47.547Z"
   },
   {
    "duration": 14,
    "start_time": "2024-12-20T23:20:49.455Z"
   },
   {
    "duration": 7,
    "start_time": "2024-12-20T23:20:53.246Z"
   },
   {
    "duration": 8,
    "start_time": "2024-12-20T23:20:55.015Z"
   },
   {
    "duration": 8,
    "start_time": "2024-12-20T23:21:52.453Z"
   },
   {
    "duration": 4,
    "start_time": "2024-12-20T23:21:54.476Z"
   },
   {
    "duration": 4,
    "start_time": "2024-12-20T23:21:59.615Z"
   },
   {
    "duration": 159,
    "start_time": "2024-12-20T23:22:05.690Z"
   },
   {
    "duration": 17,
    "start_time": "2024-12-20T23:22:13.426Z"
   },
   {
    "duration": 15,
    "start_time": "2024-12-20T23:22:17.204Z"
   },
   {
    "duration": 11,
    "start_time": "2024-12-20T23:22:24.522Z"
   },
   {
    "duration": 31,
    "start_time": "2024-12-20T23:22:30.023Z"
   },
   {
    "duration": 5,
    "start_time": "2024-12-20T23:22:32.846Z"
   },
   {
    "duration": 4,
    "start_time": "2024-12-20T23:22:35.442Z"
   },
   {
    "duration": 14,
    "start_time": "2024-12-20T23:22:38.358Z"
   },
   {
    "duration": 28,
    "start_time": "2024-12-20T23:22:53.473Z"
   },
   {
    "duration": 13,
    "start_time": "2024-12-20T23:22:57.125Z"
   },
   {
    "duration": 15,
    "start_time": "2024-12-20T23:22:58.780Z"
   },
   {
    "duration": 10,
    "start_time": "2024-12-20T23:23:01.148Z"
   },
   {
    "duration": 4,
    "start_time": "2024-12-20T23:23:07.626Z"
   },
   {
    "duration": 5,
    "start_time": "2024-12-20T23:23:17.161Z"
   },
   {
    "duration": 11,
    "start_time": "2024-12-20T23:23:20.435Z"
   },
   {
    "duration": 12,
    "start_time": "2024-12-20T23:23:27.128Z"
   },
   {
    "duration": 11,
    "start_time": "2024-12-20T23:23:51.020Z"
   },
   {
    "duration": 13,
    "start_time": "2024-12-20T23:24:02.139Z"
   },
   {
    "duration": 7,
    "start_time": "2024-12-20T23:24:08.008Z"
   },
   {
    "duration": 5,
    "start_time": "2024-12-20T23:24:14.115Z"
   },
   {
    "duration": 47,
    "start_time": "2024-12-21T08:10:19.057Z"
   },
   {
    "duration": 6,
    "start_time": "2024-12-21T08:11:12.874Z"
   },
   {
    "duration": 7,
    "start_time": "2024-12-21T08:15:35.649Z"
   },
   {
    "duration": 404,
    "start_time": "2024-12-21T08:15:50.108Z"
   },
   {
    "duration": 169,
    "start_time": "2024-12-21T08:15:51.728Z"
   },
   {
    "duration": 14,
    "start_time": "2024-12-21T08:15:53.028Z"
   },
   {
    "duration": 18,
    "start_time": "2024-12-21T08:15:55.023Z"
   },
   {
    "duration": 3,
    "start_time": "2024-12-21T08:15:58.084Z"
   },
   {
    "duration": 3,
    "start_time": "2024-12-21T08:15:59.588Z"
   },
   {
    "duration": 4,
    "start_time": "2024-12-21T08:16:00.975Z"
   },
   {
    "duration": 6,
    "start_time": "2024-12-21T08:16:06.238Z"
   },
   {
    "duration": 8,
    "start_time": "2024-12-21T08:16:09.857Z"
   },
   {
    "duration": 5,
    "start_time": "2024-12-21T08:16:11.409Z"
   },
   {
    "duration": 8,
    "start_time": "2024-12-21T08:16:14.347Z"
   },
   {
    "duration": 5,
    "start_time": "2024-12-21T08:16:17.018Z"
   },
   {
    "duration": 8,
    "start_time": "2024-12-21T08:16:19.496Z"
   },
   {
    "duration": 8,
    "start_time": "2024-12-21T08:16:22.637Z"
   },
   {
    "duration": 14,
    "start_time": "2024-12-21T08:16:24.300Z"
   },
   {
    "duration": 7,
    "start_time": "2024-12-21T08:16:29.297Z"
   },
   {
    "duration": 9,
    "start_time": "2024-12-21T08:16:32.226Z"
   },
   {
    "duration": 8,
    "start_time": "2024-12-21T08:16:37.080Z"
   },
   {
    "duration": 5,
    "start_time": "2024-12-21T08:16:45.004Z"
   },
   {
    "duration": 5,
    "start_time": "2024-12-21T08:16:50.158Z"
   },
   {
    "duration": 3,
    "start_time": "2024-12-21T08:16:55.714Z"
   },
   {
    "duration": 10,
    "start_time": "2024-12-21T08:17:03.586Z"
   },
   {
    "duration": 14,
    "start_time": "2024-12-21T08:17:21.318Z"
   },
   {
    "duration": 13,
    "start_time": "2024-12-21T08:17:31.166Z"
   },
   {
    "duration": 11,
    "start_time": "2024-12-21T08:20:44.798Z"
   },
   {
    "duration": 28,
    "start_time": "2024-12-21T08:20:47.745Z"
   },
   {
    "duration": 40,
    "start_time": "2024-12-21T08:21:21.682Z"
   },
   {
    "duration": 5,
    "start_time": "2024-12-21T08:21:24.469Z"
   },
   {
    "duration": 5,
    "start_time": "2024-12-21T08:21:26.108Z"
   },
   {
    "duration": 14,
    "start_time": "2024-12-21T08:21:28.653Z"
   },
   {
    "duration": 31,
    "start_time": "2024-12-21T08:22:02.053Z"
   },
   {
    "duration": 14,
    "start_time": "2024-12-21T08:22:11.387Z"
   },
   {
    "duration": 16,
    "start_time": "2024-12-21T08:22:13.259Z"
   },
   {
    "duration": 10,
    "start_time": "2024-12-21T08:22:15.875Z"
   },
   {
    "duration": 4,
    "start_time": "2024-12-21T08:22:31.568Z"
   },
   {
    "duration": 5,
    "start_time": "2024-12-21T08:24:32.355Z"
   },
   {
    "duration": 12,
    "start_time": "2024-12-21T08:24:34.477Z"
   },
   {
    "duration": 12,
    "start_time": "2024-12-21T08:24:36.936Z"
   },
   {
    "duration": 10,
    "start_time": "2024-12-21T08:24:39.558Z"
   },
   {
    "duration": 10,
    "start_time": "2024-12-21T08:24:42.636Z"
   },
   {
    "duration": 8,
    "start_time": "2024-12-21T08:24:45.767Z"
   },
   {
    "duration": 8,
    "start_time": "2024-12-21T08:24:50.644Z"
   }
  ],
  "colab": {
   "provenance": []
  },
  "kernelspec": {
   "display_name": "Python 3 (ipykernel)",
   "language": "python",
   "name": "python3"
  },
  "language_info": {
   "codemirror_mode": {
    "name": "ipython",
    "version": 3
   },
   "file_extension": ".py",
   "mimetype": "text/x-python",
   "name": "python",
   "nbconvert_exporter": "python",
   "pygments_lexer": "ipython3",
   "version": "3.12.7"
  },
  "toc": {
   "base_numbering": 1,
   "nav_menu": {},
   "number_sections": false,
   "sideBar": true,
   "skip_h1_title": true,
   "title_cell": "Table of Contents",
   "title_sidebar": "Contents",
   "toc_cell": false,
   "toc_position": {
    "height": "calc(100% - 180px)",
    "left": "10px",
    "top": "150px",
    "width": "294.4px"
   },
   "toc_section_display": true,
   "toc_window_display": false
  }
 },
 "nbformat": 4,
 "nbformat_minor": 5
}
