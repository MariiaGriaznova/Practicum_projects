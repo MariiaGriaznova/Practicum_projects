{
 "cells": [
  {
   "cell_type": "markdown",
   "id": "0956c530-3a53-4691-9b81-2d586f649d65",
   "metadata": {},
   "source": [
    "# Testing a Hypothesis and Writing a Research Note"
   ]
  },
  {
   "cell_type": "markdown",
   "id": "e84fbc11-5021-4500-8e8a-47f1f39852d4",
   "metadata": {},
   "source": [
    "Hypothesis: Users from Saint Petersburg spend on average more time reading and listening to books in the app than users from Moscow. Try to prove this statistically using a one-sided hypothesis test with two samples:\n",
    "\n",
    "Null hypothesis $H_0: \\mu_{\\text{SPb}} \\leq \\mu_{\\text{Moscow}}$ <br> The average time of user activity in Saint Petersburg is not more than in Moscow.\n",
    "\n",
    "Alternative hypothesis $H_1: \\mu_{\\text{SPb}} > \\mu_{\\text{Moscow}}$ <br> The average time of user activity in Saint Petersburg is more, and this difference is statistically significant."
   ]
  },
  {
   "cell_type": "markdown",
   "id": "4d64c155-51dd-4fc2-96d5-a33f2f80e82f",
   "metadata": {},
   "source": [
    "- Author: Maria Gryaznova\n",
    "- Date: 04/24/2025"
   ]
  },
  {
   "cell_type": "markdown",
   "id": "c00c20d2-e024-4a58-99ac-16e339f40102",
   "metadata": {},
   "source": [
    "## Project goals and objectives\n",
    "\n",
    "**Project objective** is to check whether users from St. Petersburg spend on average more time reading and listening to books in the Yandex Books app than users from Moscow. This will help to better understand user behavior in different regions and influence regional marketing strategies.\n",
    "\n",
    "**Tasks:**\n",
    "- Check the correctness of the data for analysis;\n",
    "- Compare two groups;\n",
    "- Test the statistical hypothesis;\n",
    "- Interpret the results."
   ]
  },
  {
   "cell_type": "markdown",
   "id": "02f78642-603a-48dc-afe6-ac0cebd51ffe",
   "metadata": {},
   "source": [
    "## Data description\n",
    "\n",
    "The `yandex_knigi_data.csv` table is located in the folder https://code.s3.yandex.net/datasets/ and contains the following fields:\n",
    "- `city` - the city `Moscow` or `Saint Petersburg`\n",
    "- `puid` - unique user ID\n",
    "- `hours` - the total number of hours the user spent reading or listening to books in the application."
   ]
  },
  {
   "cell_type": "markdown",
   "id": "7feafb03-381c-40c9-a54f-85fc1291d136",
   "metadata": {},
   "source": [
    "## Project Contents\n",
    "\n",
    "1. Loading and Getting to Know the Data\n",
    "- Importing Libraries\n",
    "- Loading and Preliminary Data Analysis\n",
    "- Checking for Duplicates\n",
    "- Cleaning Data (Removing Extra Columns)\n",
    "\n",
    "2. Preparing to Run an A/B Test\n",
    "- Counting Unique Users by City\n",
    "- Comparing Group Sizes\n",
    "- Plotting a Group Comparison Graph\n",
    "- Describing Statistical Characteristics for Each Group\n",
    "- Studying Data Distribution (Histogram)\n",
    "\n",
    "3. Checking Normality of Distributions\n",
    "- Plotting Histograms with KDE\n",
    "- Analyzing User Activity Distribution\n",
    "- Applying Levene's Test to Check for Equal Variances\n",
    "\n",
    "4. Testing a Hypothesis Using a T-Test\n",
    "- Formulating a Hypothesis\n",
    "- Applying a T-Test with Equal Variances\n",
    "- Applying the Mann–Whitney Test\n",
    "- Interpreting the P-Value Results for Both Tests\n",
    "\n",
    "5. Analytical Note\n",
    "- Description of the Selected Test Type and Significance Level\n",
    "- Interpreting the Test Results\n",
    "- Conclusions Based on the P-Value Results\n",
    "- Potential reasons for the obtained results\n",
    "- Recommendations for further research\n",
    "\n",
    "---"
   ]
  },
  {
   "cell_type": "markdown",
   "id": "7df2778d-4adb-4de6-a57d-afd2ca242c38",
   "metadata": {},
   "source": [
    "## 1. Loading data"
   ]
  },
  {
   "cell_type": "code",
   "execution_count": 1,
   "id": "7072a6b9-3274-4004-9728-ce1344a629e1",
   "metadata": {},
   "outputs": [],
   "source": [
    "# Import libraries\n",
    "import pandas as pd\n",
    "import matplotlib.pyplot as plt\n",
    "import seaborn as sns\n",
    "\n",
    "from math import ceil\n",
    "\n",
    "from scipy import stats\n",
    "from scipy.stats import levene\n",
    "\n",
    "!pip install matplotlib-venn -q\n",
    "from matplotlib_venn import venn2\n",
    "\n",
    "from statsmodels.stats.power import NormalIndPower\n",
    "from statsmodels.stats.proportion import proportion_effectsize\n",
    "from statsmodels.stats.proportion import proportions_ztest"
   ]
  },
  {
   "cell_type": "code",
   "execution_count": 2,
   "id": "f6b8817f-15c0-4aaa-9b8e-b2f939dd21b0",
   "metadata": {},
   "outputs": [
    {
     "data": {
      "text/html": [
       "<div>\n",
       "<style scoped>\n",
       "    .dataframe tbody tr th:only-of-type {\n",
       "        vertical-align: middle;\n",
       "    }\n",
       "\n",
       "    .dataframe tbody tr th {\n",
       "        vertical-align: top;\n",
       "    }\n",
       "\n",
       "    .dataframe thead th {\n",
       "        text-align: right;\n",
       "    }\n",
       "</style>\n",
       "<table border=\"1\" class=\"dataframe\">\n",
       "  <thead>\n",
       "    <tr style=\"text-align: right;\">\n",
       "      <th></th>\n",
       "      <th>Unnamed: 0</th>\n",
       "      <th>city</th>\n",
       "      <th>puid</th>\n",
       "      <th>hours</th>\n",
       "    </tr>\n",
       "  </thead>\n",
       "  <tbody>\n",
       "    <tr>\n",
       "      <th>0</th>\n",
       "      <td>0</td>\n",
       "      <td>Москва</td>\n",
       "      <td>9668</td>\n",
       "      <td>26.167776</td>\n",
       "    </tr>\n",
       "    <tr>\n",
       "      <th>1</th>\n",
       "      <td>1</td>\n",
       "      <td>Москва</td>\n",
       "      <td>16598</td>\n",
       "      <td>82.111217</td>\n",
       "    </tr>\n",
       "    <tr>\n",
       "      <th>2</th>\n",
       "      <td>2</td>\n",
       "      <td>Москва</td>\n",
       "      <td>80401</td>\n",
       "      <td>4.656906</td>\n",
       "    </tr>\n",
       "    <tr>\n",
       "      <th>3</th>\n",
       "      <td>3</td>\n",
       "      <td>Москва</td>\n",
       "      <td>140205</td>\n",
       "      <td>1.840556</td>\n",
       "    </tr>\n",
       "    <tr>\n",
       "      <th>4</th>\n",
       "      <td>4</td>\n",
       "      <td>Москва</td>\n",
       "      <td>248755</td>\n",
       "      <td>151.326434</td>\n",
       "    </tr>\n",
       "  </tbody>\n",
       "</table>\n",
       "</div>"
      ],
      "text/plain": [
       "   Unnamed: 0    city    puid       hours\n",
       "0           0  Москва    9668   26.167776\n",
       "1           1  Москва   16598   82.111217\n",
       "2           2  Москва   80401    4.656906\n",
       "3           3  Москва  140205    1.840556\n",
       "4           4  Москва  248755  151.326434"
      ]
     },
     "metadata": {},
     "output_type": "display_data"
    },
    {
     "name": "stdout",
     "output_type": "stream",
     "text": [
      "<class 'pandas.core.frame.DataFrame'>\n",
      "RangeIndex: 8784 entries, 0 to 8783\n",
      "Data columns (total 4 columns):\n",
      " #   Column      Non-Null Count  Dtype  \n",
      "---  ------      --------------  -----  \n",
      " 0   Unnamed: 0  8784 non-null   int64  \n",
      " 1   city        8784 non-null   object \n",
      " 2   puid        8784 non-null   int64  \n",
      " 3   hours       8784 non-null   float64\n",
      "dtypes: float64(1), int64(2), object(1)\n",
      "memory usage: 274.6+ KB\n"
     ]
    },
    {
     "data": {
      "text/plain": [
       "None"
      ]
     },
     "metadata": {},
     "output_type": "display_data"
    }
   ],
   "source": [
    "# Unloading data\n",
    "yandex_knigi_df = pd.read_csv('https://code.s3.yandex.net/datasets/yandex_knigi_data.csv')\n",
    "\n",
    "display(yandex_knigi_df.head(5))\n",
    "display(yandex_knigi_df.info())"
   ]
  },
  {
   "cell_type": "code",
   "execution_count": 3,
   "id": "20a3ee59-b150-4d10-83f5-6234299562ca",
   "metadata": {},
   "outputs": [
    {
     "name": "stdout",
     "output_type": "stream",
     "text": [
      "<class 'pandas.core.frame.DataFrame'>\n",
      "RangeIndex: 8784 entries, 0 to 8783\n",
      "Data columns (total 3 columns):\n",
      " #   Column  Non-Null Count  Dtype  \n",
      "---  ------  --------------  -----  \n",
      " 0   city    8784 non-null   object \n",
      " 1   puid    8784 non-null   int64  \n",
      " 2   hours   8784 non-null   float64\n",
      "dtypes: float64(1), int64(1), object(1)\n",
      "memory usage: 206.0+ KB\n"
     ]
    },
    {
     "data": {
      "text/plain": [
       "None"
      ]
     },
     "metadata": {},
     "output_type": "display_data"
    }
   ],
   "source": [
    "# Removing extra index\n",
    "yandex_knigi_df = yandex_knigi_df.drop(columns=['Unnamed: 0'])\n",
    "\n",
    "display(yandex_knigi_df.info())"
   ]
  },
  {
   "cell_type": "markdown",
   "id": "fcb416ae-24b9-442d-bffd-34c0014caa2c",
   "metadata": {},
   "source": [
    "The table consists of three fields, with correct data types and no gaps."
   ]
  },
  {
   "cell_type": "code",
   "execution_count": 4,
   "id": "6f78be73-a454-47c7-8454-29cba11ae0fd",
   "metadata": {},
   "outputs": [
    {
     "data": {
      "text/plain": [
       "'Number of duplicates by puid: 244'"
      ]
     },
     "metadata": {},
     "output_type": "display_data"
    }
   ],
   "source": [
    "# Check for duplicate users\n",
    "duplicates_id = yandex_knigi_df.duplicated(subset='puid').sum()\n",
    "\n",
    "display(f\"Number of duplicates by puid: {duplicates_id}\")"
   ]
  },
  {
   "cell_type": "code",
   "execution_count": 5,
   "id": "043bb1eb-086d-495f-a43e-7058d0c250ba",
   "metadata": {},
   "outputs": [
    {
     "name": "stdout",
     "output_type": "stream",
     "text": [
      "Number of duplicates by puid and city: 0\n"
     ]
    }
   ],
   "source": [
    "# Check for duplicates by puid and city\n",
    "duplicates = yandex_knigi_df.duplicated(subset=['puid', 'city']).sum()\n",
    "print(f\"Number of duplicates by puid and city: {duplicates}\")"
   ]
  },
  {
   "cell_type": "markdown",
   "id": "8f0da5d2-5fd3-4578-88d6-61bb6fcdf221",
   "metadata": {},
   "source": [
    "We see that there are no users with the same puid in one city in the data. That is, for each user and city, their identifier is unique, and there are no repetitions in these two columns. In theory, the same user can live in 2 cities or travel. In principle, the number of such users from the total data volume is not significant (~2.78%) and does not greatly affect the results of the analysis, but for conducting an A/B test, it is better to remove them so that a situation does not arise where the same user ends up in both study groups (the principle of group independence)."
   ]
  },
  {
   "cell_type": "code",
   "execution_count": 6,
   "id": "058f3de7-5d84-41d6-8fa8-0e5bd0006e4b",
   "metadata": {},
   "outputs": [
    {
     "data": {
      "text/plain": [
       "'Final number of rows in the dataframe: 8540'"
      ]
     },
     "metadata": {},
     "output_type": "display_data"
    }
   ],
   "source": [
    "# Removing duplicates\n",
    "yandex_knigi_df = yandex_knigi_df.drop_duplicates(subset='puid')\n",
    "\n",
    "# Check after deletion\n",
    "display(f\"Final number of rows in the dataframe: {len(yandex_knigi_df)}\")"
   ]
  },
  {
   "cell_type": "markdown",
   "id": "f964b4de-9748-4047-b783-f41d9aa3bcc2",
   "metadata": {},
   "source": [
    "## Preparing for an A/B test"
   ]
  },
  {
   "cell_type": "code",
   "execution_count": 8,
   "id": "8e4ee651-ba2d-4119-95c9-8495cbc76c31",
   "metadata": {},
   "outputs": [],
   "source": [
    "# Calculate the number of unique users by city\n",
    "group_sizes = yandex_knigi_df.groupby('city')['puid'].nunique()\n",
    "moscow = group_sizes['Москва']\n",
    "spb = group_sizes['Санкт-Петербург']"
   ]
  },
  {
   "cell_type": "code",
   "execution_count": 10,
   "id": "e7e4902d-a70c-4dfc-8f0a-69b4d53f7f62",
   "metadata": {},
   "outputs": [
    {
     "name": "stdout",
     "output_type": "stream",
     "text": [
      "Moscow: 6234 users\n",
      "Spb: 2306 users\n",
      "Percentage difference:: 63.01%\n"
     ]
    },
    {
     "data": {
      "image/png": "[encoded data removed]",
      "text/plain": [
       "<Figure size 640x480 with 1 Axes>"
      ]
     },
     "metadata": {},
     "output_type": "display_data"
    }
   ],
   "source": [
    "# Calculate the percentage difference\n",
    "percent_diff = 100* abs(moscow-spb) / moscow\n",
    "\n",
    "# Display group sizes and percentage differences\n",
    "print(f\"Moscow: {moscow} users\")\n",
    "print(f\"Spb: {spb} users\")\n",
    "print(f\"Percentage difference:: {percent_diff:.2f}%\")\n",
    "\n",
    "# Create a graph\n",
    "colors = ['skyblue', 'lightgreen']\n",
    "group_sizes.plot(kind='bar', color=colors)\n",
    "plt.title('Comparison of group sizes Moscow vs St. Petersburg')\n",
    "plt.ylabel('Number of unique users')\n",
    "plt.xticks(rotation=0)\n",
    "plt.grid(axis='y', linestyle='--', alpha=0.6)\n",
    "plt.text(0.5, max(group_sizes)*0.9, f\"{percent_diff:.2f}%\", \n",
    "         ha='center', fontsize=12, color='darkred')\n",
    "plt.tight_layout()\n",
    "plt.show()"
   ]
  },
  {
   "cell_type": "markdown",
   "id": "51168948-4a8b-4613-b58a-e10e912e9689",
   "metadata": {},
   "source": [
    "We see that there are almost 3 times more users in Moscow than in St. Petersburg. This indicates unevenness in the size of the groups."
   ]
  },
  {
   "cell_type": "code",
   "execution_count": 11,
   "id": "2ba51d5a-5870-4fa3-a947-c52aff839d91",
   "metadata": {},
   "outputs": [
    {
     "data": {
      "text/html": [
       "<div>\n",
       "<style scoped>\n",
       "    .dataframe tbody tr th:only-of-type {\n",
       "        vertical-align: middle;\n",
       "    }\n",
       "\n",
       "    .dataframe tbody tr th {\n",
       "        vertical-align: top;\n",
       "    }\n",
       "\n",
       "    .dataframe thead th {\n",
       "        text-align: right;\n",
       "    }\n",
       "</style>\n",
       "<table border=\"1\" class=\"dataframe\">\n",
       "  <thead>\n",
       "    <tr style=\"text-align: right;\">\n",
       "      <th></th>\n",
       "      <th>City</th>\n",
       "      <th>Users</th>\n",
       "      <th>Average</th>\n",
       "      <th>Median</th>\n",
       "      <th>SD</th>\n",
       "      <th>Min</th>\n",
       "      <th>Max</th>\n",
       "    </tr>\n",
       "  </thead>\n",
       "  <tbody>\n",
       "    <tr>\n",
       "      <th>0</th>\n",
       "      <td>Moscow</td>\n",
       "      <td>6234</td>\n",
       "      <td>10.881092</td>\n",
       "      <td>0.924498</td>\n",
       "      <td>36.851683</td>\n",
       "      <td>0.000018</td>\n",
       "      <td>857.209373</td>\n",
       "    </tr>\n",
       "    <tr>\n",
       "      <th>1</th>\n",
       "      <td>Saint Petersburg</td>\n",
       "      <td>2306</td>\n",
       "      <td>11.264433</td>\n",
       "      <td>0.875355</td>\n",
       "      <td>39.831755</td>\n",
       "      <td>0.000025</td>\n",
       "      <td>978.764775</td>\n",
       "    </tr>\n",
       "  </tbody>\n",
       "</table>\n",
       "</div>"
      ],
      "text/plain": [
       "               City  Users    Average    Median         SD       Min  \\\n",
       "0            Moscow   6234  10.881092  0.924498  36.851683  0.000018   \n",
       "1  Saint Petersburg   2306  11.264433  0.875355  39.831755  0.000025   \n",
       "\n",
       "          Max  \n",
       "0  857.209373  \n",
       "1  978.764775  "
      ]
     },
     "metadata": {},
     "output_type": "display_data"
    }
   ],
   "source": [
    "# Let's split the data by cities\n",
    "moscow = yandex_knigi_df[yandex_knigi_df['city'] == 'Москва']\n",
    "spb = yandex_knigi_df[yandex_knigi_df['city'] == 'Санкт-Петербург']\n",
    "\n",
    "# Descriptive statistics\n",
    "desc_stats = pd.DataFrame({\n",
    "    'City': ['Moscow', 'Saint Petersburg'],\n",
    "    'Users': [len(moscow), len(spb)],\n",
    "    'Average': [moscow['hours'].mean(), spb['hours'].mean()],\n",
    "    'Median': [moscow['hours'].median(), spb['hours'].median()],\n",
    "    'SD': [moscow['hours'].std(), spb['hours'].std()],\n",
    "    'Min': [moscow['hours'].min(), spb['hours'].min()],\n",
    "    'Max': [moscow['hours'].max(), spb['hours'].max()]\n",
    "})\n",
    "\n",
    "display(desc_stats)"
   ]
  },
  {
   "cell_type": "markdown",
   "id": "27771ee4-5581-4db2-b9cb-2a80a861a0f7",
   "metadata": {},
   "source": [
    "- As mentioned above, the group sizes vary significantly: Moscow has almost 3 times more users than St. Petersburg.\n",
    "- The average user activity is slightly higher in St. Petersburg — 11.26 vs. 10.88 hours. The difference is small, but potentially significant.\n",
    "- The median values ​​are higher in Moscow — 0.92 vs. 0.87.\n",
    "- The high standard deviation values ​​in both groups indicate a large diversity in user behavior.\n",
    "- The maximum values ​​are also very high, especially in St. Petersburg (978.76).\n",
    "\n",
    "Judging by the statistics, the distributions of user activity in Moscow and St. Petersburg are very similar in nature, but are probably not normal. Let's check this."
   ]
  },
  {
   "cell_type": "code",
   "execution_count": 12,
   "id": "a8ca1c26-fe41-4fb3-9723-8e23a5fc8990",
   "metadata": {},
   "outputs": [
    {
     "data": {
      "image/png": "[encoded data removed]",
      "text/plain": [
       "<Figure size 1200x600 with 1 Axes>"
      ]
     },
     "metadata": {},
     "output_type": "display_data"
    }
   ],
   "source": [
    "plt.figure(figsize=(12, 6))\n",
    "sns.kdeplot(data=yandex_knigi_df, x='hours', hue='city', fill=True, common_norm=False, palette=[\"#66c2a5\", \"#fc8d62\"])\n",
    "plt.title('Estimation of the density distribution of activity time by cities')\n",
    "plt.xlabel('Active time (hours)')\n",
    "plt.ylabel('Distribution density')\n",
    "plt.tight_layout()\n",
    "plt.show()"
   ]
  },
  {
   "cell_type": "markdown",
   "id": "4db65c08-cde8-4579-b2a1-9e6de1b900a8",
   "metadata": {},
   "source": [
    "The histogram shows a \"peak\" near 0 and a long tail to the right, confirming that the data distribution is not Gaussian.\n",
    "\n",
    "Since we are comparing two independent samples, and the sizes of these samples are quite large (~6000 and ~2300), we could apply Welch's t-test, based on the Central Limit Theorem.\n",
    "\n",
    "However, when analyzing the distributions, we noticed the presence of outliers that can significantly affect the result of the t-test.\n",
    "\n",
    "Since the t-test is sensitive to outliers and requires the normality of the metric distribution, we decided to use the nonparametric Mann–Whitney U-test, which does not require normality and is more robust to outliers."
   ]
  },
  {
   "cell_type": "markdown",
   "id": "1067ccdf-73f9-4225-9d2b-ad01474dd199",
   "metadata": {},
   "source": [
    "## Testing a Hypothesis"
   ]
  },
  {
   "cell_type": "markdown",
   "id": "b38dd3a1-7e98-4e0e-9ef7-688af035f52c",
   "metadata": {},
   "source": [
    "The hypothesis is as follows: users from St. Petersburg spend on average more time reading and listening to books in the app than users from Moscow. Try to prove this statistically using a one-sided hypothesis test with two samples:\n",
    "\n",
    "- Null hypothesis H₀: The average user activity in hours in St. Petersburg is not greater than in Moscow.\n",
    "\n",
    "- Alternative hypothesis H₁: The average user activity in St. Petersburg is greater, and this difference is statistically significant."
   ]
  },
  {
   "cell_type": "code",
   "execution_count": 14,
   "id": "7bcaaa12-a515-420b-a640-d5ae311a999b",
   "metadata": {},
   "outputs": [
    {
     "name": "stdout",
     "output_type": "stream",
     "text": [
      "Mann-Whitney test result:\n",
      "p-value: 0.61896\n",
      "The difference is not statistically significant. The average activity of users from St. Petersburg is not greater than that of users from Moscow.\n"
     ]
    }
   ],
   "source": [
    "# Let's split the data by cities\n",
    "spb_hours = yandex_knigi_df[yandex_knigi_df['city'] == 'Санкт-Петербург']['hours'].reset_index(drop=True)\n",
    "moscow_hours = yandex_knigi_df[yandex_knigi_df['city'] == 'Москва']['hours'].reset_index(drop=True)\n",
    "\n",
    "# Mann-Whitney test\n",
    "mannwhitney_result = stats.mannwhitneyu(spb_hours, moscow_hours, alternative='greater')\n",
    "\n",
    "# p-value derivation and interpretation for Mann-Whitney\n",
    "print(\"Mann-Whitney test result:\")\n",
    "print(f\"p-value: {mannwhitney_result.pvalue:.5f}\")\n",
    "if mannwhitney_result.pvalue < 0.05:\n",
    "    print(\"The difference is statistically significant. The average activity of users from St. Petersburg is higher than that of users from Moscow.\")\n",
    "else:\n",
    "    print(\"The difference is not statistically significant. The average activity of users from St. Petersburg is not greater than that of users from Moscow.\")\n"
   ]
  },
  {
   "cell_type": "markdown",
   "id": "43b696bf-fc46-4958-9c39-c9a39a621baa",
   "metadata": {},
   "source": [
    "## Analytical note"
   ]
  },
  {
   "cell_type": "markdown",
   "id": "1f61d517-09d7-4987-920f-be2490309ea2",
   "metadata": {},
   "source": [
    "**Analysis objective:** Comparison of average user activity in hours in two cities: Moscow and St. Petersburg.\n",
    "\n",
    "**Selected test type:** We used the non-parametric Mann–Whitney test, which does not require normal distribution and is less sensitive to extreme values. The significance level was set at `a = 0.05`.\n",
    "\n",
    "**Test results:**\n",
    "\n",
    "`p-value: 0.62`\n",
    "\n",
    "**Conclusion:** The difference between average user activity in St. Petersburg and Moscow is <u>not statistically significant</u> at a significance level of 0.05.\n",
    "\n",
    "**Interpretation of results:**\n",
    "\n",
    "We do not reject the null hypothesis based on the test conducted, which suggests that <u>there is no statistically significant difference</u> in the average user activity between the two cities. This may be due to similar user habits in both cities, or other factors such as similar socioeconomic conditions or demographic characteristics.\n",
    "\n",
    "**Recommendations:**\n",
    "\n",
    "For a more accurate analysis, additional data (e.g. age, professions, preferences) can be used or the data collection methodology can be changed to reveal more pronounced differences. It is also worth considering that the sample for St. Petersburg is significantly smaller than for Moscow, which may affect the sensitivity of the test."
   ]
  }
 ],
 "metadata": {
  "kernelspec": {
   "display_name": "Python 3 (ipykernel)",
   "language": "python",
   "name": "python3"
  },
  "language_info": {
   "codemirror_mode": {
    "name": "ipython",
    "version": 3
   },
   "file_extension": ".py",
   "mimetype": "text/x-python",
   "name": "python",
   "nbconvert_exporter": "python",
   "pygments_lexer": "ipython3",
   "version": "3.12.7"
  }
 },
 "nbformat": 4,
 "nbformat_minor": 5
}
