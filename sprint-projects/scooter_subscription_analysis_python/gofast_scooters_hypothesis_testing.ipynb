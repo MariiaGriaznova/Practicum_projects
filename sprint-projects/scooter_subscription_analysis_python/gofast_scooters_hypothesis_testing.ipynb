{
 "cells": [
  {
   "cell_type": "markdown",
   "id": "4d834b44-a853-4432-b68b-b298440f1dea",
   "metadata": {},
   "source": [
    "# Analysis of the effectiveness of a subscription in a scooter rental service\n",
    "This project analyzes the effectiveness of the subscription model in a scooter-sharing service. The goal is to understand user behavior with and without a subscription and evaluate how it affects trip duration and revenue."
   ]
  },
  {
   "cell_type": "markdown",
   "id": "7c672e98-9dbd-4cf3-814a-05da2a0fabc1",
   "metadata": {},
   "source": [
    "# Data description\n",
    "\n",
    "Users table `users_go.csv`\n",
    "\n",
    "- `user_id` — unique user identifier.\n",
    "\n",
    "- `name` — user name.\n",
    "\n",
    "- `age` — age.\n",
    "\n",
    "- `city` — city.\n",
    "\n",
    "- `subscription_type` — subscription type: `free`, `ultra`.\n",
    "\n",
    "Rides table `rides_go.csv`\n",
    "\n",
    "- `user_id` — unique user identifier.\n",
    "\n",
    "- `distance` — distance in meters that the user has traveled in the current session.\n",
    "\n",
    "- `duration` — session duration in minutes, i.e. the time from the moment the user clicked the \"Start ride\" button until he clicked the \"End ride\" button.\n",
    "\n",
    "- `date` — date of the ride.\n",
    "\n",
    "Subscriptions table `subscriptions_go.csv`\n",
    "\n",
    "- `subscription_type` — subscription type.\n",
    "\n",
    "- `minute_price` — the price of one minute of ride for this subscription.\n",
    "\n",
    "- `start_ride_price` — the price to start a ride.\n",
    "\n",
    "- `subscription_fee` — the price of the monthly payment."
   ]
  },
  {
   "cell_type": "code",
   "execution_count": 1,
   "id": "c506ea94-cc26-42e3-96c1-3daa304ac618",
   "metadata": {},
   "outputs": [],
   "source": [
    "import pandas as pd\n",
    "import matplotlib.pyplot as plt"
   ]
  },
  {
   "cell_type": "markdown",
   "id": "99e841cd-e095-4206-93a9-72b2b07715cf",
   "metadata": {},
   "source": [
    "We will save three CSV files into separate DataFrames. The DataFrames will be named according to the file names, with the prefix `df_` added. File links:\n",
    "\n",
    "- https://code.s3.yandex.net/datasets/users_go.csv  \n",
    "- https://code.s3.yandex.net/datasets/rides_go.csv  \n",
    "- https://code.s3.yandex.net/datasets/subscriptions_go.csv"
   ]
  },
  {
   "cell_type": "code",
   "execution_count": 2,
   "id": "7992858a-5013-47c3-9d6b-0b90b70da7f7",
   "metadata": {},
   "outputs": [],
   "source": [
    "df_users_go = pd.read_csv('https://code.s3.yandex.net/datasets/users_go.csv')\n",
    "df_rides_go = pd.read_csv('https://code.s3.yandex.net/datasets/rides_go.csv')\n",
    "df_subscriptions_go = pd.read_csv('https://code.s3.yandex.net/datasets/subscriptions_go.csv')"
   ]
  },
  {
   "cell_type": "markdown",
   "id": "20a9803a-cf98-4173-941f-e05a20acc26f",
   "metadata": {},
   "source": [
    "Let's output the first five rows of each data frame. Let's get acquainted with the contents of the tables."
   ]
  },
  {
   "cell_type": "code",
   "execution_count": 3,
   "id": "9427abf8-328f-4a90-9d5f-52c34a2453ec",
   "metadata": {},
   "outputs": [
    {
     "data": {
      "text/html": [
       "<div>\n",
       "<style scoped>\n",
       "    .dataframe tbody tr th:only-of-type {\n",
       "        vertical-align: middle;\n",
       "    }\n",
       "\n",
       "    .dataframe tbody tr th {\n",
       "        vertical-align: top;\n",
       "    }\n",
       "\n",
       "    .dataframe thead th {\n",
       "        text-align: right;\n",
       "    }\n",
       "</style>\n",
       "<table border=\"1\" class=\"dataframe\">\n",
       "  <thead>\n",
       "    <tr style=\"text-align: right;\">\n",
       "      <th></th>\n",
       "      <th>user_id</th>\n",
       "      <th>name</th>\n",
       "      <th>age</th>\n",
       "      <th>city</th>\n",
       "      <th>subscription_type</th>\n",
       "    </tr>\n",
       "  </thead>\n",
       "  <tbody>\n",
       "    <tr>\n",
       "      <th>0</th>\n",
       "      <td>1</td>\n",
       "      <td>Кира</td>\n",
       "      <td>22</td>\n",
       "      <td>Тюмень</td>\n",
       "      <td>ultra</td>\n",
       "    </tr>\n",
       "    <tr>\n",
       "      <th>1</th>\n",
       "      <td>2</td>\n",
       "      <td>Станислав</td>\n",
       "      <td>31</td>\n",
       "      <td>Омск</td>\n",
       "      <td>ultra</td>\n",
       "    </tr>\n",
       "    <tr>\n",
       "      <th>2</th>\n",
       "      <td>3</td>\n",
       "      <td>Алексей</td>\n",
       "      <td>20</td>\n",
       "      <td>Москва</td>\n",
       "      <td>ultra</td>\n",
       "    </tr>\n",
       "    <tr>\n",
       "      <th>3</th>\n",
       "      <td>4</td>\n",
       "      <td>Константин</td>\n",
       "      <td>26</td>\n",
       "      <td>Ростов-на-Дону</td>\n",
       "      <td>ultra</td>\n",
       "    </tr>\n",
       "    <tr>\n",
       "      <th>4</th>\n",
       "      <td>5</td>\n",
       "      <td>Адель</td>\n",
       "      <td>28</td>\n",
       "      <td>Омск</td>\n",
       "      <td>ultra</td>\n",
       "    </tr>\n",
       "  </tbody>\n",
       "</table>\n",
       "</div>"
      ],
      "text/plain": [
       "   user_id        name  age            city subscription_type\n",
       "0        1        Кира   22          Тюмень             ultra\n",
       "1        2   Станислав   31            Омск             ultra\n",
       "2        3     Алексей   20          Москва             ultra\n",
       "3        4  Константин   26  Ростов-на-Дону             ultra\n",
       "4        5       Адель   28            Омск             ultra"
      ]
     },
     "metadata": {},
     "output_type": "display_data"
    },
    {
     "data": {
      "text/html": [
       "<div>\n",
       "<style scoped>\n",
       "    .dataframe tbody tr th:only-of-type {\n",
       "        vertical-align: middle;\n",
       "    }\n",
       "\n",
       "    .dataframe tbody tr th {\n",
       "        vertical-align: top;\n",
       "    }\n",
       "\n",
       "    .dataframe thead th {\n",
       "        text-align: right;\n",
       "    }\n",
       "</style>\n",
       "<table border=\"1\" class=\"dataframe\">\n",
       "  <thead>\n",
       "    <tr style=\"text-align: right;\">\n",
       "      <th></th>\n",
       "      <th>user_id</th>\n",
       "      <th>distance</th>\n",
       "      <th>duration</th>\n",
       "      <th>date</th>\n",
       "    </tr>\n",
       "  </thead>\n",
       "  <tbody>\n",
       "    <tr>\n",
       "      <th>0</th>\n",
       "      <td>1</td>\n",
       "      <td>4409.919140</td>\n",
       "      <td>25.599769</td>\n",
       "      <td>2021-01-01</td>\n",
       "    </tr>\n",
       "    <tr>\n",
       "      <th>1</th>\n",
       "      <td>1</td>\n",
       "      <td>2617.592153</td>\n",
       "      <td>15.816871</td>\n",
       "      <td>2021-01-18</td>\n",
       "    </tr>\n",
       "    <tr>\n",
       "      <th>2</th>\n",
       "      <td>1</td>\n",
       "      <td>754.159807</td>\n",
       "      <td>6.232113</td>\n",
       "      <td>2021-04-20</td>\n",
       "    </tr>\n",
       "    <tr>\n",
       "      <th>3</th>\n",
       "      <td>1</td>\n",
       "      <td>2694.783254</td>\n",
       "      <td>18.511000</td>\n",
       "      <td>2021-08-11</td>\n",
       "    </tr>\n",
       "    <tr>\n",
       "      <th>4</th>\n",
       "      <td>1</td>\n",
       "      <td>4028.687306</td>\n",
       "      <td>26.265803</td>\n",
       "      <td>2021-08-28</td>\n",
       "    </tr>\n",
       "  </tbody>\n",
       "</table>\n",
       "</div>"
      ],
      "text/plain": [
       "   user_id     distance   duration        date\n",
       "0        1  4409.919140  25.599769  2021-01-01\n",
       "1        1  2617.592153  15.816871  2021-01-18\n",
       "2        1   754.159807   6.232113  2021-04-20\n",
       "3        1  2694.783254  18.511000  2021-08-11\n",
       "4        1  4028.687306  26.265803  2021-08-28"
      ]
     },
     "metadata": {},
     "output_type": "display_data"
    },
    {
     "data": {
      "text/html": [
       "<div>\n",
       "<style scoped>\n",
       "    .dataframe tbody tr th:only-of-type {\n",
       "        vertical-align: middle;\n",
       "    }\n",
       "\n",
       "    .dataframe tbody tr th {\n",
       "        vertical-align: top;\n",
       "    }\n",
       "\n",
       "    .dataframe thead th {\n",
       "        text-align: right;\n",
       "    }\n",
       "</style>\n",
       "<table border=\"1\" class=\"dataframe\">\n",
       "  <thead>\n",
       "    <tr style=\"text-align: right;\">\n",
       "      <th></th>\n",
       "      <th>subscription_type</th>\n",
       "      <th>minute_price</th>\n",
       "      <th>start_ride_price</th>\n",
       "      <th>subscription_fee</th>\n",
       "    </tr>\n",
       "  </thead>\n",
       "  <tbody>\n",
       "    <tr>\n",
       "      <th>0</th>\n",
       "      <td>free</td>\n",
       "      <td>8</td>\n",
       "      <td>50</td>\n",
       "      <td>0</td>\n",
       "    </tr>\n",
       "    <tr>\n",
       "      <th>1</th>\n",
       "      <td>ultra</td>\n",
       "      <td>6</td>\n",
       "      <td>0</td>\n",
       "      <td>199</td>\n",
       "    </tr>\n",
       "  </tbody>\n",
       "</table>\n",
       "</div>"
      ],
      "text/plain": [
       "  subscription_type  minute_price  start_ride_price  subscription_fee\n",
       "0              free             8                50                 0\n",
       "1             ultra             6                 0               199"
      ]
     },
     "metadata": {},
     "output_type": "display_data"
    }
   ],
   "source": [
    "display(df_users_go.head(5))\n",
    "display(df_rides_go.head(5))\n",
    "display(df_subscriptions_go.head(5))"
   ]
  },
  {
   "cell_type": "markdown",
   "id": "8935c7b4-53f8-458f-9853-1170c7bc10c1",
   "metadata": {},
   "source": [
    "Let's count the number of rows in each of the three dataframes."
   ]
  },
  {
   "cell_type": "code",
   "execution_count": 4,
   "id": "cfca252b-254d-4f86-bc02-d0ec2706706f",
   "metadata": {},
   "outputs": [
    {
     "name": "stdout",
     "output_type": "stream",
     "text": [
      "1565 18068 2\n"
     ]
    }
   ],
   "source": [
    "print(len(df_users_go), len(df_rides_go), len(df_subscriptions_go))"
   ]
  },
  {
   "cell_type": "markdown",
   "id": "fccdc271-b8ae-459f-b63b-6bdcd370126f",
   "metadata": {},
   "source": [
    "---\n",
    "## Getting to know the data and preparing it in advance"
   ]
  },
  {
   "cell_type": "code",
   "execution_count": 34,
   "id": "140e95b0-2412-4532-b246-54cba7bfd672",
   "metadata": {},
   "outputs": [],
   "source": [
    "import pandas as pd\n",
    "import matplotlib.pyplot as plt\n",
    "import scipy.stats as st"
   ]
  },
  {
   "cell_type": "markdown",
   "id": "272fafd7-7b6e-4793-8681-d437b5ee8ea2",
   "metadata": {},
   "source": [
    "Let's study the data types and, if necessary, change them to more suitable ones."
   ]
  },
  {
   "cell_type": "code",
   "execution_count": 5,
   "id": "32826688-be1f-4c9e-beb1-278e06e95622",
   "metadata": {},
   "outputs": [
    {
     "data": {
      "text/plain": [
       "user_id       int64\n",
       "distance    float64\n",
       "duration    float64\n",
       "date         object\n",
       "dtype: object"
      ]
     },
     "execution_count": 5,
     "metadata": {},
     "output_type": "execute_result"
    }
   ],
   "source": [
    "df_rides_go.dtypes"
   ]
  },
  {
   "cell_type": "code",
   "execution_count": 6,
   "id": "5ce4efad-5ea3-4f41-b261-2b24b228e6fc",
   "metadata": {},
   "outputs": [],
   "source": [
    "df_rides_go['date'] = pd.to_datetime(df_rides_go['date'])"
   ]
  },
  {
   "cell_type": "markdown",
   "id": "f2e5d9e1-d0c2-4ded-8c8f-0894bc50b837",
   "metadata": {},
   "source": [
    "Create a new column month containing the month number. This will be needed for subsequent grouping of data and analysis of seasonal trends."
   ]
  },
  {
   "cell_type": "code",
   "execution_count": 7,
   "id": "fb083109-93ac-42d1-881b-ae39e1399114",
   "metadata": {},
   "outputs": [],
   "source": [
    "df_rides_go[\"month\"] = df_rides_go[\"date\"].dt.month"
   ]
  },
  {
   "cell_type": "markdown",
   "id": "5b101d3b-a4b3-4629-9c50-bab22d1be70d",
   "metadata": {},
   "source": [
    "Let's move on to the study of omissions and duplicates."
   ]
  },
  {
   "cell_type": "code",
   "execution_count": 8,
   "id": "badf5059-59e7-4322-a987-427c2dd50e4c",
   "metadata": {},
   "outputs": [
    {
     "name": "stdout",
     "output_type": "stream",
     "text": [
      "0 31\n"
     ]
    }
   ],
   "source": [
    "print(df_users_go.isna().sum().sum(), df_users_go.duplicated().sum())"
   ]
  },
  {
   "cell_type": "markdown",
   "id": "cbfd009d-dc0f-470b-a990-a3ebfc19bb05",
   "metadata": {},
   "source": [
    "We will remove the detected duplicates"
   ]
  },
  {
   "cell_type": "code",
   "execution_count": 9,
   "id": "4ea2c9c9-a257-4837-beaf-e41e4fba8d6c",
   "metadata": {},
   "outputs": [],
   "source": [
    "df_users_go.drop_duplicates(inplace=True)"
   ]
  },
  {
   "cell_type": "markdown",
   "id": "f4cdeb76-fd29-462d-87db-364c166b8f9b",
   "metadata": {
    "scrolled": true
   },
   "source": [
    "In the trips dataframe `df_rides_go`, round the 'duration' to an integer."
   ]
  },
  {
   "cell_type": "code",
   "execution_count": 11,
   "id": "f195a399-149f-4b41-a836-141d8fdb7b05",
   "metadata": {},
   "outputs": [],
   "source": [
    "df_rides_go[\"duration\"] = df_rides_go[\"duration\"].round().astype(int)"
   ]
  },
  {
   "cell_type": "markdown",
   "id": "c3cf45f8-8a7c-4d1f-9d70-c4a2a7e58ff4",
   "metadata": {},
   "source": [
    "---\n",
    "## Exploratory Data Analysis (EDA)\n",
    "We will study and visualize information about the geography and demographics of the service, and also identify patterns in the distances and duration of trips."
   ]
  },
  {
   "cell_type": "markdown",
   "id": "64c56e26-e344-4c02-82a5-3e1f382d5ac4",
   "metadata": {},
   "source": [
    "### Number of users by city.\n",
    "Using the data from the `df_users_go` dataframe, we will study the number of users in each city."
   ]
  },
  {
   "cell_type": "code",
   "execution_count": 13,
   "id": "edd4b55a-5abd-47ff-8ed0-c060e21c70f1",
   "metadata": {},
   "outputs": [
    {
     "name": "stdout",
     "output_type": "stream",
     "text": [
      "city\n",
      "Пятигорск         219\n",
      "Екатеринбург      204\n",
      "Ростов-на-Дону    198\n",
      "Краснодар         193\n",
      "Сочи              189\n",
      "Омск              183\n",
      "Тюмень            180\n",
      "Москва            168\n",
      "Name: count, dtype: int64\n"
     ]
    }
   ],
   "source": [
    "users_by_city_count = df_users_go[\"city\"].value_counts()\n",
    "print(users_by_city_count)"
   ]
  },
  {
   "cell_type": "markdown",
   "id": "9e51f001-c79c-430d-92a0-952602c37562",
   "metadata": {},
   "source": [
    "### Number of subscription users"
   ]
  },
  {
   "cell_type": "code",
   "execution_count": 14,
   "id": "b22cf73a-13fe-43f7-afe4-3284385c966d",
   "metadata": {},
   "outputs": [
    {
     "name": "stdout",
     "output_type": "stream",
     "text": [
      "subscription_type\n",
      "free     835\n",
      "ultra    699\n",
      "Name: count, dtype: int64\n"
     ]
    }
   ],
   "source": [
    "subscription_type_count = df_users_go[\"subscription_type\"].value_counts()\n",
    "\n",
    "# Выводим результат\n",
    "print(subscription_type_count)"
   ]
  },
  {
   "cell_type": "code",
   "execution_count": 15,
   "id": "ef73af1a-a8da-4685-a78d-7808b68f4360",
   "metadata": {},
   "outputs": [
    {
     "data": {
      "image/png": "[encoded data removed]",
      "text/plain": [
       "<Figure size 640x480 with 1 Axes>"
      ]
     },
     "metadata": {},
     "output_type": "display_data"
    }
   ],
   "source": [
    "subscription_type_count.plot(\n",
    "    kind=\"pie\",\n",
    "    title=\"Ratio of subscribed and unsubscribed users\",\n",
    "    autopct=\"%.0f%%\",\n",
    "    ylabel=\"\",\n",
    "    colors=[\"red\", \"green\"]\n",
    ")\n",
    "\n",
    "# Displaying a graph\n",
    "plt.show()"
   ]
  },
  {
   "cell_type": "markdown",
   "id": "3ef3a44e-c36b-4da6-9596-a0117b47a229",
   "metadata": {},
   "source": [
    "### Study of Ages"
   ]
  },
  {
   "cell_type": "code",
   "execution_count": 16,
   "id": "f9cfece7-1435-4a68-9cf9-1e7e9c0de830",
   "metadata": {},
   "outputs": [
    {
     "data": {
      "image/png": "[encoded data removed]",
      "text/plain": [
       "<Figure size 640x480 with 1 Axes>"
      ]
     },
     "metadata": {},
     "output_type": "display_data"
    }
   ],
   "source": [
    "n_bins = df_users_go['age'].max() - df_users_go['age'].min()\n",
    "df_users_go['age'].hist(bins = n_bins)\n",
    "plt.title('Age of users')\n",
    "plt.xlabel('Age')\n",
    "plt.show()"
   ]
  },
  {
   "cell_type": "code",
   "execution_count": 17,
   "id": "b913bb63-0e3f-4e34-980f-5fe6fc71cd5e",
   "metadata": {},
   "outputs": [
    {
     "name": "stdout",
     "output_type": "stream",
     "text": [
      "The share of underage scooter users is 5%.\n"
     ]
    }
   ],
   "source": [
    "users_under_18_ratio = round(len(df_users_go[df_users_go[\"age\"] < 18]) / len(df_users_go) * 100)\n",
    "print(f'The share of underage scooter users is {users_under_18_ratio}%.')"
   ]
  },
  {
   "cell_type": "markdown",
   "id": "a56c5ee9-53af-4524-ac7e-98ec951ea5e0",
   "metadata": {},
   "source": [
    "### Trip duration characteristics"
   ]
  },
  {
   "cell_type": "code",
   "execution_count": 18,
   "id": "e1cfda0a-b40b-4191-bc3f-4909521af95f",
   "metadata": {},
   "outputs": [
    {
     "name": "stdout",
     "output_type": "stream",
     "text": [
      "The average trip duration is 18 minutes with a standard deviation of 6. The majority of trips take between 14 and 22 minutes.\n"
     ]
    }
   ],
   "source": [
    "duration_mean = round(df_rides_go[\"duration\"].mean())\n",
    "duration_std = round(df_rides_go[\"duration\"].std())\n",
    "\n",
    "duration_pct25 = round(df_rides_go[\"duration\"].quantile(0.25))\n",
    "duration_pct75 = round(df_rides_go[\"duration\"].quantile(0.75))\n",
    "\n",
    "print(f'The average trip duration is {duration_mean} minutes with a standard deviation of {duration_std}. The majority of trips take between {duration_pct25} and {duration_pct75} minutes.')"
   ]
  },
  {
   "cell_type": "markdown",
   "id": "9fbf9c8f-5946-49d7-a684-6575c42d0987",
   "metadata": {},
   "source": [
    "## Объединение данных"
   ]
  },
  {
   "cell_type": "markdown",
   "id": "0b72661f-61d6-4c87-a28c-c4bc19cbddb7",
   "metadata": {},
   "source": [
    "Let's create a single dataframe with information about users and trips"
   ]
  },
  {
   "cell_type": "code",
   "execution_count": 23,
   "id": "8e304eb2-fe52-4f41-a98d-3a79b51460ac",
   "metadata": {},
   "outputs": [],
   "source": [
    "# Merge dataframes df_users_go and df_rides_go by column user_id\n",
    "df = df_users_go.merge(df_rides_go, on=\"user_id\", how=\"left\")\n",
    "\n",
    "# We rearrange the columns in the desired order\n",
    "df = df[[\"user_id\", \"distance\", \"duration\", \"date\", \"month\", \"name\", \"age\", \"city\", \"subscription_type\"]]"
   ]
  },
  {
   "cell_type": "code",
   "execution_count": 24,
   "id": "c24fdbdd-7060-4840-9925-09817fe14f79",
   "metadata": {},
   "outputs": [],
   "source": [
    "# Let's add information about the subscription type\n",
    "df = df.merge(df_subscriptions_go, on=\"subscription_type\", how=\"left\")"
   ]
  },
  {
   "cell_type": "code",
   "execution_count": 25,
   "id": "f486b931-36e2-47d2-b5c6-6eda9583b981",
   "metadata": {},
   "outputs": [
    {
     "data": {
      "text/html": [
       "<div>\n",
       "<style scoped>\n",
       "    .dataframe tbody tr th:only-of-type {\n",
       "        vertical-align: middle;\n",
       "    }\n",
       "\n",
       "    .dataframe tbody tr th {\n",
       "        vertical-align: top;\n",
       "    }\n",
       "\n",
       "    .dataframe thead th {\n",
       "        text-align: right;\n",
       "    }\n",
       "</style>\n",
       "<table border=\"1\" class=\"dataframe\">\n",
       "  <thead>\n",
       "    <tr style=\"text-align: right;\">\n",
       "      <th></th>\n",
       "      <th>user_id</th>\n",
       "      <th>distance</th>\n",
       "      <th>duration</th>\n",
       "      <th>date</th>\n",
       "      <th>month</th>\n",
       "      <th>name</th>\n",
       "      <th>age</th>\n",
       "      <th>city</th>\n",
       "      <th>subscription_type</th>\n",
       "      <th>minute_price</th>\n",
       "      <th>start_ride_price</th>\n",
       "      <th>subscription_fee</th>\n",
       "    </tr>\n",
       "  </thead>\n",
       "  <tbody>\n",
       "    <tr>\n",
       "      <th>0</th>\n",
       "      <td>1</td>\n",
       "      <td>4409.919140</td>\n",
       "      <td>26</td>\n",
       "      <td>2021-01-01</td>\n",
       "      <td>1</td>\n",
       "      <td>Кира</td>\n",
       "      <td>22</td>\n",
       "      <td>Тюмень</td>\n",
       "      <td>ultra</td>\n",
       "      <td>6</td>\n",
       "      <td>0</td>\n",
       "      <td>199</td>\n",
       "    </tr>\n",
       "    <tr>\n",
       "      <th>1</th>\n",
       "      <td>1</td>\n",
       "      <td>2617.592153</td>\n",
       "      <td>16</td>\n",
       "      <td>2021-01-18</td>\n",
       "      <td>1</td>\n",
       "      <td>Кира</td>\n",
       "      <td>22</td>\n",
       "      <td>Тюмень</td>\n",
       "      <td>ultra</td>\n",
       "      <td>6</td>\n",
       "      <td>0</td>\n",
       "      <td>199</td>\n",
       "    </tr>\n",
       "    <tr>\n",
       "      <th>2</th>\n",
       "      <td>1</td>\n",
       "      <td>754.159807</td>\n",
       "      <td>6</td>\n",
       "      <td>2021-04-20</td>\n",
       "      <td>4</td>\n",
       "      <td>Кира</td>\n",
       "      <td>22</td>\n",
       "      <td>Тюмень</td>\n",
       "      <td>ultra</td>\n",
       "      <td>6</td>\n",
       "      <td>0</td>\n",
       "      <td>199</td>\n",
       "    </tr>\n",
       "    <tr>\n",
       "      <th>3</th>\n",
       "      <td>1</td>\n",
       "      <td>2694.783254</td>\n",
       "      <td>19</td>\n",
       "      <td>2021-08-11</td>\n",
       "      <td>8</td>\n",
       "      <td>Кира</td>\n",
       "      <td>22</td>\n",
       "      <td>Тюмень</td>\n",
       "      <td>ultra</td>\n",
       "      <td>6</td>\n",
       "      <td>0</td>\n",
       "      <td>199</td>\n",
       "    </tr>\n",
       "    <tr>\n",
       "      <th>4</th>\n",
       "      <td>1</td>\n",
       "      <td>4028.687306</td>\n",
       "      <td>26</td>\n",
       "      <td>2021-08-28</td>\n",
       "      <td>8</td>\n",
       "      <td>Кира</td>\n",
       "      <td>22</td>\n",
       "      <td>Тюмень</td>\n",
       "      <td>ultra</td>\n",
       "      <td>6</td>\n",
       "      <td>0</td>\n",
       "      <td>199</td>\n",
       "    </tr>\n",
       "  </tbody>\n",
       "</table>\n",
       "</div>"
      ],
      "text/plain": [
       "   user_id     distance  duration       date  month  name  age    city  \\\n",
       "0        1  4409.919140        26 2021-01-01      1  Кира   22  Тюмень   \n",
       "1        1  2617.592153        16 2021-01-18      1  Кира   22  Тюмень   \n",
       "2        1   754.159807         6 2021-04-20      4  Кира   22  Тюмень   \n",
       "3        1  2694.783254        19 2021-08-11      8  Кира   22  Тюмень   \n",
       "4        1  4028.687306        26 2021-08-28      8  Кира   22  Тюмень   \n",
       "\n",
       "  subscription_type  minute_price  start_ride_price  subscription_fee  \n",
       "0             ultra             6                 0               199  \n",
       "1             ultra             6                 0               199  \n",
       "2             ultra             6                 0               199  \n",
       "3             ultra             6                 0               199  \n",
       "4             ultra             6                 0               199  "
      ]
     },
     "metadata": {},
     "output_type": "display_data"
    },
    {
     "name": "stdout",
     "output_type": "stream",
     "text": [
      "The resulting dataframe has 18068 rows and 12 columns.\n"
     ]
    }
   ],
   "source": [
    "display(df.head(5))\n",
    "\n",
    "n_rows, n_cols = df.shape\n",
    "print(f'The resulting dataframe has {n_rows} rows and {n_cols} columns.')"
   ]
  },
  {
   "cell_type": "markdown",
   "id": "8e47190f-128d-417d-9341-02aef2c223f4",
   "metadata": {},
   "source": [
    "Let's create two independent dataframes based on `df`: the first one is only for users with the 'df_ultra' subscription and the second one is only for users without subscription."
   ]
  },
  {
   "cell_type": "code",
   "execution_count": 27,
   "id": "b665dcfe-bc19-468e-b8ff-68b83a6690f5",
   "metadata": {},
   "outputs": [],
   "source": [
    "df_ultra = df[df['subscription_type'] == 'ultra']\n",
    "\n",
    "df_free = df[df['subscription_type'] == 'free']"
   ]
  },
  {
   "cell_type": "markdown",
   "id": "2c952bbe-b11f-42a3-ac03-794ad679a863",
   "metadata": {},
   "source": [
    "We explore the duration of trips for users with and without a subscription"
   ]
  },
  {
   "cell_type": "code",
   "execution_count": 28,
   "id": "3d823e34-f9e8-43f9-b0f9-e641fdeed1b2",
   "metadata": {},
   "outputs": [
    {
     "data": {
      "image/png": "[encoded data removed]",
      "text/plain": [
       "<Figure size 1500x500 with 1 Axes>"
      ]
     },
     "metadata": {},
     "output_type": "display_data"
    },
    {
     "name": "stdout",
     "output_type": "stream",
     "text": [
      "The average trip duration for users without a subscription is 17 min, and for users with a subscription is 19 min\n"
     ]
    }
   ],
   "source": [
    "# Trip duration histogram for users with and without subscription\n",
    "plt.figure(figsize=(15, 5))\n",
    "# Build a histogram for users without a subscription\n",
    "df_free['duration'].hist(bins=30, label='free', alpha=0.5)\n",
    "\n",
    "# Build a histogram for users with subscription\n",
    "df_ultra['duration'].hist(bins=30, label='ultra', alpha=0.5)\n",
    "\n",
    "plt.xlabel('Travel time, min.')\n",
    "plt.title('Histogram of distribution of trip durations')\n",
    "\n",
    "plt.legend()\n",
    "\n",
    "plt.show()\n",
    "\n",
    "# Calculate average trip duration for users without a subscription\n",
    "mean_duration_free = round(df_free['duration'].mean())\n",
    "\n",
    "# Calculate average trip duration for users with subscription\n",
    "mean_duration_ultra = round(df_ultra['duration'].mean())\n",
    "print(f'The average trip duration for users without a subscription is {mean_duration_free} min, and for users with a subscription is {mean_duration_ultra} min')"
   ]
  },
  {
   "cell_type": "markdown",
   "id": "125ede31-3894-416f-8f9d-dcf4317e4f86",
   "metadata": {},
   "source": [
    "## Calculating revenue\n",
    "\n",
    "Data on the number and duration of trips is combined with prices and tariffs, which means that now there is everything necessary to calculate an important indicator for business - revenue."
   ]
  },
  {
   "cell_type": "code",
   "execution_count": 29,
   "id": "e4d5f339-a1da-48cc-8bd9-d3c6a3542cc6",
   "metadata": {},
   "outputs": [],
   "source": [
    "df_gp = df.groupby(['user_id', 'name', 'subscription_type', 'month'], as_index=False)"
   ]
  },
  {
   "cell_type": "code",
   "execution_count": 30,
   "id": "3df4e8b5-1e3e-4ed2-9f2f-e45444dd1477",
   "metadata": {},
   "outputs": [],
   "source": [
    "df_agg = df_gp.agg(\n",
    "    total_distance=('distance', 'sum'),\n",
    "    total_duration= ('duration', 'sum'),\n",
    "    rides_count= ('duration', 'count'),\n",
    "    subscription_type= ('subscription_type', 'first'),\n",
    "    minute_price= ('minute_price', 'first'),\n",
    "    start_ride_price= ('start_ride_price', 'first'),\n",
    "    subscription_fee= ('subscription_fee', 'first'),\n",
    ")"
   ]
  },
  {
   "cell_type": "code",
   "execution_count": 31,
   "id": "fc932222-e00b-425e-b734-f17679cee2f8",
   "metadata": {},
   "outputs": [],
   "source": [
    "# Let's create a function calculate_monthly_revenue(row) to calculate monthly revenue\n",
    "def calculate_monthly_revenue(row):\n",
    "    return (row['start_ride_price'] * row['rides_count'] +\n",
    "            row['minute_price'] * row['total_duration'] +\n",
    "            row['subscription_fee'])"
   ]
  },
  {
   "cell_type": "markdown",
   "id": "9a568a4f-4d7f-4c0b-a4a8-1bafa6f19ec4",
   "metadata": {},
   "source": [
    "Let's create a new column with monthly revenue per user 'monthly_revenue'. To do this, apply the calculate_monthly_revenue(row) function to each row of the aggregated dataframe `df_agg`."
   ]
  },
  {
   "cell_type": "code",
   "execution_count": 32,
   "id": "4b40b0d8-97af-49ef-b806-20a1df2155be",
   "metadata": {},
   "outputs": [],
   "source": [
    "df_agg['monthly_revenue'] = df_agg.apply(calculate_monthly_revenue, axis=1)"
   ]
  },
  {
   "cell_type": "code",
   "execution_count": 33,
   "id": "8d4f25b5-8a13-46f6-bd2d-6e1ed874bd97",
   "metadata": {},
   "outputs": [
    {
     "name": "stdout",
     "output_type": "stream",
     "text": [
      "      user_id       name  month  rides_count  monthly_revenue\n",
      "8877     1236  Александр      1            2              228\n",
      "8878     1236  Александр      2            3              614\n",
      "8879     1236  Александр      3            5              762\n",
      "8880     1236  Александр      4            1              202\n",
      "8881     1236  Александр      5            3              574\n",
      "8882     1236  Александр      6            1              282\n",
      "8883     1236  Александр      7            1              290\n",
      "8884     1236  Александр      8            2              452\n",
      "8885     1236  Александр      9            1              122\n",
      "8886     1236  Александр     10            3              430\n",
      "8887     1236  Александр     11            3              494\n",
      "8888     1236  Александр     12            2              476\n"
     ]
    }
   ],
   "source": [
    "# Find the user_id with the maximum total revenue\n",
    "top_user_id = df_agg.groupby('user_id')['monthly_revenue'].sum().idxmax()\n",
    "\n",
    "# Filter data by this user\n",
    "top_user_data = df_agg[df_agg['user_id'] == top_user_id][['user_id', 'name', 'month', 'rides_count', 'monthly_revenue']]\n",
    "\n",
    "print(top_user_data)"
   ]
  },
  {
   "cell_type": "markdown",
   "id": "26a11a14-f911-4ead-a42c-7e004870f163",
   "metadata": {},
   "source": [
    "---\n",
    "## Hypothesis testing"
   ]
  },
  {
   "cell_type": "markdown",
   "id": "3e63faa1-345f-4128-8192-75d363df1b3f",
   "metadata": {},
   "source": [
    "Let's write an auxiliary function `print_stattest_results(p_value, alpha)` that will interpret the results of a statistical test based on the p-value and the specified significance level (α-level). The function will decide whether to accept the alternative hypothesis or keep the null hypothesis.\n",
    "\n",
    "The function has two parameters:\n",
    "- `p_value` (type `float`) — the p-value obtained as a result of performing the statistical test.\n",
    "- `alpha` (type `float`, optional, by default `alpha = 0.05`) — the significance level of the statistical test, which is used as a threshold for deciding to reject the null hypothesis.\n",
    "\n",
    "If the alternative hypothesis is accepted, the following message is printed:\n",
    "`'The obtained value p_value=<Entered value p_value> is less than the critical level alpha=0.05. Accept the alternative hypothesis.'`\n",
    "\n",
    "If the null hypothesis cannot be rejected, the following message is displayed: `'The obtained value p_value=<The entered value p_value> is greater than the critical level alpha=0.05. The null hypothesis cannot be rejected.'`\n",
    "\n",
    "We call the function for `p_value = 0.0001` and `p_value = 0.1`."
   ]
  },
  {
   "cell_type": "code",
   "execution_count": 41,
   "id": "1a35f6cc-03d6-4cc9-850f-b4297b360b37",
   "metadata": {},
   "outputs": [
    {
     "name": "stdout",
     "output_type": "stream",
     "text": [
      "The obtained value p_value=0.0001 is less than the critical level alpha=0.05. We accept the alternative hypothesis.\n",
      "The obtained value p_value=0.1 is greater than the critical level alpha=0.05. The null hypothesis cannot be rejected.\n"
     ]
    }
   ],
   "source": [
    "def print_stattest_results(p_value:float, alpha:float = 0.05):\n",
    "    if p_value < alpha:\n",
    "        print(f\"The obtained value p_value={p_value} is less than the critical level alpha={alpha}. We accept the alternative hypothesis.\")\n",
    "    else:\n",
    "        print(f\"The obtained value p_value={p_value} is greater than the critical level alpha={alpha}. The null hypothesis cannot be rejected.\") \n",
    "print_stattest_results(p_value=0.0001)\n",
    "print_stattest_results(p_value=0.1)"
   ]
  },
  {
   "cell_type": "markdown",
   "id": "9423b688-49a3-4800-aaf2-3a754eabf6ee",
   "metadata": {},
   "source": [
    "### Duration for users with and without a subscription\n",
    "\n",
    "It is important to understand whether users with a subscription spend more time on trips? Let's formulate the null and alternative hypotheses:\n",
    "- Null hypothesis (H0): The average trip time for users with and without a subscription is the same.\n",
    "- Alternative hypothesis (H1): The average trip time for users with a subscription is longer than for users without a subscription."
   ]
  },
  {
   "cell_type": "code",
   "execution_count": 44,
   "id": "3b7affe5-64e0-4c43-8812-9977bfb17004",
   "metadata": {},
   "outputs": [
    {
     "name": "stdout",
     "output_type": "stream",
     "text": [
      "The obtained value p_value=3.1600689435611813e-35 is less than the critical level alpha=0.05. We accept the alternative hypothesis.\n",
      "Average trip duration of Ultra subscribers 18.55\n",
      "Average trip duration of Free subscribers 17.39\n"
     ]
    }
   ],
   "source": [
    "ultra_duration = df_ultra['duration']\n",
    "free_duration = df_free['duration']\n",
    "\n",
    "results = st.ttest_ind(ultra_duration, free_duration, alternative='greater' )\n",
    "p_value = results.pvalue\n",
    "print_stattest_results(p_value)\n",
    "ultra_mean_duration = round(ultra_duration.mean(), 2)\n",
    "free_mean_duration = round(free_duration.mean(), 2)\n",
    "\n",
    "print(f'Average trip duration of Ultra subscribers {ultra_mean_duration}')\n",
    "print(f'Average trip duration of Free subscribers {free_mean_duration}')"
   ]
  },
  {
   "cell_type": "markdown",
   "id": "092cbeb6-23b8-4d1c-af15-080f49a9c2c2",
   "metadata": {},
   "source": [
    "### Trip duration: greater or less than the critical value\n",
    "\n",
    "Let's analyze another important product hypothesis. The distance of one trip of 3130 meters is optimal in terms of scooter wear. Can we say that the distance that users with a subscription travel in one trip is less than 3130 meters?\n",
    "\n",
    "Let's formulate the null and alternative hypotheses:\n",
    "\n",
    "- Null hypothesis (H0): The average trip distance for users with a subscription is 3130 m.\n",
    "\n",
    "- Alternative hypothesis (H1): The average trip distance for users with a subscription is greater than 3130 m."
   ]
  },
  {
   "cell_type": "code",
   "execution_count": 42,
   "id": "46c386f1-9c55-4cdb-8781-f6b6a5c536ea",
   "metadata": {},
   "outputs": [
    {
     "name": "stdout",
     "output_type": "stream",
     "text": [
      "The obtained value p_value=0.9195368847849785 is greater than the critical level alpha=0.05. The null hypothesis cannot be rejected.\n"
     ]
    }
   ],
   "source": [
    "null_hypothesis = 3130\n",
    "ultra_distance = df_ultra['distance']\n",
    "\n",
    "results = st.ttest_1samp(ultra_distance, null_hypothesis, alternative='greater')\n",
    "p_value = results.pvalue\n",
    "print_stattest_results(p_value)"
   ]
  },
  {
   "cell_type": "markdown",
   "id": "bdcaab90-8013-4071-aafd-f12ab8bf1213",
   "metadata": {},
   "source": [
    "### Revenue from users with and without a subscription\n",
    "\n",
    "Test the hypothesis that revenue from users with a subscription is higher than revenue from users without a subscription.\n",
    "\n",
    "Let's formulate the null and alternative hypotheses:\n",
    "\n",
    "- Null hypothesis (H0): The average monthly revenue of users with and without a subscription is the same.\n",
    "- Alternative hypothesis (H1): The average monthly revenue of users with a subscription is higher than that of users without a subscription."
   ]
  },
  {
   "cell_type": "code",
   "execution_count": 45,
   "id": "7a3e3775-ef73-4ae5-83bf-5d5ffaf21cc9",
   "metadata": {},
   "outputs": [
    {
     "name": "stdout",
     "output_type": "stream",
     "text": [
      "The obtained value p_value=1.7274069878387966e-37 is less than the critical level alpha=0.05. We accept the alternative hypothesis.\n",
      "Average revenue of Ultra subscribers 359 RUB\n",
      "Average revenue of subscribers Free 322 RUB\n"
     ]
    }
   ],
   "source": [
    "revenue_ultra = df_agg[df_agg['subscription_type'] == 'ultra']['monthly_revenue']\n",
    "revenue_free = df_agg[df_agg['subscription_type'] == 'free']['monthly_revenue']\n",
    "\n",
    "results = st.ttest_ind(revenue_ultra, revenue_free, alternative='greater')\n",
    "p_value = results.pvalue\n",
    "print_stattest_results(p_value)\n",
    "\n",
    "mean_revenue_ultra = round(revenue_ultra.mean())\n",
    "mean_revenue_free = round(revenue_free.mean())\n",
    "\n",
    "print(f'Average revenue of Ultra subscribers {mean_revenue_ultra} RUB')\n",
    "print(f'Average revenue of subscribers Free {mean_revenue_free} RUB')"
   ]
  },
  {
   "cell_type": "markdown",
   "id": "2f1d9eaa-e9fe-40a4-956a-3e85ffb2c4d2",
   "metadata": {},
   "source": [
    "## Distributions"
   ]
  },
  {
   "cell_type": "markdown",
   "id": "ac42da76-a13a-4b8a-b5b8-28214d976fc8",
   "metadata": {},
   "source": [
    "The company came up with the idea of ​​offering an additional discount to subscribers who make long trips lasting more than 30 minutes. Let's estimate the share of such trips."
   ]
  },
  {
   "cell_type": "code",
   "execution_count": 46,
   "id": "f022df7e-b957-49d6-9d44-9d66a54dffe9",
   "metadata": {},
   "outputs": [
    {
     "name": "stdout",
     "output_type": "stream",
     "text": [
      "Average trip duration 18.5, standard deviation 6.\n"
     ]
    }
   ],
   "source": [
    "# Calculate the average value\n",
    "mu = df_ultra['duration'].mean()\n",
    "\n",
    "# Calculate the standard deviation\n",
    "sigma = df_ultra['duration'].std()\n",
    "\n",
    "# Set the target time\n",
    "target_time = 30\n",
    "\n",
    "# Conclusion\n",
    "print(f'Average trip duration {round(mu, 1)}, standard deviation {round(sigma)}.')"
   ]
  },
  {
   "cell_type": "markdown",
   "id": "97e14c5a-8fc8-41d9-8f55-3dc9c3abd0b8",
   "metadata": {},
   "source": [
    "### Calculating the value of the distribution function at a point (CDF)"
   ]
  },
  {
   "cell_type": "code",
   "execution_count": 47,
   "id": "80d18d2b-0313-433c-bb87-e7595d60cd73",
   "metadata": {},
   "outputs": [
    {
     "name": "stdout",
     "output_type": "stream",
     "text": [
      "Probability of travel more than 30 minutes 0.02\n"
     ]
    }
   ],
   "source": [
    "# Calculate the probability that a random variable will be less than or equal to the specified value\n",
    "duration_norm_dist  = st.norm(loc=mu, scale=sigma)\n",
    "prob = round(1 - duration_norm_dist.cdf(target_time), 2)\n",
    "\n",
    "print(f'Probability of travel more than 30 minutes {prob}')"
   ]
  },
  {
   "cell_type": "markdown",
   "id": "75ca01a4-97e6-4f67-bceb-f3e0b3b86de5",
   "metadata": {},
   "source": [
    "### Probability for interval (CDF)"
   ]
  },
  {
   "cell_type": "markdown",
   "id": "e2740623-969e-46f4-8482-bc63c360fe8b",
   "metadata": {},
   "source": [
    "The percentage of users for whom the discount will be shown is not large enough and is unlikely to help increase customer loyalty. Let's also check what percentage of users make trips in the interval from 20 to 30 minutes. Perhaps it is for them that the promotion should be held."
   ]
  },
  {
   "cell_type": "code",
   "execution_count": 48,
   "id": "79f84ec9-5945-4dd1-8926-5727c8e4ee7d",
   "metadata": {},
   "outputs": [
    {
     "name": "stdout",
     "output_type": "stream",
     "text": [
      "The probability that a user will take a trip lasting between 20 and 30 minutes is: 0.377\n"
     ]
    }
   ],
   "source": [
    "# Define the interval boundaries\n",
    "low = 20\n",
    "high = 30\n",
    "\n",
    "duration_norm_dist = st.norm(loc=mu, scale=sigma)\n",
    "\n",
    "# Calculate the probability of falling into the interval\n",
    "prob_interval = round(duration_norm_dist.cdf(high) - duration_norm_dist.cdf(low), 3)\n",
    "\n",
    "# Print the result\n",
    "print(f'The probability that a user will take a trip lasting between {low} and {high} minutes is: {prob_interval}')"
   ]
  },
  {
   "cell_type": "markdown",
   "id": "fe361f59-defb-493e-a32a-73e858154e41",
   "metadata": {},
   "source": [
    "### Determining the critical travel distance (PPF)\n",
    "Long trips can have a negative impact on the service life of a scooter. In this regard, it was decided to establish a critical distance, exceeding which will be accompanied by an additional fee. To do this, it is necessary to determine the distance that is exceeded only in 10% of trips (90th percentile)."
   ]
  },
  {
   "cell_type": "code",
   "execution_count": 49,
   "id": "c8727801-b8c7-4334-b600-722b9c0813f7",
   "metadata": {},
   "outputs": [
    {
     "name": "stdout",
     "output_type": "stream",
     "text": [
      "90.0 % of trips have a distance below the critical value 4501.94 M.\n"
     ]
    }
   ],
   "source": [
    "# Calculate the average value\n",
    "mu = df['distance'].mean()\n",
    "\n",
    "# Calculate the standard deviation\n",
    "sigma = df['distance'].std()\n",
    "\n",
    "# Probability for which we want to find the value (90% of cases)\n",
    "target_prob = 0.90\n",
    "\n",
    "# Create a normal distribution object\n",
    "distance_norm = st.norm(loc=mu, scale=sigma)\n",
    "\n",
    "# Calculate the critical distance for a given percentile of trips\n",
    "critical_distance = distance_norm.ppf(target_prob)\n",
    "\n",
    "print(f'{100 * target_prob} % of trips have a distance below the critical value {critical_distance:.2f} M.')"
   ]
  }
 ],
 "metadata": {
  "kernelspec": {
   "display_name": "Python 3 (ipykernel)",
   "language": "python",
   "name": "python3"
  },
  "language_info": {
   "codemirror_mode": {
    "name": "ipython",
    "version": 3
   },
   "file_extension": ".py",
   "mimetype": "text/x-python",
   "name": "python",
   "nbconvert_exporter": "python",
   "pygments_lexer": "ipython3",
   "version": "3.12.7"
  }
 },
 "nbformat": 4,
 "nbformat_minor": 5
}
